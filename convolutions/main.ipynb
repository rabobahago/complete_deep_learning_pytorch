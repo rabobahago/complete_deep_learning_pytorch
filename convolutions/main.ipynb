{
 "cells": [
  {
   "cell_type": "code",
   "execution_count": 1,
   "metadata": {},
   "outputs": [],
   "source": [
    "import numpy as np\n",
    "from sklearn.linear_model import LinearRegression\n",
    "import torch\n",
    "import torch.optim as optim\n",
    "import torch.nn as nn\n",
    "import datetime\n",
    "from torchviz import make_dot\n",
    "from torch.utils.data import Dataset, TensorDataset, DataLoader\n",
    "from torch.utils.data.dataset import random_split\n",
    "import torch.nn.functional as F\n",
    "# from data_generation.image_classication import generate_dataset\n",
    "from torch.utils.tensorboard import SummaryWriter\n",
    "import matplotlib.pyplot as plt\n",
    "%matplotlib inline\n",
    "plt.style.use('fivethirtyeight')"
   ]
  },
  {
   "cell_type": "code",
   "execution_count": 2,
   "metadata": {},
   "outputs": [],
   "source": [
    "class StepByStep(object):\n",
    "    def __init__(self, model, loss_fn, optimizer):\n",
    "        self.model = model\n",
    "        self.loss_fn = loss_fn\n",
    "        self.optimizer = optimizer\n",
    "        self.device = 'cuda' if torch.cuda.is_available() else 'cpu'\n",
    "        self.model.to(self.device)\n",
    "        self.losses = []\n",
    "        self.val_loss = []\n",
    "        self.epochs = 0\n",
    "        self.train_step_fn = self.train_step_fn()\n",
    "        self.val_step_fn = self.val_step_fn()\n",
    "    def to(self, device):\n",
    "        try:\n",
    "            self.device = device\n",
    "\n",
    "            self.model.to(self.device)\n",
    "\n",
    "        except RuntimeError:\n",
    "            self.device = 'cuda' if torch.cuda.is_available() else 'cpu'\n",
    "            print(\"can't send it to ${device}, sending to ${self.device} instead\")\n",
    "            self.model.to(self.device)\n",
    "            self.train_loader = None\n",
    "            self.valid_loader = None\n",
    "            self.writer = None\n",
    "    def set_loaders(self, train_loader, val_loader = None):\n",
    "        self.train_loader = train_loader\n",
    "        self.valid_loader = val_loader\n",
    "    def set_tensorboard(self, name, folder='runs'):\n",
    "        suffix = datetime.datetime.now().strftime('%Y%d%H%M%S')\n",
    "        self.writer = SummaryWriter(f'{folder}/{name}_{suffix}')"
   ]
  },
  {
   "cell_type": "code",
   "execution_count": 3,
   "metadata": {},
   "outputs": [
    {
     "data": {
      "text/plain": [
       "(1, 1, 6, 6)"
      ]
     },
     "execution_count": 3,
     "metadata": {},
     "output_type": "execute_result"
    }
   ],
   "source": [
    "#NCHW:: Number of sample : Channel : Height : Width\n",
    "single = np.array([[[[5, 0, 8, 7, 8, 1],\n",
    "                     [1, 9, 5, 0, 7, 7],\n",
    "                     [6, 0, 2, 4, 6, 6],\n",
    "                     [9, 7, 6, 6, 8, 4],\n",
    "                     [8, 3, 8, 5, 1, 3],\n",
    "                     [7, 2, 7, 0, 1, 0]]]])\n",
    "single.shape"
   ]
  },
  {
   "cell_type": "code",
   "execution_count": 4,
   "metadata": {},
   "outputs": [
    {
     "data": {
      "text/plain": [
       "(1, 1, 3, 3)"
      ]
     },
     "execution_count": 4,
     "metadata": {},
     "output_type": "execute_result"
    }
   ],
   "source": [
    "identity = np.array([[[[0, 0, 0],\n",
    "                       [0, 1, 0],\n",
    "                       [0, 0, 0]]]])\n",
    "identity.shape"
   ]
  },
  {
   "cell_type": "code",
   "execution_count": 5,
   "metadata": {},
   "outputs": [
    {
     "name": "stdout",
     "output_type": "stream",
     "text": [
      "region:: [[[[5 0 8]\n",
      "   [1 9 5]\n",
      "   [6 0 2]]]]\n",
      "after element-wise multiplication::  [[[[0 0 0]\n",
      "   [0 9 0]\n",
      "   [0 0 0]]]]\n",
      "total:: 9\n"
     ]
    }
   ],
   "source": [
    "region = single[:, :, 0:3, 0:3]\n",
    "print('region::', region)\n",
    "filter_region = region * identity\n",
    "print('after element-wise multiplication:: ', filter_region)\n",
    "total = filter_region.sum()\n",
    "total\n",
    "print('total::', total)"
   ]
  },
  {
   "cell_type": "code",
   "execution_count": 6,
   "metadata": {},
   "outputs": [],
   "source": [
    "image = torch.as_tensor(single).float()\n",
    "kernel_identity = torch.as_tensor(identity).float()"
   ]
  },
  {
   "cell_type": "code",
   "execution_count": 7,
   "metadata": {},
   "outputs": [
    {
     "data": {
      "text/plain": [
       "tensor([[[[9., 5., 0., 7.],\n",
       "          [0., 2., 4., 6.],\n",
       "          [7., 6., 6., 8.],\n",
       "          [3., 8., 5., 1.]]]])"
      ]
     },
     "execution_count": 7,
     "metadata": {},
     "output_type": "execute_result"
    }
   ],
   "source": [
    "convolved = F.conv2d(image, kernel_identity, stride=1)\n",
    "convolved"
   ]
  },
  {
   "cell_type": "code",
   "execution_count": 8,
   "metadata": {},
   "outputs": [
    {
     "data": {
      "text/plain": [
       "tensor([[[[-3.0320, -5.0933, -1.0802, -1.1762],\n",
       "          [-3.9790,  0.2137, -3.6081, -5.5315],\n",
       "          [-2.6562, -5.2238, -3.5981, -3.2906],\n",
       "          [-0.8202, -3.2799, -2.8878,  0.0581]]]],\n",
       "       grad_fn=<ConvolutionBackward0>)"
      ]
     },
     "execution_count": 8,
     "metadata": {},
     "output_type": "execute_result"
    }
   ],
   "source": [
    "convo = nn.Conv2d(in_channels=1, out_channels=1, kernel_size=3, stride=1)(image)\n",
    "convo"
   ]
  },
  {
   "cell_type": "code",
   "execution_count": 11,
   "metadata": {},
   "outputs": [
    {
     "data": {
      "text/plain": [
       "tensor([[[[ -5.3211,  -7.8240,  -9.7881,  -7.4611],\n",
       "          [ -6.6923,  -6.0765,  -7.4523,  -6.9460],\n",
       "          [ -8.7099,  -7.0304,  -6.1616,  -7.4394],\n",
       "          [-10.6734,  -7.7725,  -7.5443,  -6.0781]],\n",
       "\n",
       "         [[  2.8981,  -3.0997,  -1.8501,   1.8219],\n",
       "          [ -1.4432,   0.9954,   2.7486,   1.5626],\n",
       "          [  2.5167,   2.2655,   2.2716,   0.0851],\n",
       "          [ -0.7554,   0.8644,  -2.0244,  -3.2278]]]],\n",
       "       grad_fn=<ConvolutionBackward0>)"
      ]
     },
     "execution_count": 11,
     "metadata": {},
     "output_type": "execute_result"
    }
   ],
   "source": [
    "conv_multiple = nn.Conv2d(in_channels=1, out_channels=2, kernel_size=3, stride=1)(image)\n",
    "conv_multiple"
   ]
  },
  {
   "cell_type": "code",
   "execution_count": null,
   "metadata": {},
   "outputs": [],
   "source": []
  }
 ],
 "metadata": {
  "kernelspec": {
   "display_name": "Python 3",
   "language": "python",
   "name": "python3"
  },
  "language_info": {
   "codemirror_mode": {
    "name": "ipython",
    "version": 3
   },
   "file_extension": ".py",
   "mimetype": "text/x-python",
   "name": "python",
   "nbconvert_exporter": "python",
   "pygments_lexer": "ipython3",
   "version": "3.10.9"
  }
 },
 "nbformat": 4,
 "nbformat_minor": 2
}
