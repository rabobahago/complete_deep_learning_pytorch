{
 "cells": [
  {
   "cell_type": "code",
   "execution_count": 1,
   "metadata": {},
   "outputs": [],
   "source": [
    "import numpy as np\n",
    "from sklearn.linear_model import LinearRegression\n",
    "import torch\n",
    "import torch.optim as optim\n",
    "import torch.nn as nn\n",
    "import datetime\n",
    "from torchviz import make_dot\n",
    "from torch.utils.data import Dataset, TensorDataset, DataLoader\n",
    "from torch.utils.data.dataset import random_split\n",
    "import torch.nn.functional as F\n",
    "# from data_generation.image_classication import generate_dataset\n",
    "from torch.utils.tensorboard import SummaryWriter\n",
    "import matplotlib.pyplot as plt\n",
    "%matplotlib inline\n",
    "plt.style.use('fivethirtyeight')"
   ]
  },
  {
   "cell_type": "code",
   "execution_count": 2,
   "metadata": {},
   "outputs": [],
   "source": [
    "class StepByStep(object):\n",
    "    def __init__(self, model, loss_fn, optimizer):\n",
    "        self.model = model\n",
    "        self.loss_fn = loss_fn\n",
    "        self.optimizer = optimizer\n",
    "        self.device = 'cuda' if torch.cuda.is_available() else 'cpu'\n",
    "        self.model.to(self.device)\n",
    "        self.losses = []\n",
    "        self.val_loss = []\n",
    "        self.epochs = 0\n",
    "        self.train_step_fn = self.train_step_fn()\n",
    "        self.val_step_fn = self.val_step_fn()\n",
    "    def to(self, device):\n",
    "        try:\n",
    "            self.device = device\n",
    "\n",
    "            self.model.to(self.device)\n",
    "\n",
    "        except RuntimeError:\n",
    "            self.device = 'cuda' if torch.cuda.is_available() else 'cpu'\n",
    "            print(\"can't send it to ${device}, sending to ${self.device} instead\")\n",
    "            self.model.to(self.device)\n",
    "            self.train_loader = None\n",
    "            self.valid_loader = None\n",
    "            self.writer = None\n",
    "    def set_loaders(self, train_loader, val_loader = None):\n",
    "        self.train_loader = train_loader\n",
    "        self.valid_loader = val_loader\n",
    "    def set_tensorboard(self, name, folder='runs'):\n",
    "        suffix = datetime.datetime.now().strftime('%Y%d%H%M%S')\n",
    "        self.writer = SummaryWriter(f'{folder}/{name}_{suffix}')"
   ]
  },
  {
   "cell_type": "code",
   "execution_count": 3,
   "metadata": {},
   "outputs": [
    {
     "data": {
      "text/plain": [
       "(1, 1, 6, 6)"
      ]
     },
     "execution_count": 3,
     "metadata": {},
     "output_type": "execute_result"
    }
   ],
   "source": [
    "#NCHW:: Number of sample : Channel : Height : Width\n",
    "single = np.array([[[[5, 0, 8, 7, 8, 1],\n",
    "                     [1, 9, 5, 0, 7, 7],\n",
    "                     [6, 0, 2, 4, 6, 6],\n",
    "                     [9, 7, 6, 6, 8, 4],\n",
    "                     [8, 3, 8, 5, 1, 3],\n",
    "                     [7, 2, 7, 0, 1, 0]]]])\n",
    "single.shape"
   ]
  },
  {
   "cell_type": "code",
   "execution_count": 4,
   "metadata": {},
   "outputs": [
    {
     "data": {
      "text/plain": [
       "(1, 1, 3, 3)"
      ]
     },
     "execution_count": 4,
     "metadata": {},
     "output_type": "execute_result"
    }
   ],
   "source": [
    "identity = np.array([[[[0, 0, 0],\n",
    "                       [0, 1, 0],\n",
    "                       [0, 0, 0]]]])\n",
    "identity.shape"
   ]
  },
  {
   "cell_type": "code",
   "execution_count": 6,
   "metadata": {},
   "outputs": [
    {
     "name": "stdout",
     "output_type": "stream",
     "text": [
      "region:: [[[[5 0 8]\n",
      "   [1 9 5]\n",
      "   [6 0 2]]]]\n",
      "after element-wise multiplication::  [[[[0 0 0]\n",
      "   [0 9 0]\n",
      "   [0 0 0]]]]\n",
      "total:: 9\n"
     ]
    }
   ],
   "source": [
    "region = single[:, :, 0:3, 0:3]\n",
    "print('region::', region)\n",
    "filter_region = region * identity\n",
    "print('after element-wise multiplication:: ', filter_region)\n",
    "total = filter_region.sum()\n",
    "total\n",
    "print('total::', total)"
   ]
  },
  {
   "cell_type": "code",
   "execution_count": 8,
   "metadata": {},
   "outputs": [],
   "source": [
    "image = torch.as_tensor(single).float()\n",
    "kernel_identity = torch.as_tensor(identity).float()"
   ]
  },
  {
   "cell_type": "code",
   "execution_count": 9,
   "metadata": {},
   "outputs": [
    {
     "data": {
      "text/plain": [
       "tensor([[[[9., 5., 0., 7.],\n",
       "          [0., 2., 4., 6.],\n",
       "          [7., 6., 6., 8.],\n",
       "          [3., 8., 5., 1.]]]])"
      ]
     },
     "execution_count": 9,
     "metadata": {},
     "output_type": "execute_result"
    }
   ],
   "source": [
    "convolved = F.conv2d(image, kernel_identity, stride=1)\n",
    "convolved"
   ]
  },
  {
   "cell_type": "code",
   "execution_count": 10,
   "metadata": {},
   "outputs": [
    {
     "data": {
      "text/plain": [
       "tensor([[[[ 0.4430,  3.6010,  1.0918,  2.1196],\n",
       "          [ 2.6515, -0.0436,  0.5682,  2.6184],\n",
       "          [ 2.6814,  2.3326,  1.8248,  2.7297],\n",
       "          [ 2.6673, -0.2268,  1.2149,  0.7308]]]],\n",
       "       grad_fn=<ConvolutionBackward0>)"
      ]
     },
     "execution_count": 10,
     "metadata": {},
     "output_type": "execute_result"
    }
   ],
   "source": [
    "convo = nn.Conv2d(in_channels=1, out_channels=1, kernel_size=3, stride=1)(image)\n",
    "convo"
   ]
  },
  {
   "cell_type": "code",
   "execution_count": 11,
   "metadata": {},
   "outputs": [
    {
     "data": {
      "text/plain": [
       "tensor([[[[-2.4775,  0.3060, -1.8897, -0.4312],\n",
       "          [-0.2428, -0.7374, -2.3525, -0.1082],\n",
       "          [-0.5334,  0.9730, -0.0105, -0.7030],\n",
       "          [-1.7993,  0.8285, -0.7703,  0.1730]],\n",
       "\n",
       "         [[ 0.4435, -2.5179, -2.1540, -0.0429],\n",
       "          [-0.8305,  1.3972,  1.5624, -0.4722],\n",
       "          [ 0.3975,  0.3355, -0.9774, -1.5948],\n",
       "          [-2.4740,  0.2556, -1.6433, -2.7288]]]],\n",
       "       grad_fn=<ConvolutionBackward0>)"
      ]
     },
     "execution_count": 11,
     "metadata": {},
     "output_type": "execute_result"
    }
   ],
   "source": [
    "conv_multiple = nn.Conv2d(in_channels=1, out_channels=2, kernel_size=3, stride=1)(image)\n",
    "conv_multiple"
   ]
  },
  {
   "cell_type": "code",
   "execution_count": 13,
   "metadata": {},
   "outputs": [
    {
     "data": {
      "text/plain": [
       "tensor([[[[9., 0.],\n",
       "          [7., 6.]]]])"
      ]
     },
     "execution_count": 13,
     "metadata": {},
     "output_type": "execute_result"
    }
   ],
   "source": [
    "convolved_stride2 = F.conv2d(image, kernel_identity, stride=2)\n",
    "convolved_stride2"
   ]
  },
  {
   "cell_type": "code",
   "execution_count": 14,
   "metadata": {},
   "outputs": [
    {
     "data": {
      "text/plain": [
       "tensor([[[[0., 0., 0., 0., 0., 0., 0., 0.],\n",
       "          [0., 5., 0., 8., 7., 8., 1., 0.],\n",
       "          [0., 1., 9., 5., 0., 7., 7., 0.],\n",
       "          [0., 6., 0., 2., 4., 6., 6., 0.],\n",
       "          [0., 9., 7., 6., 6., 8., 4., 0.],\n",
       "          [0., 8., 3., 8., 5., 1., 3., 0.],\n",
       "          [0., 7., 2., 7., 0., 1., 0., 0.],\n",
       "          [0., 0., 0., 0., 0., 0., 0., 0.]]]])"
      ]
     },
     "execution_count": 14,
     "metadata": {},
     "output_type": "execute_result"
    }
   ],
   "source": [
    "constant_padder = nn.ConstantPad2d(padding=1, value=0)\n",
    "constant_padder(image)"
   ]
  },
  {
   "cell_type": "code",
   "execution_count": 17,
   "metadata": {},
   "outputs": [
    {
     "data": {
      "text/plain": [
       "tensor([[[[0., 0., 0., 0., 0., 0., 0., 0.],\n",
       "          [0., 5., 0., 8., 7., 8., 1., 0.],\n",
       "          [0., 1., 9., 5., 0., 7., 7., 0.],\n",
       "          [0., 6., 0., 2., 4., 6., 6., 0.],\n",
       "          [0., 9., 7., 6., 6., 8., 4., 0.],\n",
       "          [0., 8., 3., 8., 5., 1., 3., 0.],\n",
       "          [0., 7., 2., 7., 0., 1., 0., 0.],\n",
       "          [0., 0., 0., 0., 0., 0., 0., 0.]]]])"
      ]
     },
     "execution_count": 17,
     "metadata": {},
     "output_type": "execute_result"
    }
   ],
   "source": [
    "padded = F.pad(image, pad=(1, 1, 1, 1), mode=\"constant\", value=0)\n",
    "padded"
   ]
  },
  {
   "cell_type": "code",
   "execution_count": null,
   "metadata": {},
   "outputs": [],
   "source": []
  }
 ],
 "metadata": {
  "kernelspec": {
   "display_name": "Python 3",
   "language": "python",
   "name": "python3"
  },
  "language_info": {
   "codemirror_mode": {
    "name": "ipython",
    "version": 3
   },
   "file_extension": ".py",
   "mimetype": "text/x-python",
   "name": "python",
   "nbconvert_exporter": "python",
   "pygments_lexer": "ipython3",
   "version": "3.10.9"
  }
 },
 "nbformat": 4,
 "nbformat_minor": 2
}
