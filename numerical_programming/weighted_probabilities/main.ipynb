{
 "cells": [
  {
   "cell_type": "code",
   "execution_count": 1,
   "metadata": {},
   "outputs": [
    {
     "name": "stdout",
     "output_type": "stream",
     "text": [
      "h\n",
      "philosopher\n",
      "intermediate\n",
      "The dice shows:  4\n",
      "The two dice show:  [1, 2]\n"
     ]
    }
   ],
   "source": [
    "from random import choice, sample\n",
    "\n",
    "print(choice(\"abcdefghij\"))\n",
    "\n",
    "professions = [\"scientist\", \"philosopher\", \"engineer\", \"priest\"]\n",
    "print(choice(professions))\n",
    "\n",
    "print(choice((\"beginner\", \"intermediate\", \"advanced\")))\n",
    "\n",
    "# rolling one die\n",
    "x = choice(range(1, 7))\n",
    "print(\"The dice shows: \" , str(x))\n",
    "\n",
    "# rolling two dice:\n",
    "dice = sample(range(1, 7), 2)\n",
    "print(\"The two dice show: \" , str(dice))"
   ]
  },
  {
   "cell_type": "markdown",
   "metadata": {},
   "source": [
    "### Weighted Random Choices"
   ]
  },
  {
   "cell_type": "code",
   "execution_count": 2,
   "metadata": {},
   "outputs": [
    {
     "name": "stdout",
     "output_type": "stream",
     "text": [
      "[0, 0.2, 0.7, 1.0]\n"
     ]
    }
   ],
   "source": [
    "import numpy as np\n",
    "\n",
    "weights = [0.2, 0.5, 0.3]\n",
    "cum_weights = [0] + list(np.cumsum(weights))\n",
    "print(cum_weights)"
   ]
  },
  {
   "cell_type": "code",
   "execution_count": 3,
   "metadata": {},
   "outputs": [
    {
     "data": {
      "text/plain": [
       "'engineer'"
      ]
     },
     "execution_count": 3,
     "metadata": {},
     "output_type": "execute_result"
    }
   ],
   "source": [
    "from numpy.random import choice\n",
    "\n",
    "professions = [\"scientist\",\n",
    "               \"philosopher\",\n",
    "               \"engineer\",\n",
    "               \"priest\",\n",
    "               \"programmer\"]\n",
    "\n",
    "probabilities = [0.2, 0.05, 0.3, 0.15, 0.3]\n",
    "\n",
    "choice(professions, p=probabilities)"
   ]
  },
  {
   "cell_type": "code",
   "execution_count": 6,
   "metadata": {},
   "outputs": [
    {
     "name": "stdout",
     "output_type": "stream",
     "text": [
      "['blue', 'green', 'orange']\n",
      "['blue', 'green', 'black']\n",
      "['blue', 'green', 'red']\n",
      "['blue', 'green', 'orange']\n",
      "['black', 'orange', 'yellow']\n",
      "['green', 'white', 'orange']\n",
      "['blue', 'pink', 'green']\n",
      "['black', 'white', 'orange']\n",
      "['blue', 'pink', 'green']\n",
      "['black', 'orange', 'yellow']\n"
     ]
    }
   ],
   "source": [
    "import numpy as np\n",
    "\n",
    "import random\n",
    "\n",
    "def weighted_choice(objects, weights):\n",
    "    \"\"\" returns randomly an element from the sequence of 'objects',\n",
    "        the likelihood of the objects is weighted according\n",
    "        to the sequence of 'weights', i.e. percentages.\"\"\"\n",
    "\n",
    "    weights = np.array(weights, dtype=np.float64)\n",
    "    sum_of_weights = weights.sum()\n",
    "    # standardization:\n",
    "    np.multiply(weights, 1 / sum_of_weights, weights)\n",
    "    weights = weights.cumsum()\n",
    "    x = random.random()\n",
    "    for i in range(len(weights)):\n",
    "        if x < weights[i]:\n",
    "            return objects[i]\n",
    "def weighted_sample(population, weights, k):\n",
    "    \"\"\"\n",
    "    This function draws a random sample (without repeats)\n",
    "    of length k     from the sequence 'population' according\n",
    "    to the list of weights\n",
    "    \"\"\"\n",
    "    sample = set()\n",
    "    population = list(population)\n",
    "    weights = list(weights)\n",
    "    while len(sample) < k:\n",
    "        choice = weighted_choice(population, weights)\n",
    "        sample.add(choice)\n",
    "        index = population.index(choice)\n",
    "        weights.pop(index)\n",
    "        population.remove(choice)\n",
    "        weights = [ x / sum(weights) for x in weights]\n",
    "    return list(sample)\n",
    "candies = [\"red\", \"green\", \"blue\", \"yellow\", \"black\", \"white\", \"pink\", \"orange\"]\n",
    "weights = [ 1/24, 1/6, 1/6, 1/12, 1/12, 1/24, 1/8, 7/24]\n",
    "for i in range(10):\n",
    "    print(weighted_sample(candies, weights, 3))"
   ]
  },
  {
   "cell_type": "code",
   "execution_count": null,
   "metadata": {},
   "outputs": [],
   "source": []
  }
 ],
 "metadata": {
  "kernelspec": {
   "display_name": "base",
   "language": "python",
   "name": "python3"
  },
  "language_info": {
   "codemirror_mode": {
    "name": "ipython",
    "version": 3
   },
   "file_extension": ".py",
   "mimetype": "text/x-python",
   "name": "python",
   "nbconvert_exporter": "python",
   "pygments_lexer": "ipython3",
   "version": "3.10.9"
  }
 },
 "nbformat": 4,
 "nbformat_minor": 2
}
