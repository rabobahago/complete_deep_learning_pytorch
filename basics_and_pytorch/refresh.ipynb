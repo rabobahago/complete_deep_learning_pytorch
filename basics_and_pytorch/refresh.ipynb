{
 "cells": [
  {
   "cell_type": "code",
   "execution_count": 13,
   "metadata": {},
   "outputs": [
    {
     "name": "stdout",
     "output_type": "stream",
     "text": [
      "Tensor a: tensor([6, 7])\n",
      "Tensor b tensor([[2, 4],\n",
      "        [5, 8]])\n",
      "Tensor c tensor([[1., 1., 1.],\n",
      "        [1., 1., 1.]], dtype=torch.float64)\n"
     ]
    }
   ],
   "source": [
    "import torch\n",
    "import numpy as np\n",
    "a = torch.tensor([6, 7])\n",
    "b = torch.tensor(((2, 4), (5, 8)))\n",
    "c = torch.tensor(np.ones((2, 3)))\n",
    "print(f'Tensor a:', a)\n",
    "print(f'Tensor b', b)\n",
    "print(f'Tensor c', c)"
   ]
  },
  {
   "cell_type": "code",
   "execution_count": 19,
   "metadata": {},
   "outputs": [
    {
     "name": "stdout",
     "output_type": "stream",
     "text": [
      "Tensor x tensor([[1., 1., 1.],\n",
      "        [1., 1., 1.]])\n",
      "Tensor y tensor([[0., 0., 0.],\n",
      "        [0., 0., 0.]])\n",
      "Tensor z tensor([[6.2450e-39, 1.0653e-38, 8.4490e-39],\n",
      "        [1.0194e-38, 8.9082e-39, 8.4490e-39]])\n"
     ]
    }
   ],
   "source": [
    "x = torch.ones((2, 3))\n",
    "y = torch.zeros(2, 3)\n",
    "z = torch.empty((2, 3))\n",
    "print(f'Tensor x', x)\n",
    "print(f'Tensor y', y)\n",
    "print(f'Tensor z', z)"
   ]
  },
  {
   "cell_type": "code",
   "execution_count": 28,
   "metadata": {},
   "outputs": [
    {
     "name": "stdout",
     "output_type": "stream",
     "text": [
      "Tensor a tensor([[0.9375, 0.9106, 0.1144]])\n",
      "Tensor b tensor([[ 0.7794, -0.9062,  0.3897,  0.6481],\n",
      "        [ 1.0483,  0.9488,  0.3928,  1.3814],\n",
      "        [ 0.6748, -1.0393, -0.5039, -1.0821]])\n",
      "Tensor c tensor([[0.1484, 0.3823, 0.2099]])\n",
      "Tensor d tensor([[-0.0285,  0.1036,  1.2678, -0.7225],\n",
      "        [ 0.4156, -0.5506,  0.7180,  0.9685],\n",
      "        [ 0.8777,  0.0036,  0.9915, -0.9978]])\n",
      "Tensor e tensor([[9.1477e-41, 0.0000e+00, 5.6052e-45]])\n"
     ]
    }
   ],
   "source": [
    "a = torch.rand(1, 3)\n",
    "b = torch.randn(3, 4)\n",
    "c = torch.rand_like(a)\n",
    "d = torch.randn_like(b)\n",
    "e = torch.empty_like(a)\n",
    "print(f'Tensor a', a)\n",
    "print(f'Tensor b', b)\n",
    "print(f'Tensor c', c)\n",
    "print(f'Tensor d', d)\n",
    "print(f'Tensor e', e)"
   ]
  },
  {
   "cell_type": "code",
   "execution_count": 29,
   "metadata": {},
   "outputs": [],
   "source": [
    "import random\n",
    "def set_seed(seed=None, seed_torch=True):\n",
    "    \"\"\"\n",
    "    Function that controls randomness. NumPy and random modules must be imported.\n",
    "\n",
    "    Args:\n",
    "        seed : Integer\n",
    "        A non-negative integer that defines the random state. Default is `None`.\n",
    "        seed_torch : Boolean\n",
    "        If `True` sets the random seed for pytorch tensors, so pytorch module\n",
    "        must be imported. Default is `True`.\n",
    "\n",
    "    Returns:\n",
    "        Nothing.\n",
    "    \"\"\"\n",
    "    if seed is None:\n",
    "        seed = np.random.choice(2 ** 32)\n",
    "    random.seed(seed)\n",
    "    np.random.seed(seed)\n",
    "    if seed_torch:\n",
    "        torch.manual_seed(seed)\n",
    "        torch.cuda.manual_seed_all(seed)\n",
    "        torch.cuda.manual_seed(seed)\n",
    "        torch.backends.cudnn.benchmark = False\n",
    "        torch.backends.cudnn.deterministic = True\n",
    "\n",
    "    print(f'Random seed {seed} has been set.')"
   ]
  },
  {
   "cell_type": "code",
   "execution_count": 33,
   "metadata": {},
   "outputs": [],
   "source": [
    "def simplefun(seed=True, my_seed=None):\n",
    "  \"\"\"\n",
    "  Helper function to verify effectiveness of set_seed attribute\n",
    "\n",
    "  Args:\n",
    "    seed: Boolean\n",
    "      Specifies if seed value is provided or not\n",
    "    my_seed: Integer\n",
    "      Initializes seed to specified value\n",
    "\n",
    "  Returns:\n",
    "    Nothing\n",
    "  \"\"\"\n",
    "  if seed:\n",
    "    set_seed(seed=my_seed)\n",
    "\n",
    "  # uniform distribution\n",
    "  a = torch.rand(1, 3)\n",
    "  # normal distribution\n",
    "  b = torch.randn(3, 4)\n",
    "\n",
    "  print(\"Tensor a: \", a)\n",
    "  print(\"Tensor b: \", b)"
   ]
  },
  {
   "cell_type": "code",
   "execution_count": 34,
   "metadata": {},
   "outputs": [
    {
     "name": "stdout",
     "output_type": "stream",
     "text": [
      "Random seed 0 has been set.\n",
      "Tensor a:  tensor([[0.4963, 0.7682, 0.0885]])\n",
      "Tensor b:  tensor([[ 0.3643,  0.1344,  0.1642,  0.3058],\n",
      "        [ 0.2100,  0.9056,  0.6035,  0.8110],\n",
      "        [-0.0451,  0.8797,  1.0482, -0.0445]])\n"
     ]
    }
   ],
   "source": [
    "simplefun(seed=True, my_seed=0)  # Turn `seed` to `False` or change `my_seed`\n"
   ]
  },
  {
   "cell_type": "code",
   "execution_count": 43,
   "metadata": {},
   "outputs": [
    {
     "name": "stdout",
     "output_type": "stream",
     "text": [
      "Numpy x: [ 1  3  5  7  9 11 13 15 17 19 21]\n"
     ]
    }
   ],
   "source": [
    "x = np.arange(1, 22, 2)\n",
    "print(f'Numpy x: {x}')"
   ]
  },
  {
   "cell_type": "code",
   "execution_count": 44,
   "metadata": {},
   "outputs": [
    {
     "name": "stdout",
     "output_type": "stream",
     "text": [
      "Torch x: tensor([ 1,  3,  5,  7,  9, 11, 13, 15, 17, 19, 21])\n"
     ]
    }
   ],
   "source": [
    "x = torch.arange(1, 22, 2)\n",
    "print(f'Torch x: {x}')"
   ]
  },
  {
   "cell_type": "code",
   "execution_count": 45,
   "metadata": {},
   "outputs": [
    {
     "name": "stdout",
     "output_type": "stream",
     "text": [
      "Numpy y: [1.         1.44444444 1.88888889 2.33333333 2.77777778 3.22222222\n",
      " 3.66666667 4.11111111 4.55555556 5.        ]\n"
     ]
    }
   ],
   "source": [
    "y = np.linspace(1, 5, 10)\n",
    "print(f'Numpy y: {y}')"
   ]
  },
  {
   "cell_type": "code",
   "execution_count": 47,
   "metadata": {},
   "outputs": [
    {
     "name": "stdout",
     "output_type": "stream",
     "text": [
      "Torch y: tensor([1.0000, 1.4444, 1.8889, 2.3333, 2.7778, 3.2222, 3.6667, 4.1111, 4.5556,\n",
      "        5.0000])\n"
     ]
    }
   ],
   "source": [
    "y = torch.linspace(1, 5, 10)\n",
    "print(f'Torch y: {y}')"
   ]
  },
  {
   "cell_type": "code",
   "execution_count": 60,
   "metadata": {},
   "outputs": [
    {
     "name": "stdout",
     "output_type": "stream",
     "text": [
      "tensor([[1., 1., 1.],\n",
      "        [1., 1., 1.]])\n",
      "tensor([[ 1,  1,  1,  1],\n",
      "        [ 8,  4,  2,  1],\n",
      "        [27,  9,  3,  1]], dtype=torch.int32)\n",
      "tensor([[0., 0., 0.]])\n",
      "tensor([ 2,  4,  6,  8, 10, 12, 14, 16, 18, 20, 22, 24, 26, 28, 30, 32, 34, 36,\n",
      "        38, 40])\n"
     ]
    }
   ],
   "source": [
    "def tensor_creation(Z):\n",
    "    \"\"\"\n",
    "    A function that creates various tensors.\n",
    "\n",
    "    Args:\n",
    "        Z: numpy.ndarray\n",
    "        An array of shape (3,4)\n",
    "\n",
    "    Returns:\n",
    "        A : Tensor\n",
    "        2 by 3 tensor consisting of ones\n",
    "        B : Tensor\n",
    "        A tensor with elements equal to the elements of numpy array Z\n",
    "        C : Tensor\n",
    "        A tensor with the same number of elements as A but with values ∼U(0,1)\n",
    "        D : Tensor\n",
    "        A 1D tensor containing the even numbers between 4 and 40 inclusive.\n",
    "    \"\"\"\n",
    "\n",
    "\n",
    "    # raise NotImplementedError(\"Student exercise: say what they should have done\")\n",
    "\n",
    "    A = torch.ones((2, 3))\n",
    "    B = torch.tensor(Z)\n",
    "    C = torch.zeros_like(a)\n",
    "    D = torch.arange(2, 41, 2)\n",
    "\n",
    "    return A, B, C, D\n",
    "\n",
    "\n",
    "# numpy array to copy later\n",
    "Z = np.vander([1, 2, 3], 4)\n",
    "\n",
    "# Uncomment below to check your function!\n",
    "A, B, C, D = tensor_creation(Z)\n",
    "print(A)\n",
    "print(B)\n",
    "print(C)\n",
    "print(D)\n"
   ]
  },
  {
   "cell_type": "code",
   "execution_count": 66,
   "metadata": {},
   "outputs": [
    {
     "name": "stdout",
     "output_type": "stream",
     "text": [
      "Tensor a: tensor([[2., 3., 4.]])\n"
     ]
    }
   ],
   "source": [
    "x = torch.tensor(np.array([2, 3, 4]))\n",
    "y = torch.ones(1, 3)\n",
    "torch.multiply(x, y, out=a)\n",
    "print(f'Tensor a: {a}')"
   ]
  },
  {
   "cell_type": "code",
   "execution_count": 67,
   "metadata": {},
   "outputs": [
    {
     "name": "stdout",
     "output_type": "stream",
     "text": [
      "tensor([[1.0362, 1.1852, 1.3734],\n",
      "        [1.3051, 1.9320, 1.1759],\n",
      "        [1.2698, 1.1507, 1.0317],\n",
      "        [1.2081, 1.9298, 1.7231],\n",
      "        [1.7423, 1.5263, 1.2437]])\n",
      "tensor([[0.0362, 0.1852, 0.3734],\n",
      "        [0.3051, 0.9320, 0.1759],\n",
      "        [0.2698, 0.1507, 0.0317],\n",
      "        [0.2081, 0.9298, 0.7231],\n",
      "        [0.7423, 0.5263, 0.2437]])\n"
     ]
    }
   ],
   "source": [
    "a = torch.ones(5, 3)\n",
    "b = torch.rand(5, 3)\n",
    "c = torch.empty(5, 3)\n",
    "d = torch.empty(5, 3)\n",
    "\n",
    "# this only works if c and d already exist\n",
    "torch.add(a, b, out=c)\n",
    "\n",
    "# Pointwise Multiplication of a and b\n",
    "torch.multiply(a, b, out=d)\n",
    "\n",
    "print(c)\n",
    "print(d)"
   ]
  },
  {
   "cell_type": "code",
   "execution_count": 68,
   "metadata": {},
   "outputs": [
    {
     "data": {
      "text/plain": [
       "tensor([[1.0362, 1.1852, 1.3734],\n",
       "        [1.3051, 1.9320, 1.1759],\n",
       "        [1.2698, 1.1507, 1.0317],\n",
       "        [1.2081, 1.9298, 1.7231],\n",
       "        [1.7423, 1.5263, 1.2437]])"
      ]
     },
     "execution_count": 68,
     "metadata": {},
     "output_type": "execute_result"
    }
   ],
   "source": [
    "a + b"
   ]
  },
  {
   "cell_type": "code",
   "execution_count": 70,
   "metadata": {},
   "outputs": [
    {
     "name": "stdout",
     "output_type": "stream",
     "text": [
      "tensor([[0.9971, 0.6984, 0.5675],\n",
      "        [0.8352, 0.2056, 0.5932],\n",
      "        [0.1123, 0.1535, 0.2417]])\n",
      "\n",
      "\n",
      "Sum of every element of x: 4.404580116271973\n",
      "Sum of the columns of x: tensor([1.9447, 1.0575, 1.4024])\n",
      "Sum of the rows of x: tensor([2.2631, 1.6340, 0.5075])\n",
      "\n",
      "\n",
      "Mean value of all elements of x 0.489397794008255\n",
      "Mean values of the columns of x tensor([0.6482, 0.3525, 0.4675])\n",
      "Mean values of the rows of x tensor([0.7544, 0.5447, 0.1692])\n"
     ]
    }
   ],
   "source": [
    "x = torch.rand(3, 3)\n",
    "print(x)\n",
    "print(\"\\n\")\n",
    "# sum() - note the axis is the axis you move across when summing\n",
    "print(f\"Sum of every element of x: {x.sum()}\")\n",
    "print(f\"Sum of the columns of x: {x.sum(axis=0)}\")\n",
    "print(f\"Sum of the rows of x: {x.sum(axis=1)}\")\n",
    "print(\"\\n\")\n",
    "\n",
    "print(f\"Mean value of all elements of x {x.mean()}\")\n",
    "print(f\"Mean values of the columns of x {x.mean(axis=0)}\")\n",
    "print(f\"Mean values of the rows of x {x.mean(axis=1)}\")\n"
   ]
  },
  {
   "cell_type": "code",
   "execution_count": 79,
   "metadata": {},
   "outputs": [
    {
     "name": "stdout",
     "output_type": "stream",
     "text": [
      "tensor([[20, 24],\n",
      "        [31, 27]])\n"
     ]
    }
   ],
   "source": [
    "def simple_operations(a1: torch.Tensor, a2: torch.Tensor, a3: torch.Tensor):\n",
    "    \"\"\"\n",
    "    Helper function to demonstrate simple operations\n",
    "    i.e., Multiplication of tensor a1 with tensor a2 and then add it with tensor a3\n",
    "\n",
    "    Args:\n",
    "        a1: Torch tensor\n",
    "        Tensor of size ([2,2])\n",
    "        a2: Torch tensor\n",
    "        Tensor of size ([2,2])\n",
    "        a3: Torch tensor\n",
    "        Tensor of size ([2,2])\n",
    "\n",
    "    Returns:\n",
    "        answer: Torch tensor\n",
    "        Tensor of size ([2,2]) resulting from a1 multiplied with a2, added with a3\n",
    "    \"\"\"\n",
    "\n",
    "\n",
    "    answer = a1 @ a2 + a3\n",
    "    return answer\n",
    "\n",
    "\n",
    "# Computing expression 1:\n",
    "\n",
    "# init our tensors\n",
    "a1 = torch.tensor([[2, 4], [5, 7]])\n",
    "a2 = torch.tensor([[1, 1], [2, 3]])\n",
    "a3 = torch.tensor([[10, 10], [12, 1]])\n",
    "## uncomment to test your function\n",
    "A = simple_operations(a1, a2, a3)\n",
    "print(A)"
   ]
  },
  {
   "cell_type": "code",
   "execution_count": 87,
   "metadata": {},
   "outputs": [
    {
     "name": "stdout",
     "output_type": "stream",
     "text": [
      "tensor(82)\n"
     ]
    }
   ],
   "source": [
    "def dot_product(b1: torch.Tensor, b2: torch.Tensor):\n",
    "\n",
    "    \"\"\"\n",
    "    Helper function to demonstrate dot product operation\n",
    "    Dot product is an algebraic operation that takes two equal-length sequences\n",
    "    (usually coordinate vectors), and returns a single number.\n",
    "    Geometrically, it is the product of the Euclidean magnitudes of the\n",
    "    two vectors and the cosine of the angle between them.\n",
    "\n",
    "    Args:\n",
    "        b1: Torch tensor\n",
    "        Tensor of size ([3])\n",
    "        b2: Torch tensor\n",
    "        Tensor of size ([3])\n",
    "\n",
    "    Returns:\n",
    "        product: Tensor\n",
    "        Tensor of size ([1]) resulting from b1 scalar multiplied with b2\n",
    "    \"\"\"\n",
    "    # Use torch.dot() to compute the dot product of two tensors\n",
    "    product = b1.dot(b2)\n",
    "\n",
    "    return product\n",
    "\n",
    "\n",
    "# Computing expression 2:\n",
    "b1 = torch.tensor([3, 5, 7])\n",
    "b2 = torch.tensor([2, 4, 8])\n",
    "## Uncomment to test your function\n",
    "b = dot_product(b1, b2)\n",
    "print(b)"
   ]
  },
  {
   "cell_type": "code",
   "execution_count": 95,
   "metadata": {},
   "outputs": [
    {
     "name": "stdout",
     "output_type": "stream",
     "text": [
      "x[0] shape: torch.Size([2, 3, 4, 5])\n",
      "x[0][0]: torch.Size([3, 4, 5])\n"
     ]
    }
   ],
   "source": [
    "x = torch.rand(1, 2, 3, 4, 5)\n",
    "print(f'x[0] shape: {x[0].shape}')\n",
    "print(f'x[0][0]: {x[0][0].shape}')"
   ]
  },
  {
   "cell_type": "code",
   "execution_count": 97,
   "metadata": {},
   "outputs": [
    {
     "data": {
      "text/plain": [
       "tensor([[ 0,  1,  2,  3],\n",
       "        [ 4,  5,  6,  7],\n",
       "        [ 8,  9, 10, 11]])"
      ]
     },
     "execution_count": 97,
     "metadata": {},
     "output_type": "execute_result"
    }
   ],
   "source": [
    "x = torch.arange(0, 12).reshape(3, 4)\n",
    "x"
   ]
  },
  {
   "cell_type": "code",
   "execution_count": 99,
   "metadata": {},
   "outputs": [
    {
     "data": {
      "text/plain": [
       "tensor([ 0,  1,  2,  3,  4,  5,  6,  7,  8,  9, 10, 11])"
      ]
     },
     "execution_count": 99,
     "metadata": {},
     "output_type": "execute_result"
    }
   ],
   "source": [
    "z = x.flatten()\n",
    "z"
   ]
  },
  {
   "cell_type": "code",
   "execution_count": 107,
   "metadata": {},
   "outputs": [
    {
     "name": "stdout",
     "output_type": "stream",
     "text": [
      "tensor([[ 1.5200,  2.1485, -0.7698, -1.2158, -0.9272,  1.1721,  1.1462,  1.2611,\n",
      "          0.2332,  0.1456]])\n",
      "tensor([ 1.5200,  2.1485, -0.7698, -1.2158, -0.9272,  1.1721,  1.1462,  1.2611,\n",
      "         0.2332,  0.1456])\n"
     ]
    }
   ],
   "source": [
    "x = torch.randn(1, 10)\n",
    "\n",
    "print(x)\n",
    "print(x[0])"
   ]
  },
  {
   "cell_type": "code",
   "execution_count": 110,
   "metadata": {},
   "outputs": [
    {
     "data": {
      "text/plain": [
       "tensor([ 1.5200,  2.1485, -0.7698, -1.2158, -0.9272,  1.1721,  1.1462,  1.2611,\n",
       "         0.2332,  0.1456])"
      ]
     },
     "execution_count": 110,
     "metadata": {},
     "output_type": "execute_result"
    }
   ],
   "source": [
    "x = x.squeeze()\n",
    "x"
   ]
  },
  {
   "cell_type": "code",
   "execution_count": 113,
   "metadata": {},
   "outputs": [
    {
     "data": {
      "text/plain": [
       "tensor([[ 1.5200,  2.1485, -0.7698, -1.2158, -0.9272,  1.1721,  1.1462,  1.2611,\n",
       "          0.2332,  0.1456]])"
      ]
     },
     "execution_count": 113,
     "metadata": {},
     "output_type": "execute_result"
    }
   ],
   "source": [
    "y = x.unsqueeze(0)\n",
    "y"
   ]
  },
  {
   "cell_type": "code",
   "execution_count": 117,
   "metadata": {},
   "outputs": [
    {
     "name": "stdout",
     "output_type": "stream",
     "text": [
      "Shape of y: torch.Size([5, 5])\n",
      "tensor([[-1.7934, -1.8932,  1.0428, -0.4526,  0.2269],\n",
      "        [ 0.3287,  0.7297,  1.9877,  1.2183, -0.1547],\n",
      "        [-0.2846, -0.6296, -0.2486,  0.8057, -1.1019],\n",
      "        [-0.7408,  0.8241, -0.9503,  0.6593, -0.6863],\n",
      "        [-0.2917,  1.8699, -1.1054, -0.1442, -0.3463]])\n",
      "Shape of y: torch.Size([5, 1, 5])\n"
     ]
    },
    {
     "data": {
      "text/plain": [
       "tensor([[[-1.7934, -1.8932,  1.0428, -0.4526,  0.2269]],\n",
       "\n",
       "        [[ 0.3287,  0.7297,  1.9877,  1.2183, -0.1547]],\n",
       "\n",
       "        [[-0.2846, -0.6296, -0.2486,  0.8057, -1.1019]],\n",
       "\n",
       "        [[-0.7408,  0.8241, -0.9503,  0.6593, -0.6863]],\n",
       "\n",
       "        [[-0.2917,  1.8699, -1.1054, -0.1442, -0.3463]]])"
      ]
     },
     "execution_count": 117,
     "metadata": {},
     "output_type": "execute_result"
    }
   ],
   "source": [
    "# Adding singleton dimensions works a similar way, and is often used when tensors\n",
    "# being added need same number of dimensions\n",
    "\n",
    "y = torch.randn(5, 5)\n",
    "print(f\"Shape of y: {y.shape}\")\n",
    "print(y)\n",
    "# lets insert a singleton dimension\n",
    "y = y.unsqueeze(1)\n",
    "print(f\"Shape of y: {y.shape}\")\n",
    "y"
   ]
  },
  {
   "cell_type": "code",
   "execution_count": 118,
   "metadata": {},
   "outputs": [
    {
     "name": "stdout",
     "output_type": "stream",
     "text": [
      "x: tensor([-1.0284, -0.3537, -0.1650,  0.6599, -1.3217])  |  x type:  torch.FloatTensor\n",
      "y: [-1.0283703  -0.35368153 -0.16499282  0.6598884  -1.3216829 ]  |  y type:  <class 'numpy.ndarray'>\n",
      "z: tensor([-1.0284, -0.3537, -0.1650,  0.6599, -1.3217])  |  z type:  torch.FloatTensor\n"
     ]
    }
   ],
   "source": [
    "x = torch.randn(5)\n",
    "print(f\"x: {x}  |  x type:  {x.type()}\")\n",
    "\n",
    "y = x.numpy()\n",
    "print(f\"y: {y}  |  y type:  {type(y)}\")\n",
    "\n",
    "z = torch.tensor(y)\n",
    "print(f\"z: {z}  |  z type:  {z.type()}\")"
   ]
  },
  {
   "cell_type": "code",
   "execution_count": 120,
   "metadata": {},
   "outputs": [
    {
     "data": {
      "text/plain": [
       "tensor([[ 0,  1,  2,  3],\n",
       "        [ 4,  5,  6,  7],\n",
       "        [ 8,  9, 10, 11]])"
      ]
     },
     "execution_count": 120,
     "metadata": {},
     "output_type": "execute_result"
    }
   ],
   "source": [
    "x = torch.arange(0, 12).reshape(3, 4)\n",
    "x"
   ]
  },
  {
   "cell_type": "code",
   "execution_count": 130,
   "metadata": {},
   "outputs": [],
   "source": [
    "# y = x.unsqueeze(0)\n",
    "# y"
   ]
  },
  {
   "cell_type": "code",
   "execution_count": 134,
   "metadata": {},
   "outputs": [
    {
     "data": {
      "text/plain": [
       "tensor([[ 0,  4,  8],\n",
       "        [ 1,  5,  9],\n",
       "        [ 2,  6, 10],\n",
       "        [ 3,  7, 11]])"
      ]
     },
     "execution_count": 134,
     "metadata": {},
     "output_type": "execute_result"
    }
   ],
   "source": [
    "perm = x.permute(1, 0)\n",
    "perm"
   ]
  },
  {
   "cell_type": "code",
   "execution_count": 139,
   "metadata": {},
   "outputs": [
    {
     "data": {
      "text/plain": [
       "tensor([[ 0,  1,  2,  3],\n",
       "        [ 4,  5,  6,  7],\n",
       "        [ 8,  9, 10, 11],\n",
       "        [ 0,  1,  2,  3],\n",
       "        [ 4,  5,  6,  7],\n",
       "        [ 8,  9, 10, 11]])"
      ]
     },
     "execution_count": 139,
     "metadata": {},
     "output_type": "execute_result"
    }
   ],
   "source": [
    "z= torch.concat((x, x))\n",
    "z"
   ]
  },
  {
   "cell_type": "code",
   "execution_count": 145,
   "metadata": {},
   "outputs": [
    {
     "data": {
      "text/plain": [
       "tensor([[ 0,  1,  2,  3,  0,  1,  2,  3],\n",
       "        [ 4,  5,  6,  7,  4,  5,  6,  7],\n",
       "        [ 8,  9, 10, 11,  8,  9, 10, 11]])"
      ]
     },
     "execution_count": 145,
     "metadata": {},
     "output_type": "execute_result"
    }
   ],
   "source": [
    "t = torch.concat((x, x), axis=1)\n",
    "t"
   ]
  },
  {
   "cell_type": "code",
   "execution_count": 148,
   "metadata": {},
   "outputs": [
    {
     "data": {
      "text/plain": [
       "tensor([[ 0,  4,  8],\n",
       "        [ 1,  5,  9],\n",
       "        [ 2,  6, 10],\n",
       "        [ 3,  7, 11]])"
      ]
     },
     "execution_count": 148,
     "metadata": {},
     "output_type": "execute_result"
    }
   ],
   "source": [
    "w = x.transpose(1,0)\n",
    "w"
   ]
  },
  {
   "cell_type": "code",
   "execution_count": 152,
   "metadata": {},
   "outputs": [
    {
     "data": {
      "text/plain": [
       "tensor([24., 24.])"
      ]
     },
     "execution_count": 152,
     "metadata": {},
     "output_type": "execute_result"
    }
   ],
   "source": [
    "def A(a1, a2):\n",
    "    x = a2.sum()\n",
    "    y = a1.sum(axis=1)\n",
    "    return x * y\n",
    "a1 = torch.ones(2, 2)\n",
    "a2 = torch.tensor([[1, 2, 3], [1, 2, 3]])\n",
    "A(a1, a2)"
   ]
  },
  {
   "cell_type": "code",
   "execution_count": 154,
   "metadata": {},
   "outputs": [
    {
     "data": {
      "text/plain": [
       "tensor([1, 2, 3, 1, 2, 3])"
      ]
     },
     "execution_count": 154,
     "metadata": {},
     "output_type": "execute_result"
    }
   ],
   "source": [
    "a = a2.flatten()\n",
    "a"
   ]
  },
  {
   "cell_type": "code",
   "execution_count": 171,
   "metadata": {},
   "outputs": [
    {
     "data": {
      "text/plain": [
       "array([[1., 0.],\n",
       "       [1., 1.],\n",
       "       [1., 2.],\n",
       "       [1., 3.]])"
      ]
     },
     "execution_count": 171,
     "metadata": {},
     "output_type": "execute_result"
    }
   ],
   "source": [
    "def B(a1):\n",
    "    flatted = a1.flatten()\n",
    "    indices = np.arange(flatted.size)\n",
    "    result = np.stack((flatted, indices), axis=1)\n",
    "    return result\n",
    "B(a1.numpy())"
   ]
  },
  {
   "cell_type": "code",
   "execution_count": 173,
   "metadata": {},
   "outputs": [
    {
     "data": {
      "text/plain": [
       "False"
      ]
     },
     "execution_count": 173,
     "metadata": {},
     "output_type": "execute_result"
    }
   ],
   "source": [
    "torch.cuda.is_available()"
   ]
  },
  {
   "cell_type": "code",
   "execution_count": 177,
   "metadata": {},
   "outputs": [
    {
     "data": {
      "text/plain": [
       "device(type='cpu')"
      ]
     },
     "execution_count": 177,
     "metadata": {},
     "output_type": "execute_result"
    }
   ],
   "source": [
    "device = 'cuda' if torch.cuda.is_available() else 'cpu'\n",
    "x = torch.tensor([3, 4], device=device)\n",
    "x.device\n"
   ]
  },
  {
   "cell_type": "code",
   "execution_count": 84,
   "metadata": {},
   "outputs": [
    {
     "name": "stdout",
     "output_type": "stream",
     "text": [
      "Files already downloaded and verified\n"
     ]
    },
    {
     "data": {
      "text/plain": [
       "Dataset CIFAR10\n",
       "    Number of datapoints: 50000\n",
       "    Root location: data\n",
       "    Split: Train\n",
       "    StandardTransform\n",
       "Transform: ToTensor()"
      ]
     },
     "execution_count": 84,
     "metadata": {},
     "output_type": "execute_result"
    }
   ],
   "source": [
    "from torchvision import datasets\n",
    "from torchvision.transforms import ToTensor\n",
    "from torch.utils.data import DataLoader\n",
    "cifar10_data = datasets.CIFAR10(root='data', download=True, transform=ToTensor())\n",
    "cifar10_data"
   ]
  },
  {
   "cell_type": "code",
   "execution_count": 181,
   "metadata": {},
   "outputs": [
    {
     "name": "stdout",
     "output_type": "stream",
     "text": [
      "Number of samples: 50000\n",
      "Class names: ['airplane', 'automobile', 'bird', 'cat', 'deer', 'dog', 'frog', 'horse', 'ship', 'truck']\n"
     ]
    }
   ],
   "source": [
    "# Print the number of samples in the loaded dataset\n",
    "print(f\"Number of samples: {len(cifar10_data)}\")\n",
    "print(f\"Class names: {cifar10_data.classes}\")"
   ]
  },
  {
   "cell_type": "code",
   "execution_count": 199,
   "metadata": {},
   "outputs": [
    {
     "name": "stdout",
     "output_type": "stream",
     "text": [
      "tensor([[[0.2235, 0.2078, 0.2196,  ..., 0.7686, 0.7608, 0.7686],\n",
      "         [0.3333, 0.2902, 0.2980,  ..., 0.7569, 0.7529, 0.7569],\n",
      "         [0.3020, 0.3059, 0.2980,  ..., 0.7608, 0.7529, 0.7490],\n",
      "         ...,\n",
      "         [0.4863, 0.5255, 0.5569,  ..., 0.6471, 0.6863, 0.6510],\n",
      "         [0.4980, 0.5333, 0.5843,  ..., 0.6275, 0.6039, 0.6549],\n",
      "         [0.5647, 0.5333, 0.6039,  ..., 0.6745, 0.5843, 0.5725]],\n",
      "\n",
      "        [[0.2706, 0.2549, 0.2667,  ..., 0.3922, 0.3882, 0.3922],\n",
      "         [0.3451, 0.3020, 0.3098,  ..., 0.3765, 0.3804, 0.3843],\n",
      "         [0.2510, 0.2588, 0.2510,  ..., 0.3843, 0.3804, 0.3765],\n",
      "         ...,\n",
      "         [0.4314, 0.4745, 0.5059,  ..., 0.6000, 0.6392, 0.6039],\n",
      "         [0.4431, 0.4824, 0.5333,  ..., 0.5804, 0.5569, 0.6078],\n",
      "         [0.5098, 0.4824, 0.5529,  ..., 0.6235, 0.5373, 0.5255]],\n",
      "\n",
      "        [[0.1765, 0.1529, 0.1843,  ..., 0.4784, 0.4745, 0.4784],\n",
      "         [0.2902, 0.2353, 0.2549,  ..., 0.4667, 0.4667, 0.4706],\n",
      "         [0.2314, 0.2157, 0.2118,  ..., 0.4706, 0.4667, 0.4627],\n",
      "         ...,\n",
      "         [0.3804, 0.4078, 0.4314,  ..., 0.5098, 0.5490, 0.5176],\n",
      "         [0.3922, 0.4196, 0.4588,  ..., 0.4784, 0.4588, 0.5098],\n",
      "         [0.4549, 0.4196, 0.4824,  ..., 0.5216, 0.4314, 0.4235]]])\n",
      "7\n"
     ]
    }
   ],
   "source": [
    "random.seed(2021)\n",
    "image, label = cifar10_data[random.randint(0, len(cifar10_data))]\n",
    "print(image)\n",
    "print(label)"
   ]
  },
  {
   "cell_type": "code",
   "execution_count": 57,
   "metadata": {},
   "outputs": [
    {
     "name": "stdout",
     "output_type": "stream",
     "text": [
      "torch.Size([2])\n",
      "x[0]: 6\n"
     ]
    }
   ],
   "source": [
    "x = torch.tensor([6, 7])\n",
    "print(x.shape)\n",
    "print(f\"x[0]: {x[0]}\")"
   ]
  },
  {
   "cell_type": "code",
   "execution_count": 72,
   "metadata": {},
   "outputs": [
    {
     "name": "stdout",
     "output_type": "stream",
     "text": [
      "torch.Size([2])\n",
      "x[0]: 6\n",
      "tensor([[ 6, 78]])\n"
     ]
    }
   ],
   "source": [
    "x = torch.tensor([6, 78])\n",
    "# printing the zeroth element of the tensor will not give us the first number!\n",
    "# d = x.squeeze()\n",
    "# print(d)\n",
    "print(x.shape)\n",
    "print(f\"x[0]: {x[0]}\")\n",
    "print(x.unsqueeze(0))"
   ]
  },
  {
   "cell_type": "code",
   "execution_count": 78,
   "metadata": {},
   "outputs": [
    {
     "name": "stdout",
     "output_type": "stream",
     "text": [
      "Shape of y: torch.Size([5, 5])\n",
      "tensor([[[ 1.1901,  0.7019, -1.8244, -2.1066,  0.1218]],\n",
      "\n",
      "        [[-0.6775,  0.4905,  0.9221,  0.9843, -0.3262]],\n",
      "\n",
      "        [[ 0.0824,  0.0929,  1.6423, -0.3774,  0.3310]],\n",
      "\n",
      "        [[-0.7477,  0.1164, -1.1118, -0.4027,  0.9246]],\n",
      "\n",
      "        [[ 0.0080, -0.7898, -0.3773,  0.0517,  0.4793]]])\n"
     ]
    }
   ],
   "source": [
    "y = torch.randn(5, 5)\n",
    "print(f\"Shape of y: {y.shape}\")\n",
    "print(y.unsqueeze(1))"
   ]
  },
  {
   "cell_type": "code",
   "execution_count": 79,
   "metadata": {},
   "outputs": [
    {
     "name": "stdout",
     "output_type": "stream",
     "text": [
      "tensor([[[0.9008, 0.5675, 0.3614,  ..., 0.2694, 0.8936, 0.0410],\n",
      "         [0.1108, 0.9361, 0.4133,  ..., 0.5019, 0.2302, 0.3675],\n",
      "         [0.2195, 0.5679, 0.0748,  ..., 0.4699, 0.8378, 0.9758],\n",
      "         ...,\n",
      "         [0.0347, 0.6943, 0.7421,  ..., 0.7160, 0.3378, 0.1703],\n",
      "         [0.5340, 0.9084, 0.1291,  ..., 0.3146, 0.5695, 0.8739],\n",
      "         [0.2425, 0.0167, 0.0859,  ..., 0.5488, 0.0583, 0.1152]],\n",
      "\n",
      "        [[0.0078, 0.7271, 0.5906,  ..., 0.8500, 0.0432, 0.1011],\n",
      "         [0.0032, 0.1831, 0.8298,  ..., 0.3584, 0.1758, 0.2370],\n",
      "         [0.2216, 0.1214, 0.0473,  ..., 0.8133, 0.3939, 0.2915],\n",
      "         ...,\n",
      "         [0.3541, 0.5460, 0.9881,  ..., 0.4049, 0.8863, 0.0045],\n",
      "         [0.8643, 0.1702, 0.7310,  ..., 0.4301, 0.2428, 0.3663],\n",
      "         [0.7515, 0.2426, 0.2124,  ..., 0.8539, 0.2860, 0.3546]],\n",
      "\n",
      "        [[0.7540, 0.8672, 0.0682,  ..., 0.8294, 0.8772, 0.2495],\n",
      "         [0.2301, 0.4518, 0.5550,  ..., 0.9401, 0.6063, 0.7581],\n",
      "         [0.7924, 0.3243, 0.0605,  ..., 0.0231, 0.1634, 0.6058],\n",
      "         ...,\n",
      "         [0.5015, 0.9082, 0.9072,  ..., 0.7341, 0.7310, 0.3790],\n",
      "         [0.3503, 0.5444, 0.2600,  ..., 0.1720, 0.2702, 0.6064],\n",
      "         [0.0536, 0.6833, 0.5333,  ..., 0.3517, 0.2352, 0.6233]]])\n"
     ]
    }
   ],
   "source": [
    "x = torch.rand(3, 48, 64)\n",
    "print(x)"
   ]
  },
  {
   "cell_type": "code",
   "execution_count": 82,
   "metadata": {},
   "outputs": [
    {
     "name": "stdout",
     "output_type": "stream",
     "text": [
      "torch.Size([48, 64, 3])\n"
     ]
    }
   ],
   "source": [
    "# `x` has dimensions [color,image_height,image_width]\n",
    "x = torch.rand(3, 48, 64)\n",
    "\n",
    "# We want to permute our tensor to be [ image_height , image_width , color ]\n",
    "x = x.permute(1, 2, 0)\n",
    "# permute(1,2,0) means:\n",
    "# The 0th dim of my new tensor = the 1st dim of my old tensor\n",
    "# The 1st dim of my new tensor = the 2nd\n",
    "# The 2nd dim of my new tensor = the 0th\n",
    "print(x.shape)"
   ]
  },
  {
   "cell_type": "code",
   "execution_count": 83,
   "metadata": {},
   "outputs": [
    {
     "name": "stdout",
     "output_type": "stream",
     "text": [
      "torch.Size([2, 4])\n",
      "tensor([[-1.8564, -0.3490,  0.4326, -0.2868],\n",
      "        [-0.3153,  1.6634, -2.7691, -0.1962]])\n",
      "torch.Size([4, 2])\n",
      "tensor([[-1.8564, -0.3153],\n",
      "        [-0.3490,  1.6634],\n",
      "        [ 0.4326, -2.7691],\n",
      "        [-0.2868, -0.1962]])\n"
     ]
    }
   ],
   "source": [
    "# create a tensor of size 2 x 4\n",
    "input_var = torch.randn(2, 4)\n",
    "# print its size and the tensor\n",
    "print(input_var.size())\n",
    "print(input_var)\n",
    "\n",
    "# dimensions permuted\n",
    "input_var = input_var.permute(1, 0)\n",
    "# print its size and the permuted tensor\n",
    "print(input_var.size())\n",
    "print(input_var)"
   ]
  },
  {
   "cell_type": "code",
   "execution_count": 88,
   "metadata": {},
   "outputs": [
    {
     "name": "stdout",
     "output_type": "stream",
     "text": [
      "Files already downloaded and verified\n"
     ]
    },
    {
     "data": {
      "text/plain": [
       "Dataset CIFAR10\n",
       "    Number of datapoints: 50000\n",
       "    Root location: data\n",
       "    Split: Train\n",
       "    StandardTransform\n",
       "Transform: ToTensor()"
      ]
     },
     "execution_count": 88,
     "metadata": {},
     "output_type": "execute_result"
    }
   ],
   "source": [
    "training_data = datasets.CIFAR10(root='data',train=True, download=True, transform=ToTensor())\n",
    "training_data"
   ]
  },
  {
   "cell_type": "code",
   "execution_count": 86,
   "metadata": {},
   "outputs": [
    {
     "name": "stdout",
     "output_type": "stream",
     "text": [
      "Files already downloaded and verified\n"
     ]
    },
    {
     "data": {
      "text/plain": [
       "Dataset CIFAR10\n",
       "    Number of datapoints: 10000\n",
       "    Root location: data\n",
       "    Split: Test\n",
       "    StandardTransform\n",
       "Transform: ToTensor()"
      ]
     },
     "execution_count": 86,
     "metadata": {},
     "output_type": "execute_result"
    }
   ],
   "source": [
    "test_data = datasets.CIFAR10(root='data', download=True, train=False, transform=ToTensor())\n",
    "test_data"
   ]
  },
  {
   "cell_type": "code",
   "execution_count": 90,
   "metadata": {},
   "outputs": [
    {
     "data": {
      "text/plain": [
       "<torch.utils.data.dataloader.DataLoader at 0x15cee863f70>"
      ]
     },
     "execution_count": 90,
     "metadata": {},
     "output_type": "execute_result"
    }
   ],
   "source": [
    "train_dataloader = DataLoader(training_data, batch_size=34, shuffle=True)\n",
    "train_dataloader"
   ]
  },
  {
   "cell_type": "code",
   "execution_count": 91,
   "metadata": {},
   "outputs": [
    {
     "data": {
      "text/plain": [
       "<torch.utils.data.dataloader.DataLoader at 0x15cee862530>"
      ]
     },
     "execution_count": 91,
     "metadata": {},
     "output_type": "execute_result"
    }
   ],
   "source": [
    "test_dataloader = DataLoader(training_data, batch_size=34, shuffle=True)\n",
    "test_dataloader"
   ]
  },
  {
   "cell_type": "code",
   "execution_count": 96,
   "metadata": {},
   "outputs": [
    {
     "name": "stdout",
     "output_type": "stream",
     "text": [
      "Batch size: torch.Size([34, 3, 32, 32])\n"
     ]
    },
    {
     "data": {
      "image/png": "[encoded data removed]",
      "text/plain": [
       "<Figure size 640x480 with 1 Axes>"
      ]
     },
     "metadata": {},
     "output_type": "display_data"
    }
   ],
   "source": [
    "import matplotlib.pyplot as plt\n",
    "batch_images, batch_label = next(iter(train_dataloader))\n",
    "print('Batch size:', batch_images.shape)\n",
    "# Display the first image from the batch\n",
    "plt.imshow(batch_images[0].permute(1, 2, 0))\n",
    "plt.show()"
   ]
  },
  {
   "cell_type": "code",
   "execution_count": null,
   "metadata": {},
   "outputs": [],
   "source": []
  }
 ],
 "metadata": {
  "kernelspec": {
   "display_name": "Python 3",
   "language": "python",
   "name": "python3"
  },
  "language_info": {
   "codemirror_mode": {
    "name": "ipython",
    "version": 3
   },
   "file_extension": ".py",
   "mimetype": "text/x-python",
   "name": "python",
   "nbconvert_exporter": "python",
   "pygments_lexer": "ipython3",
   "version": "3.10.9"
  }
 },
 "nbformat": 4,
 "nbformat_minor": 2
}
