{
 "cells": [
  {
   "cell_type": "code",
   "execution_count": 13,
   "metadata": {},
   "outputs": [
    {
     "name": "stdout",
     "output_type": "stream",
     "text": [
      "Tensor a: tensor([6, 7])\n",
      "Tensor b tensor([[2, 4],\n",
      "        [5, 8]])\n",
      "Tensor c tensor([[1., 1., 1.],\n",
      "        [1., 1., 1.]], dtype=torch.float64)\n"
     ]
    }
   ],
   "source": [
    "import torch\n",
    "import numpy as np\n",
    "a = torch.tensor([6, 7])\n",
    "b = torch.tensor(((2, 4), (5, 8)))\n",
    "c = torch.tensor(np.ones((2, 3)))\n",
    "print(f'Tensor a:', a)\n",
    "print(f'Tensor b', b)\n",
    "print(f'Tensor c', c)"
   ]
  },
  {
   "cell_type": "code",
   "execution_count": 19,
   "metadata": {},
   "outputs": [
    {
     "name": "stdout",
     "output_type": "stream",
     "text": [
      "Tensor x tensor([[1., 1., 1.],\n",
      "        [1., 1., 1.]])\n",
      "Tensor y tensor([[0., 0., 0.],\n",
      "        [0., 0., 0.]])\n",
      "Tensor z tensor([[6.2450e-39, 1.0653e-38, 8.4490e-39],\n",
      "        [1.0194e-38, 8.9082e-39, 8.4490e-39]])\n"
     ]
    }
   ],
   "source": [
    "x = torch.ones((2, 3))\n",
    "y = torch.zeros(2, 3)\n",
    "z = torch.empty((2, 3))\n",
    "print(f'Tensor x', x)\n",
    "print(f'Tensor y', y)\n",
    "print(f'Tensor z', z)"
   ]
  },
  {
   "cell_type": "code",
   "execution_count": 28,
   "metadata": {},
   "outputs": [
    {
     "name": "stdout",
     "output_type": "stream",
     "text": [
      "Tensor a tensor([[0.9375, 0.9106, 0.1144]])\n",
      "Tensor b tensor([[ 0.7794, -0.9062,  0.3897,  0.6481],\n",
      "        [ 1.0483,  0.9488,  0.3928,  1.3814],\n",
      "        [ 0.6748, -1.0393, -0.5039, -1.0821]])\n",
      "Tensor c tensor([[0.1484, 0.3823, 0.2099]])\n",
      "Tensor d tensor([[-0.0285,  0.1036,  1.2678, -0.7225],\n",
      "        [ 0.4156, -0.5506,  0.7180,  0.9685],\n",
      "        [ 0.8777,  0.0036,  0.9915, -0.9978]])\n",
      "Tensor e tensor([[9.1477e-41, 0.0000e+00, 5.6052e-45]])\n"
     ]
    }
   ],
   "source": [
    "a = torch.rand(1, 3)\n",
    "b = torch.randn(3, 4)\n",
    "c = torch.rand_like(a)\n",
    "d = torch.randn_like(b)\n",
    "e = torch.empty_like(a)\n",
    "print(f'Tensor a', a)\n",
    "print(f'Tensor b', b)\n",
    "print(f'Tensor c', c)\n",
    "print(f'Tensor d', d)\n",
    "print(f'Tensor e', e)"
   ]
  },
  {
   "cell_type": "code",
   "execution_count": 29,
   "metadata": {},
   "outputs": [],
   "source": [
    "import random\n",
    "def set_seed(seed=None, seed_torch=True):\n",
    "    \"\"\"\n",
    "    Function that controls randomness. NumPy and random modules must be imported.\n",
    "\n",
    "    Args:\n",
    "        seed : Integer\n",
    "        A non-negative integer that defines the random state. Default is `None`.\n",
    "        seed_torch : Boolean\n",
    "        If `True` sets the random seed for pytorch tensors, so pytorch module\n",
    "        must be imported. Default is `True`.\n",
    "\n",
    "    Returns:\n",
    "        Nothing.\n",
    "    \"\"\"\n",
    "    if seed is None:\n",
    "        seed = np.random.choice(2 ** 32)\n",
    "    random.seed(seed)\n",
    "    np.random.seed(seed)\n",
    "    if seed_torch:\n",
    "        torch.manual_seed(seed)\n",
    "        torch.cuda.manual_seed_all(seed)\n",
    "        torch.cuda.manual_seed(seed)\n",
    "        torch.backends.cudnn.benchmark = False\n",
    "        torch.backends.cudnn.deterministic = True\n",
    "\n",
    "    print(f'Random seed {seed} has been set.')"
   ]
  },
  {
   "cell_type": "code",
   "execution_count": 33,
   "metadata": {},
   "outputs": [],
   "source": [
    "def simplefun(seed=True, my_seed=None):\n",
    "  \"\"\"\n",
    "  Helper function to verify effectiveness of set_seed attribute\n",
    "\n",
    "  Args:\n",
    "    seed: Boolean\n",
    "      Specifies if seed value is provided or not\n",
    "    my_seed: Integer\n",
    "      Initializes seed to specified value\n",
    "\n",
    "  Returns:\n",
    "    Nothing\n",
    "  \"\"\"\n",
    "  if seed:\n",
    "    set_seed(seed=my_seed)\n",
    "\n",
    "  # uniform distribution\n",
    "  a = torch.rand(1, 3)\n",
    "  # normal distribution\n",
    "  b = torch.randn(3, 4)\n",
    "\n",
    "  print(\"Tensor a: \", a)\n",
    "  print(\"Tensor b: \", b)"
   ]
  },
  {
   "cell_type": "code",
   "execution_count": 34,
   "metadata": {},
   "outputs": [
    {
     "name": "stdout",
     "output_type": "stream",
     "text": [
      "Random seed 0 has been set.\n",
      "Tensor a:  tensor([[0.4963, 0.7682, 0.0885]])\n",
      "Tensor b:  tensor([[ 0.3643,  0.1344,  0.1642,  0.3058],\n",
      "        [ 0.2100,  0.9056,  0.6035,  0.8110],\n",
      "        [-0.0451,  0.8797,  1.0482, -0.0445]])\n"
     ]
    }
   ],
   "source": [
    "simplefun(seed=True, my_seed=0)  # Turn `seed` to `False` or change `my_seed`\n"
   ]
  },
  {
   "cell_type": "code",
   "execution_count": 43,
   "metadata": {},
   "outputs": [
    {
     "name": "stdout",
     "output_type": "stream",
     "text": [
      "Numpy x: [ 1  3  5  7  9 11 13 15 17 19 21]\n"
     ]
    }
   ],
   "source": [
    "x = np.arange(1, 22, 2)\n",
    "print(f'Numpy x: {x}')"
   ]
  },
  {
   "cell_type": "code",
   "execution_count": 44,
   "metadata": {},
   "outputs": [
    {
     "name": "stdout",
     "output_type": "stream",
     "text": [
      "Torch x: tensor([ 1,  3,  5,  7,  9, 11, 13, 15, 17, 19, 21])\n"
     ]
    }
   ],
   "source": [
    "x = torch.arange(1, 22, 2)\n",
    "print(f'Torch x: {x}')"
   ]
  },
  {
   "cell_type": "code",
   "execution_count": 45,
   "metadata": {},
   "outputs": [
    {
     "name": "stdout",
     "output_type": "stream",
     "text": [
      "Numpy y: [1.         1.44444444 1.88888889 2.33333333 2.77777778 3.22222222\n",
      " 3.66666667 4.11111111 4.55555556 5.        ]\n"
     ]
    }
   ],
   "source": [
    "y = np.linspace(1, 5, 10)\n",
    "print(f'Numpy y: {y}')"
   ]
  },
  {
   "cell_type": "code",
   "execution_count": 47,
   "metadata": {},
   "outputs": [
    {
     "name": "stdout",
     "output_type": "stream",
     "text": [
      "Torch y: tensor([1.0000, 1.4444, 1.8889, 2.3333, 2.7778, 3.2222, 3.6667, 4.1111, 4.5556,\n",
      "        5.0000])\n"
     ]
    }
   ],
   "source": [
    "y = torch.linspace(1, 5, 10)\n",
    "print(f'Torch y: {y}')"
   ]
  },
  {
   "cell_type": "code",
   "execution_count": 60,
   "metadata": {},
   "outputs": [
    {
     "name": "stdout",
     "output_type": "stream",
     "text": [
      "tensor([[1., 1., 1.],\n",
      "        [1., 1., 1.]])\n",
      "tensor([[ 1,  1,  1,  1],\n",
      "        [ 8,  4,  2,  1],\n",
      "        [27,  9,  3,  1]], dtype=torch.int32)\n",
      "tensor([[0., 0., 0.]])\n",
      "tensor([ 2,  4,  6,  8, 10, 12, 14, 16, 18, 20, 22, 24, 26, 28, 30, 32, 34, 36,\n",
      "        38, 40])\n"
     ]
    }
   ],
   "source": [
    "def tensor_creation(Z):\n",
    "    \"\"\"\n",
    "    A function that creates various tensors.\n",
    "\n",
    "    Args:\n",
    "        Z: numpy.ndarray\n",
    "        An array of shape (3,4)\n",
    "\n",
    "    Returns:\n",
    "        A : Tensor\n",
    "        2 by 3 tensor consisting of ones\n",
    "        B : Tensor\n",
    "        A tensor with elements equal to the elements of numpy array Z\n",
    "        C : Tensor\n",
    "        A tensor with the same number of elements as A but with values ∼U(0,1)\n",
    "        D : Tensor\n",
    "        A 1D tensor containing the even numbers between 4 and 40 inclusive.\n",
    "    \"\"\"\n",
    "\n",
    "\n",
    "    # raise NotImplementedError(\"Student exercise: say what they should have done\")\n",
    "\n",
    "    A = torch.ones((2, 3))\n",
    "    B = torch.tensor(Z)\n",
    "    C = torch.zeros_like(a)\n",
    "    D = torch.arange(2, 41, 2)\n",
    "\n",
    "    return A, B, C, D\n",
    "\n",
    "\n",
    "# numpy array to copy later\n",
    "Z = np.vander([1, 2, 3], 4)\n",
    "\n",
    "# Uncomment below to check your function!\n",
    "A, B, C, D = tensor_creation(Z)\n",
    "print(A)\n",
    "print(B)\n",
    "print(C)\n",
    "print(D)\n"
   ]
  },
  {
   "cell_type": "code",
   "execution_count": 66,
   "metadata": {},
   "outputs": [
    {
     "name": "stdout",
     "output_type": "stream",
     "text": [
      "Tensor a: tensor([[2., 3., 4.]])\n"
     ]
    }
   ],
   "source": [
    "x = torch.tensor(np.array([2, 3, 4]))\n",
    "y = torch.ones(1, 3)\n",
    "torch.multiply(x, y, out=a)\n",
    "print(f'Tensor a: {a}')"
   ]
  },
  {
   "cell_type": "code",
   "execution_count": 67,
   "metadata": {},
   "outputs": [
    {
     "name": "stdout",
     "output_type": "stream",
     "text": [
      "tensor([[1.0362, 1.1852, 1.3734],\n",
      "        [1.3051, 1.9320, 1.1759],\n",
      "        [1.2698, 1.1507, 1.0317],\n",
      "        [1.2081, 1.9298, 1.7231],\n",
      "        [1.7423, 1.5263, 1.2437]])\n",
      "tensor([[0.0362, 0.1852, 0.3734],\n",
      "        [0.3051, 0.9320, 0.1759],\n",
      "        [0.2698, 0.1507, 0.0317],\n",
      "        [0.2081, 0.9298, 0.7231],\n",
      "        [0.7423, 0.5263, 0.2437]])\n"
     ]
    }
   ],
   "source": [
    "a = torch.ones(5, 3)\n",
    "b = torch.rand(5, 3)\n",
    "c = torch.empty(5, 3)\n",
    "d = torch.empty(5, 3)\n",
    "\n",
    "# this only works if c and d already exist\n",
    "torch.add(a, b, out=c)\n",
    "\n",
    "# Pointwise Multiplication of a and b\n",
    "torch.multiply(a, b, out=d)\n",
    "\n",
    "print(c)\n",
    "print(d)"
   ]
  },
  {
   "cell_type": "code",
   "execution_count": 68,
   "metadata": {},
   "outputs": [
    {
     "data": {
      "text/plain": [
       "tensor([[1.0362, 1.1852, 1.3734],\n",
       "        [1.3051, 1.9320, 1.1759],\n",
       "        [1.2698, 1.1507, 1.0317],\n",
       "        [1.2081, 1.9298, 1.7231],\n",
       "        [1.7423, 1.5263, 1.2437]])"
      ]
     },
     "execution_count": 68,
     "metadata": {},
     "output_type": "execute_result"
    }
   ],
   "source": [
    "a + b"
   ]
  },
  {
   "cell_type": "code",
   "execution_count": 70,
   "metadata": {},
   "outputs": [
    {
     "name": "stdout",
     "output_type": "stream",
     "text": [
      "tensor([[0.9971, 0.6984, 0.5675],\n",
      "        [0.8352, 0.2056, 0.5932],\n",
      "        [0.1123, 0.1535, 0.2417]])\n",
      "\n",
      "\n",
      "Sum of every element of x: 4.404580116271973\n",
      "Sum of the columns of x: tensor([1.9447, 1.0575, 1.4024])\n",
      "Sum of the rows of x: tensor([2.2631, 1.6340, 0.5075])\n",
      "\n",
      "\n",
      "Mean value of all elements of x 0.489397794008255\n",
      "Mean values of the columns of x tensor([0.6482, 0.3525, 0.4675])\n",
      "Mean values of the rows of x tensor([0.7544, 0.5447, 0.1692])\n"
     ]
    }
   ],
   "source": [
    "x = torch.rand(3, 3)\n",
    "print(x)\n",
    "print(\"\\n\")\n",
    "# sum() - note the axis is the axis you move across when summing\n",
    "print(f\"Sum of every element of x: {x.sum()}\")\n",
    "print(f\"Sum of the columns of x: {x.sum(axis=0)}\")\n",
    "print(f\"Sum of the rows of x: {x.sum(axis=1)}\")\n",
    "print(\"\\n\")\n",
    "\n",
    "print(f\"Mean value of all elements of x {x.mean()}\")\n",
    "print(f\"Mean values of the columns of x {x.mean(axis=0)}\")\n",
    "print(f\"Mean values of the rows of x {x.mean(axis=1)}\")\n"
   ]
  },
  {
   "cell_type": "code",
   "execution_count": 79,
   "metadata": {},
   "outputs": [
    {
     "name": "stdout",
     "output_type": "stream",
     "text": [
      "tensor([[20, 24],\n",
      "        [31, 27]])\n"
     ]
    }
   ],
   "source": [
    "def simple_operations(a1: torch.Tensor, a2: torch.Tensor, a3: torch.Tensor):\n",
    "    \"\"\"\n",
    "    Helper function to demonstrate simple operations\n",
    "    i.e., Multiplication of tensor a1 with tensor a2 and then add it with tensor a3\n",
    "\n",
    "    Args:\n",
    "        a1: Torch tensor\n",
    "        Tensor of size ([2,2])\n",
    "        a2: Torch tensor\n",
    "        Tensor of size ([2,2])\n",
    "        a3: Torch tensor\n",
    "        Tensor of size ([2,2])\n",
    "\n",
    "    Returns:\n",
    "        answer: Torch tensor\n",
    "        Tensor of size ([2,2]) resulting from a1 multiplied with a2, added with a3\n",
    "    \"\"\"\n",
    "\n",
    "\n",
    "    answer = a1 @ a2 + a3\n",
    "    return answer\n",
    "\n",
    "\n",
    "# Computing expression 1:\n",
    "\n",
    "# init our tensors\n",
    "a1 = torch.tensor([[2, 4], [5, 7]])\n",
    "a2 = torch.tensor([[1, 1], [2, 3]])\n",
    "a3 = torch.tensor([[10, 10], [12, 1]])\n",
    "## uncomment to test your function\n",
    "A = simple_operations(a1, a2, a3)\n",
    "print(A)"
   ]
  },
  {
   "cell_type": "code",
   "execution_count": 87,
   "metadata": {},
   "outputs": [
    {
     "name": "stdout",
     "output_type": "stream",
     "text": [
      "tensor(82)\n"
     ]
    }
   ],
   "source": [
    "def dot_product(b1: torch.Tensor, b2: torch.Tensor):\n",
    "\n",
    "    \"\"\"\n",
    "    Helper function to demonstrate dot product operation\n",
    "    Dot product is an algebraic operation that takes two equal-length sequences\n",
    "    (usually coordinate vectors), and returns a single number.\n",
    "    Geometrically, it is the product of the Euclidean magnitudes of the\n",
    "    two vectors and the cosine of the angle between them.\n",
    "\n",
    "    Args:\n",
    "        b1: Torch tensor\n",
    "        Tensor of size ([3])\n",
    "        b2: Torch tensor\n",
    "        Tensor of size ([3])\n",
    "\n",
    "    Returns:\n",
    "        product: Tensor\n",
    "        Tensor of size ([1]) resulting from b1 scalar multiplied with b2\n",
    "    \"\"\"\n",
    "    # Use torch.dot() to compute the dot product of two tensors\n",
    "    product = b1.dot(b2)\n",
    "\n",
    "    return product\n",
    "\n",
    "\n",
    "# Computing expression 2:\n",
    "b1 = torch.tensor([3, 5, 7])\n",
    "b2 = torch.tensor([2, 4, 8])\n",
    "## Uncomment to test your function\n",
    "b = dot_product(b1, b2)\n",
    "print(b)"
   ]
  },
  {
   "cell_type": "code",
   "execution_count": 95,
   "metadata": {},
   "outputs": [
    {
     "name": "stdout",
     "output_type": "stream",
     "text": [
      "x[0] shape: torch.Size([2, 3, 4, 5])\n",
      "x[0][0]: torch.Size([3, 4, 5])\n"
     ]
    }
   ],
   "source": [
    "x = torch.rand(1, 2, 3, 4, 5)\n",
    "print(f'x[0] shape: {x[0].shape}')\n",
    "print(f'x[0][0]: {x[0][0].shape}')"
   ]
  },
  {
   "cell_type": "code",
   "execution_count": 97,
   "metadata": {},
   "outputs": [
    {
     "data": {
      "text/plain": [
       "tensor([[ 0,  1,  2,  3],\n",
       "        [ 4,  5,  6,  7],\n",
       "        [ 8,  9, 10, 11]])"
      ]
     },
     "execution_count": 97,
     "metadata": {},
     "output_type": "execute_result"
    }
   ],
   "source": [
    "x = torch.arange(0, 12).reshape(3, 4)\n",
    "x"
   ]
  },
  {
   "cell_type": "code",
   "execution_count": 99,
   "metadata": {},
   "outputs": [
    {
     "data": {
      "text/plain": [
       "tensor([ 0,  1,  2,  3,  4,  5,  6,  7,  8,  9, 10, 11])"
      ]
     },
     "execution_count": 99,
     "metadata": {},
     "output_type": "execute_result"
    }
   ],
   "source": [
    "z = x.flatten()\n",
    "z"
   ]
  },
  {
   "cell_type": "code",
   "execution_count": 107,
   "metadata": {},
   "outputs": [
    {
     "name": "stdout",
     "output_type": "stream",
     "text": [
      "tensor([[ 1.5200,  2.1485, -0.7698, -1.2158, -0.9272,  1.1721,  1.1462,  1.2611,\n",
      "          0.2332,  0.1456]])\n",
      "tensor([ 1.5200,  2.1485, -0.7698, -1.2158, -0.9272,  1.1721,  1.1462,  1.2611,\n",
      "         0.2332,  0.1456])\n"
     ]
    }
   ],
   "source": [
    "x = torch.randn(1, 10)\n",
    "\n",
    "print(x)\n",
    "print(x[0])"
   ]
  },
  {
   "cell_type": "code",
   "execution_count": 110,
   "metadata": {},
   "outputs": [
    {
     "data": {
      "text/plain": [
       "tensor([ 1.5200,  2.1485, -0.7698, -1.2158, -0.9272,  1.1721,  1.1462,  1.2611,\n",
       "         0.2332,  0.1456])"
      ]
     },
     "execution_count": 110,
     "metadata": {},
     "output_type": "execute_result"
    }
   ],
   "source": [
    "x = x.squeeze()\n",
    "x"
   ]
  },
  {
   "cell_type": "code",
   "execution_count": 113,
   "metadata": {},
   "outputs": [
    {
     "data": {
      "text/plain": [
       "tensor([[ 1.5200,  2.1485, -0.7698, -1.2158, -0.9272,  1.1721,  1.1462,  1.2611,\n",
       "          0.2332,  0.1456]])"
      ]
     },
     "execution_count": 113,
     "metadata": {},
     "output_type": "execute_result"
    }
   ],
   "source": [
    "y = x.unsqueeze(0)\n",
    "y"
   ]
  },
  {
   "cell_type": "code",
   "execution_count": 117,
   "metadata": {},
   "outputs": [
    {
     "name": "stdout",
     "output_type": "stream",
     "text": [
      "Shape of y: torch.Size([5, 5])\n",
      "tensor([[-1.7934, -1.8932,  1.0428, -0.4526,  0.2269],\n",
      "        [ 0.3287,  0.7297,  1.9877,  1.2183, -0.1547],\n",
      "        [-0.2846, -0.6296, -0.2486,  0.8057, -1.1019],\n",
      "        [-0.7408,  0.8241, -0.9503,  0.6593, -0.6863],\n",
      "        [-0.2917,  1.8699, -1.1054, -0.1442, -0.3463]])\n",
      "Shape of y: torch.Size([5, 1, 5])\n"
     ]
    },
    {
     "data": {
      "text/plain": [
       "tensor([[[-1.7934, -1.8932,  1.0428, -0.4526,  0.2269]],\n",
       "\n",
       "        [[ 0.3287,  0.7297,  1.9877,  1.2183, -0.1547]],\n",
       "\n",
       "        [[-0.2846, -0.6296, -0.2486,  0.8057, -1.1019]],\n",
       "\n",
       "        [[-0.7408,  0.8241, -0.9503,  0.6593, -0.6863]],\n",
       "\n",
       "        [[-0.2917,  1.8699, -1.1054, -0.1442, -0.3463]]])"
      ]
     },
     "execution_count": 117,
     "metadata": {},
     "output_type": "execute_result"
    }
   ],
   "source": [
    "# Adding singleton dimensions works a similar way, and is often used when tensors\n",
    "# being added need same number of dimensions\n",
    "\n",
    "y = torch.randn(5, 5)\n",
    "print(f\"Shape of y: {y.shape}\")\n",
    "print(y)\n",
    "# lets insert a singleton dimension\n",
    "y = y.unsqueeze(1)\n",
    "print(f\"Shape of y: {y.shape}\")\n",
    "y"
   ]
  },
  {
   "cell_type": "code",
   "execution_count": 118,
   "metadata": {},
   "outputs": [
    {
     "name": "stdout",
     "output_type": "stream",
     "text": [
      "x: tensor([-1.0284, -0.3537, -0.1650,  0.6599, -1.3217])  |  x type:  torch.FloatTensor\n",
      "y: [-1.0283703  -0.35368153 -0.16499282  0.6598884  -1.3216829 ]  |  y type:  <class 'numpy.ndarray'>\n",
      "z: tensor([-1.0284, -0.3537, -0.1650,  0.6599, -1.3217])  |  z type:  torch.FloatTensor\n"
     ]
    }
   ],
   "source": [
    "x = torch.randn(5)\n",
    "print(f\"x: {x}  |  x type:  {x.type()}\")\n",
    "\n",
    "y = x.numpy()\n",
    "print(f\"y: {y}  |  y type:  {type(y)}\")\n",
    "\n",
    "z = torch.tensor(y)\n",
    "print(f\"z: {z}  |  z type:  {z.type()}\")"
   ]
  },
  {
   "cell_type": "code",
   "execution_count": 120,
   "metadata": {},
   "outputs": [
    {
     "data": {
      "text/plain": [
       "tensor([[ 0,  1,  2,  3],\n",
       "        [ 4,  5,  6,  7],\n",
       "        [ 8,  9, 10, 11]])"
      ]
     },
     "execution_count": 120,
     "metadata": {},
     "output_type": "execute_result"
    }
   ],
   "source": [
    "x = torch.arange(0, 12).reshape(3, 4)\n",
    "x"
   ]
  },
  {
   "cell_type": "code",
   "execution_count": 130,
   "metadata": {},
   "outputs": [],
   "source": [
    "# y = x.unsqueeze(0)\n",
    "# y"
   ]
  },
  {
   "cell_type": "code",
   "execution_count": 134,
   "metadata": {},
   "outputs": [
    {
     "data": {
      "text/plain": [
       "tensor([[ 0,  4,  8],\n",
       "        [ 1,  5,  9],\n",
       "        [ 2,  6, 10],\n",
       "        [ 3,  7, 11]])"
      ]
     },
     "execution_count": 134,
     "metadata": {},
     "output_type": "execute_result"
    }
   ],
   "source": [
    "perm = x.permute(1, 0)\n",
    "perm"
   ]
  },
  {
   "cell_type": "code",
   "execution_count": 139,
   "metadata": {},
   "outputs": [
    {
     "data": {
      "text/plain": [
       "tensor([[ 0,  1,  2,  3],\n",
       "        [ 4,  5,  6,  7],\n",
       "        [ 8,  9, 10, 11],\n",
       "        [ 0,  1,  2,  3],\n",
       "        [ 4,  5,  6,  7],\n",
       "        [ 8,  9, 10, 11]])"
      ]
     },
     "execution_count": 139,
     "metadata": {},
     "output_type": "execute_result"
    }
   ],
   "source": [
    "z= torch.concat((x, x))\n",
    "z"
   ]
  },
  {
   "cell_type": "code",
   "execution_count": 145,
   "metadata": {},
   "outputs": [
    {
     "data": {
      "text/plain": [
       "tensor([[ 0,  1,  2,  3,  0,  1,  2,  3],\n",
       "        [ 4,  5,  6,  7,  4,  5,  6,  7],\n",
       "        [ 8,  9, 10, 11,  8,  9, 10, 11]])"
      ]
     },
     "execution_count": 145,
     "metadata": {},
     "output_type": "execute_result"
    }
   ],
   "source": [
    "t = torch.concat((x, x), axis=1)\n",
    "t"
   ]
  },
  {
   "cell_type": "code",
   "execution_count": 148,
   "metadata": {},
   "outputs": [
    {
     "data": {
      "text/plain": [
       "tensor([[ 0,  4,  8],\n",
       "        [ 1,  5,  9],\n",
       "        [ 2,  6, 10],\n",
       "        [ 3,  7, 11]])"
      ]
     },
     "execution_count": 148,
     "metadata": {},
     "output_type": "execute_result"
    }
   ],
   "source": [
    "w = x.transpose(1,0)\n",
    "w"
   ]
  },
  {
   "cell_type": "code",
   "execution_count": 152,
   "metadata": {},
   "outputs": [
    {
     "data": {
      "text/plain": [
       "tensor([24., 24.])"
      ]
     },
     "execution_count": 152,
     "metadata": {},
     "output_type": "execute_result"
    }
   ],
   "source": [
    "def A(a1, a2):\n",
    "    x = a2.sum()\n",
    "    y = a1.sum(axis=1)\n",
    "    return x * y\n",
    "a1 = torch.ones(2, 2)\n",
    "a2 = torch.tensor([[1, 2, 3], [1, 2, 3]])\n",
    "A(a1, a2)"
   ]
  },
  {
   "cell_type": "code",
   "execution_count": 154,
   "metadata": {},
   "outputs": [
    {
     "data": {
      "text/plain": [
       "tensor([1, 2, 3, 1, 2, 3])"
      ]
     },
     "execution_count": 154,
     "metadata": {},
     "output_type": "execute_result"
    }
   ],
   "source": [
    "a = a2.flatten()\n",
    "a"
   ]
  },
  {
   "cell_type": "code",
   "execution_count": 171,
   "metadata": {},
   "outputs": [
    {
     "data": {
      "text/plain": [
       "array([[1., 0.],\n",
       "       [1., 1.],\n",
       "       [1., 2.],\n",
       "       [1., 3.]])"
      ]
     },
     "execution_count": 171,
     "metadata": {},
     "output_type": "execute_result"
    }
   ],
   "source": [
    "def B(a1):\n",
    "    flatted = a1.flatten()\n",
    "    indices = np.arange(flatted.size)\n",
    "    result = np.stack((flatted, indices), axis=1)\n",
    "    return result\n",
    "B(a1.numpy())"
   ]
  },
  {
   "cell_type": "code",
   "execution_count": 173,
   "metadata": {},
   "outputs": [
    {
     "data": {
      "text/plain": [
       "False"
      ]
     },
     "execution_count": 173,
     "metadata": {},
     "output_type": "execute_result"
    }
   ],
   "source": [
    "torch.cuda.is_available()"
   ]
  },
  {
   "cell_type": "code",
   "execution_count": 177,
   "metadata": {},
   "outputs": [
    {
     "data": {
      "text/plain": [
       "device(type='cpu')"
      ]
     },
     "execution_count": 177,
     "metadata": {},
     "output_type": "execute_result"
    }
   ],
   "source": [
    "device = 'cuda' if torch.cuda.is_available() else 'cpu'\n",
    "x = torch.tensor([3, 4], device=device)\n",
    "x.device\n"
   ]
  },
  {
   "cell_type": "code",
   "execution_count": null,
   "metadata": {},
   "outputs": [],
   "source": [
    "from torchvision import datasets\n",
    "datasets.CIFAR10(root='data', download=True)"
   ]
  }
 ],
 "metadata": {
  "kernelspec": {
   "display_name": "Python 3",
   "language": "python",
   "name": "python3"
  },
  "language_info": {
   "codemirror_mode": {
    "name": "ipython",
    "version": 3
   },
   "file_extension": ".py",
   "mimetype": "text/x-python",
   "name": "python",
   "nbconvert_exporter": "python",
   "pygments_lexer": "ipython3",
   "version": "3.10.9"
  }
 },
 "nbformat": 4,
 "nbformat_minor": 2
}
