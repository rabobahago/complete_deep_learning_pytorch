{
 "cells": [
  {
   "cell_type": "code",
   "execution_count": 13,
   "metadata": {},
   "outputs": [
    {
     "name": "stdout",
     "output_type": "stream",
     "text": [
      "Tensor a: tensor([6, 7])\n",
      "Tensor b tensor([[2, 4],\n",
      "        [5, 8]])\n",
      "Tensor c tensor([[1., 1., 1.],\n",
      "        [1., 1., 1.]], dtype=torch.float64)\n"
     ]
    }
   ],
   "source": [
    "import torch\n",
    "import numpy as np\n",
    "a = torch.tensor([6, 7])\n",
    "b = torch.tensor(((2, 4), (5, 8)))\n",
    "c = torch.tensor(np.ones((2, 3)))\n",
    "print(f'Tensor a:', a)\n",
    "print(f'Tensor b', b)\n",
    "print(f'Tensor c', c)"
   ]
  },
  {
   "cell_type": "code",
   "execution_count": 19,
   "metadata": {},
   "outputs": [
    {
     "name": "stdout",
     "output_type": "stream",
     "text": [
      "Tensor x tensor([[1., 1., 1.],\n",
      "        [1., 1., 1.]])\n",
      "Tensor y tensor([[0., 0., 0.],\n",
      "        [0., 0., 0.]])\n",
      "Tensor z tensor([[6.2450e-39, 1.0653e-38, 8.4490e-39],\n",
      "        [1.0194e-38, 8.9082e-39, 8.4490e-39]])\n"
     ]
    }
   ],
   "source": [
    "x = torch.ones((2, 3))\n",
    "y = torch.zeros(2, 3)\n",
    "z = torch.empty((2, 3))\n",
    "print(f'Tensor x', x)\n",
    "print(f'Tensor y', y)\n",
    "print(f'Tensor z', z)"
   ]
  },
  {
   "cell_type": "code",
   "execution_count": 28,
   "metadata": {},
   "outputs": [
    {
     "name": "stdout",
     "output_type": "stream",
     "text": [
      "Tensor a tensor([[0.9375, 0.9106, 0.1144]])\n",
      "Tensor b tensor([[ 0.7794, -0.9062,  0.3897,  0.6481],\n",
      "        [ 1.0483,  0.9488,  0.3928,  1.3814],\n",
      "        [ 0.6748, -1.0393, -0.5039, -1.0821]])\n",
      "Tensor c tensor([[0.1484, 0.3823, 0.2099]])\n",
      "Tensor d tensor([[-0.0285,  0.1036,  1.2678, -0.7225],\n",
      "        [ 0.4156, -0.5506,  0.7180,  0.9685],\n",
      "        [ 0.8777,  0.0036,  0.9915, -0.9978]])\n",
      "Tensor e tensor([[9.1477e-41, 0.0000e+00, 5.6052e-45]])\n"
     ]
    }
   ],
   "source": [
    "a = torch.rand(1, 3)\n",
    "b = torch.randn(3, 4)\n",
    "c = torch.rand_like(a)\n",
    "d = torch.randn_like(b)\n",
    "e = torch.empty_like(a)\n",
    "print(f'Tensor a', a)\n",
    "print(f'Tensor b', b)\n",
    "print(f'Tensor c', c)\n",
    "print(f'Tensor d', d)\n",
    "print(f'Tensor e', e)"
   ]
  },
  {
   "cell_type": "code",
   "execution_count": 29,
   "metadata": {},
   "outputs": [],
   "source": [
    "import random\n",
    "def set_seed(seed=None, seed_torch=True):\n",
    "    \"\"\"\n",
    "    Function that controls randomness. NumPy and random modules must be imported.\n",
    "\n",
    "    Args:\n",
    "        seed : Integer\n",
    "        A non-negative integer that defines the random state. Default is `None`.\n",
    "        seed_torch : Boolean\n",
    "        If `True` sets the random seed for pytorch tensors, so pytorch module\n",
    "        must be imported. Default is `True`.\n",
    "\n",
    "    Returns:\n",
    "        Nothing.\n",
    "    \"\"\"\n",
    "    if seed is None:\n",
    "        seed = np.random.choice(2 ** 32)\n",
    "    random.seed(seed)\n",
    "    np.random.seed(seed)\n",
    "    if seed_torch:\n",
    "        torch.manual_seed(seed)\n",
    "        torch.cuda.manual_seed_all(seed)\n",
    "        torch.cuda.manual_seed(seed)\n",
    "        torch.backends.cudnn.benchmark = False\n",
    "        torch.backends.cudnn.deterministic = True\n",
    "\n",
    "    print(f'Random seed {seed} has been set.')"
   ]
  },
  {
   "cell_type": "code",
   "execution_count": 33,
   "metadata": {},
   "outputs": [],
   "source": [
    "def simplefun(seed=True, my_seed=None):\n",
    "  \"\"\"\n",
    "  Helper function to verify effectiveness of set_seed attribute\n",
    "\n",
    "  Args:\n",
    "    seed: Boolean\n",
    "      Specifies if seed value is provided or not\n",
    "    my_seed: Integer\n",
    "      Initializes seed to specified value\n",
    "\n",
    "  Returns:\n",
    "    Nothing\n",
    "  \"\"\"\n",
    "  if seed:\n",
    "    set_seed(seed=my_seed)\n",
    "\n",
    "  # uniform distribution\n",
    "  a = torch.rand(1, 3)\n",
    "  # normal distribution\n",
    "  b = torch.randn(3, 4)\n",
    "\n",
    "  print(\"Tensor a: \", a)\n",
    "  print(\"Tensor b: \", b)"
   ]
  },
  {
   "cell_type": "code",
   "execution_count": 34,
   "metadata": {},
   "outputs": [
    {
     "name": "stdout",
     "output_type": "stream",
     "text": [
      "Random seed 0 has been set.\n",
      "Tensor a:  tensor([[0.4963, 0.7682, 0.0885]])\n",
      "Tensor b:  tensor([[ 0.3643,  0.1344,  0.1642,  0.3058],\n",
      "        [ 0.2100,  0.9056,  0.6035,  0.8110],\n",
      "        [-0.0451,  0.8797,  1.0482, -0.0445]])\n"
     ]
    }
   ],
   "source": [
    "simplefun(seed=True, my_seed=0)  # Turn `seed` to `False` or change `my_seed`\n"
   ]
  },
  {
   "cell_type": "code",
   "execution_count": null,
   "metadata": {},
   "outputs": [],
   "source": []
  }
 ],
 "metadata": {
  "kernelspec": {
   "display_name": "Python 3",
   "language": "python",
   "name": "python3"
  },
  "language_info": {
   "codemirror_mode": {
    "name": "ipython",
    "version": 3
   },
   "file_extension": ".py",
   "mimetype": "text/x-python",
   "name": "python",
   "nbconvert_exporter": "python",
   "pygments_lexer": "ipython3",
   "version": "3.10.9"
  }
 },
 "nbformat": 4,
 "nbformat_minor": 2
}
