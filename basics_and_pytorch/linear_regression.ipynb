{
 "cells": [
  {
   "cell_type": "code",
   "execution_count": 1,
   "metadata": {},
   "outputs": [],
   "source": [
    "import numpy as np\n",
    "from sklearn.linear_model import LinearRegression\n",
    "import torch\n",
    "import torch.optim as optim\n",
    "import torch.nn as nn\n",
    "from torchviz import make_dot\n"
   ]
  },
  {
   "cell_type": "code",
   "execution_count": 2,
   "metadata": {},
   "outputs": [
    {
     "name": "stdout",
     "output_type": "stream",
     "text": [
      "(100, 1)\n"
     ]
    }
   ],
   "source": [
    "true_b = 1\n",
    "true_w = 2\n",
    "N = 100\n",
    "np.random.seed(42)\n",
    "x = np.random.rand(N, 1)\n",
    "print(x.shape)\n",
    "epsilon = (-0.1 * np.random.randn(N, 1))\n",
    "y = true_w * x + true_b + epsilon"
   ]
  },
  {
   "cell_type": "code",
   "execution_count": 3,
   "metadata": {},
   "outputs": [],
   "source": [
    "idx = np.arange(N)\n",
    "np.random.shuffle(idx)\n",
    "train_idx = idx[:int(0.8 * N)]\n",
    "val_idx = idx[int(0.8 * N):]\n",
    "x_train, y_train = x[train_idx], y[train_idx]\n",
    "x_val, y_val = x[val_idx],y[val_idx]"
   ]
  },
  {
   "cell_type": "code",
   "execution_count": 4,
   "metadata": {},
   "outputs": [
    {
     "name": "stdout",
     "output_type": "stream",
     "text": [
      "b, w after initial\n",
      "[0.49671415] [-0.1382643]\n",
      "b, w after update\n",
      "[0.9847612] [2.01479102]\n"
     ]
    }
   ],
   "source": [
    "# step 0: initializes the parameters randomly\n",
    "np.random.seed(42)\n",
    "b = np.random.randn(1)\n",
    "w = np.random.randn(1)\n",
    "# step 1: set the learning rate, which is eta. n like\n",
    "lr = 0.03\n",
    "# step 3: define the number of epochs\n",
    "n_epochs = 1000\n",
    "# step 4: loop\n",
    "print('b, w after initial')\n",
    "print(b, w)\n",
    "for _ in range(n_epochs):\n",
    "    # step 1: Compute the predicted output\n",
    "    yhat = b + w * x_train\n",
    "    # step 2: Compute the error, we are using batch gradient, that mean are using the whole data point\n",
    "    error = (yhat - y_train)\n",
    "    # step 3: Compute the mean loss because is linear regression\n",
    "    loss = (error ** 2).mean()\n",
    "    # step 4: Compute the gradient\n",
    "    b_grad = 2 * error.mean()\n",
    "    w_grad = 2 * (x_train * error).mean()\n",
    "    # step 5: update our parameters\n",
    "    b = b - lr * b_grad\n",
    "    w = w - lr * w_grad\n",
    "print('b, w after update')\n",
    "print(b, w)\n"
   ]
  },
  {
   "cell_type": "code",
   "execution_count": 5,
   "metadata": {},
   "outputs": [
    {
     "name": "stdout",
     "output_type": "stream",
     "text": [
      "[0.97645925] [2.03103553]\n"
     ]
    }
   ],
   "source": [
    "# sanity check\n",
    "linear = LinearRegression()\n",
    "linear.fit(x_train, y_train)\n",
    "print(linear.intercept_, linear.coef_[0])"
   ]
  },
  {
   "cell_type": "code",
   "execution_count": 6,
   "metadata": {},
   "outputs": [
    {
     "name": "stdout",
     "output_type": "stream",
     "text": [
      "tensor(9.)\n",
      "tensor([2, 5, 6])\n",
      "tensor([[1., 1., 1.],\n",
      "        [1., 1., 1.]])\n",
      "tensor([[[ 0.2567, -2.3657, -0.2604, -1.5373],\n",
      "         [-0.1766,  1.2146, -0.2465,  0.0507],\n",
      "         [-0.8677, -2.3320, -0.0992,  0.3452]],\n",
      "\n",
      "        [[ 0.6445, -0.4182,  0.1710,  0.2919],\n",
      "         [ 1.5615, -0.4156, -0.7768,  0.1102],\n",
      "         [-1.5864,  0.5006, -0.2633,  1.1923]]])\n"
     ]
    }
   ],
   "source": [
    "scaler = torch.tensor(9.0)\n",
    "vector = torch.tensor([2, 5, 6])\n",
    "matrix = torch.ones(2, 3, dtype=torch.float32)\n",
    "tensor = torch.randn(2, 3, 4, dtype=torch.float32)\n",
    "print(scaler)\n",
    "print(vector)\n",
    "print(matrix)\n",
    "print(tensor)"
   ]
  },
  {
   "cell_type": "code",
   "execution_count": 7,
   "metadata": {},
   "outputs": [
    {
     "name": "stdout",
     "output_type": "stream",
     "text": [
      "torch.Size([2, 3, 4]) torch.Size([2, 3, 4])\n"
     ]
    }
   ],
   "source": [
    "print(tensor.size(), tensor.shape)"
   ]
  },
  {
   "cell_type": "code",
   "execution_count": 8,
   "metadata": {},
   "outputs": [
    {
     "name": "stdout",
     "output_type": "stream",
     "text": [
      "torch.Size([]) torch.Size([])\n"
     ]
    }
   ],
   "source": [
    "print(scaler.size(), scaler.shape)"
   ]
  },
  {
   "cell_type": "code",
   "execution_count": 9,
   "metadata": {},
   "outputs": [
    {
     "name": "stdout",
     "output_type": "stream",
     "text": [
      "tensor([[  1.,   1., 300.,   1.,   1.,   1.]])\n",
      "tensor([[  1.,   1., 300.],\n",
      "        [  1.,   1.,   1.]])\n"
     ]
    }
   ],
   "source": [
    "same_x = matrix.view(1, 6)\n",
    "same_x[0, 2] = 300\n",
    "print(same_x)\n",
    "print(matrix)"
   ]
  },
  {
   "cell_type": "code",
   "execution_count": 10,
   "metadata": {},
   "outputs": [
    {
     "name": "stdout",
     "output_type": "stream",
     "text": [
      "tensor([[  1.,   1., 300.],\n",
      "        [  1.,   1.,   1.]])\n",
      "tensor([[  1., 400., 300.,   1.,   1.,   1.]])\n"
     ]
    }
   ],
   "source": [
    "diff_matrix = matrix.view(1, 6).clone().detach()\n",
    "diff_matrix[0, 1] = 400\n",
    "print(matrix)\n",
    "print(diff_matrix)"
   ]
  },
  {
   "cell_type": "code",
   "execution_count": 11,
   "metadata": {},
   "outputs": [
    {
     "data": {
      "text/plain": [
       "(torch.float64, dtype('float64'))"
      ]
     },
     "execution_count": 11,
     "metadata": {},
     "output_type": "execute_result"
    }
   ],
   "source": [
    "x_train_tensor = torch.as_tensor(x_train)\n",
    "x_train_tensor.dtype, x_train.dtype"
   ]
  },
  {
   "cell_type": "code",
   "execution_count": 12,
   "metadata": {},
   "outputs": [
    {
     "data": {
      "text/plain": [
       "torch.float32"
      ]
     },
     "execution_count": 12,
     "metadata": {},
     "output_type": "execute_result"
    }
   ],
   "source": [
    "float_tensor = x_train_tensor.float()\n",
    "float_tensor.dtype"
   ]
  },
  {
   "cell_type": "code",
   "execution_count": 13,
   "metadata": {},
   "outputs": [],
   "source": [
    "device = 'gpu' if torch.cuda.is_available() else 'cpu'"
   ]
  },
  {
   "cell_type": "code",
   "execution_count": 14,
   "metadata": {},
   "outputs": [
    {
     "data": {
      "text/plain": [
       "tensor([0.7713], dtype=torch.float64)"
      ]
     },
     "execution_count": 14,
     "metadata": {},
     "output_type": "execute_result"
    }
   ],
   "source": [
    "cpu_tensor = torch.as_tensor(x_train).to(device)\n",
    "cpu_tensor[0]\n"
   ]
  },
  {
   "cell_type": "code",
   "execution_count": 15,
   "metadata": {},
   "outputs": [
    {
     "name": "stdout",
     "output_type": "stream",
     "text": [
      "<class 'numpy.ndarray'> <class 'torch.Tensor'> torch.FloatTensor\n"
     ]
    }
   ],
   "source": [
    "x_train_tensor = torch.as_tensor(x_train).float().to(device)\n",
    "y_train_tensor = torch.as_tensor(y_train).float().to(device)\n",
    "print(type(x_train),type(x_train_tensor), x_train_tensor.type())"
   ]
  },
  {
   "cell_type": "code",
   "execution_count": 16,
   "metadata": {},
   "outputs": [],
   "source": [
    "back_to_numpy = x_train_tensor.cpu().numpy()"
   ]
  },
  {
   "cell_type": "code",
   "execution_count": 17,
   "metadata": {},
   "outputs": [
    {
     "name": "stdout",
     "output_type": "stream",
     "text": [
      "tensor([0.3367], requires_grad=True) tensor([0.1288], requires_grad=True)\n"
     ]
    }
   ],
   "source": [
    "# This is the best approach to create parameters b and w\n",
    "torch.manual_seed(42)\n",
    "b = torch.randn(1, requires_grad=True, dtype=torch.float, device = device)\n",
    "w = torch.randn(1, requires_grad=True, dtype=torch.float, device = device)\n",
    "print(b, w)"
   ]
  },
  {
   "cell_type": "code",
   "execution_count": 18,
   "metadata": {},
   "outputs": [],
   "source": [
    "yhat = b + w * x_train_tensor\n",
    "error = yhat - y_train_tensor\n",
    "loss = (error **2).mean()\n",
    "loss.backward()"
   ]
  },
  {
   "cell_type": "code",
   "execution_count": 19,
   "metadata": {},
   "outputs": [
    {
     "name": "stdout",
     "output_type": "stream",
     "text": [
      "True True True True\n",
      "False False\n"
     ]
    }
   ],
   "source": [
    "print(yhat.requires_grad, error.requires_grad, b.requires_grad, w.requires_grad)\n",
    "print(x_train_tensor.requires_grad, y_train_tensor.requires_grad)"
   ]
  },
  {
   "cell_type": "code",
   "execution_count": 20,
   "metadata": {},
   "outputs": [
    {
     "name": "stdout",
     "output_type": "stream",
     "text": [
      "tensor([-3.0770])\n",
      "tensor([-1.8105])\n"
     ]
    }
   ],
   "source": [
    "print(b.grad)\n",
    "print(w.grad)"
   ]
  },
  {
   "cell_type": "code",
   "execution_count": 21,
   "metadata": {},
   "outputs": [
    {
     "name": "stdout",
     "output_type": "stream",
     "text": [
      "tensor([0.])\n",
      "tensor([0.])\n"
     ]
    }
   ],
   "source": [
    "print(b.grad.zero_())\n",
    "print(w.grad.zero_())"
   ]
  },
  {
   "cell_type": "code",
   "execution_count": 22,
   "metadata": {},
   "outputs": [
    {
     "name": "stdout",
     "output_type": "stream",
     "text": [
      "tensor([0.9765], requires_grad=True) tensor([2.0310], requires_grad=True)\n"
     ]
    }
   ],
   "source": [
    "lr = 0.1\n",
    "torch.manual_seed(42)\n",
    "b = torch.randn(1,requires_grad=True, dtype=torch.float32, device = device)\n",
    "w = torch.randn(1, requires_grad=True,  dtype = torch.float32, device = device)\n",
    "epochs = 1000\n",
    "for _ in range(epochs):\n",
    "    yhat = b + w * x_train_tensor\n",
    "    error = yhat-y_train_tensor\n",
    "    make_dot(yhat)\n",
    "    loss = (error ** 2).mean()\n",
    "    loss.backward()\n",
    "    with torch.no_grad():\n",
    "        w -= lr * w.grad\n",
    "        b -= lr * b.grad\n",
    "    w.grad.zero_()\n",
    "    b.grad.zero_()\n",
    "print(b, w)"
   ]
  },
  {
   "cell_type": "code",
   "execution_count": 23,
   "metadata": {},
   "outputs": [
    {
     "name": "stdout",
     "output_type": "stream",
     "text": [
      "tensor([0.9765], requires_grad=True) tensor([2.0310], requires_grad=True)\n"
     ]
    }
   ],
   "source": [
    "lr = 0.1\n",
    "epochs = 1000\n",
    "b = torch.randn(1, requires_grad=True, device=device, dtype=torch.float32)\n",
    "w = torch.randn(1, requires_grad=True, device=device, dtype = torch.float32)\n",
    "optimizer = torch.optim.SGD([b, w], lr = lr)\n",
    "for _ in range(epochs):\n",
    "    yhat = b + w * x_train_tensor\n",
    "    error = yhat - y_train_tensor\n",
    "    loss = (error ** 2).mean()\n",
    "    loss.backward()\n",
    "    optimizer.step()\n",
    "    optimizer.zero_grad()\n",
    "print(b, w)"
   ]
  },
  {
   "cell_type": "code",
   "execution_count": 24,
   "metadata": {},
   "outputs": [
    {
     "name": "stdout",
     "output_type": "stream",
     "text": [
      "tensor([0.9765], requires_grad=True) tensor([2.0310], requires_grad=True)\n",
      "0.008044658\n",
      "0.008044658228754997 0.008044658228754997\n"
     ]
    }
   ],
   "source": [
    "b = torch.randn(1, requires_grad=True, dtype=torch.float32, device=device)\n",
    "w = torch.randn(1, requires_grad=True, dtype=torch.float32, device=device)\n",
    "lr = 0.1\n",
    "optimizer = torch.optim.SGD([b, w], lr = lr)\n",
    "loss_fn = nn.MSELoss(reduction='mean')\n",
    "epochs = 1000\n",
    "for _ in range(epochs):\n",
    "    yhat = b + w * x_train_tensor\n",
    "    loss = loss_fn(yhat, y_train_tensor)\n",
    "    loss.backward()\n",
    "    optimizer.step()\n",
    "    optimizer.zero_grad()\n",
    "print(b, w)\n",
    "print(loss.detach().cpu().numpy())\n",
    "print(loss.item(), loss.tolist())"
   ]
  },
  {
   "cell_type": "code",
   "execution_count": 44,
   "metadata": {},
   "outputs": [
    {
     "data": {
      "text/plain": [
       "OrderedDict([('b', tensor([0.9765])), ('w', tensor([2.0310]))])"
      ]
     },
     "execution_count": 44,
     "metadata": {},
     "output_type": "execute_result"
    }
   ],
   "source": [
    "class ManualLinearRegression(nn.Module):\n",
    "    def __init__(self):\n",
    "        super().__init__()\n",
    "        self.b = nn.Parameter(torch.randn(1, requires_grad=True, dtype=torch.float32, device=device))\n",
    "        self.w = nn.Parameter(torch.randn(1, requires_grad=True, dtype=torch.float32, device=device))\n",
    "    def forward(self, x):\n",
    "        return self.b + self.w * x\n",
    "torch.manual_seed(42)\n",
    "model = ManualLinearRegression().to(device)\n",
    "lr = 0.1\n",
    "loss_fn = nn.MSELoss(reduction='mean')\n",
    "optimizer = torch.optim.SGD(model.parameters(), lr = lr)\n",
    "epochs = 1000\n",
    "for _ in range(epochs):\n",
    "    model.train()\n",
    "    predictions = model.forward(x_train_tensor)\n",
    "    loss = loss_fn(predictions, y_train_tensor)\n",
    "    loss.backward()\n",
    "    optimizer.step()\n",
    "    optimizer.zero_grad()\n",
    "model.state_dict()"
   ]
  },
  {
   "cell_type": "code",
   "execution_count": null,
   "metadata": {},
   "outputs": [],
   "source": []
  }
 ],
 "metadata": {
  "kernelspec": {
   "display_name": "Python 3",
   "language": "python",
   "name": "python3"
  },
  "language_info": {
   "codemirror_mode": {
    "name": "ipython",
    "version": 3
   },
   "file_extension": ".py",
   "mimetype": "text/x-python",
   "name": "python",
   "nbconvert_exporter": "python",
   "pygments_lexer": "ipython3",
   "version": "3.10.9"
  }
 },
 "nbformat": 4,
 "nbformat_minor": 2
}
