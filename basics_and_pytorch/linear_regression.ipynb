{
 "cells": [
  {
   "cell_type": "code",
   "execution_count": 1,
   "metadata": {},
   "outputs": [],
   "source": [
    "import numpy as np\n",
    "from sklearn.linear_model import LinearRegression\n",
    "import torch\n",
    "import torch.optim as optim\n",
    "import torch.nn as nn\n",
    "from torchviz import make_dot\n"
   ]
  },
  {
   "cell_type": "code",
   "execution_count": 2,
   "metadata": {},
   "outputs": [
    {
     "name": "stdout",
     "output_type": "stream",
     "text": [
      "(100, 1)\n"
     ]
    }
   ],
   "source": [
    "true_b = 1\n",
    "true_w = 2\n",
    "N = 100\n",
    "np.random.seed(42)\n",
    "x = np.random.rand(N, 1)\n",
    "print(x.shape)\n",
    "epsilon = (-0.1 * np.random.randn(N, 1))\n",
    "y = true_w * x + true_b + epsilon"
   ]
  },
  {
   "cell_type": "code",
   "execution_count": 3,
   "metadata": {},
   "outputs": [],
   "source": [
    "idx = np.arange(N)\n",
    "np.random.shuffle(idx)\n",
    "train_idx = idx[:int(0.8 * N)]\n",
    "val_idx = idx[int(0.8 * N):]\n",
    "x_train, y_train = x[train_idx], y[train_idx]\n",
    "x_val, y_val = x[val_idx],y[val_idx]"
   ]
  },
  {
   "cell_type": "code",
   "execution_count": 4,
   "metadata": {},
   "outputs": [
    {
     "name": "stdout",
     "output_type": "stream",
     "text": [
      "b, w after initial\n",
      "[0.49671415] [-0.1382643]\n",
      "b, w after update\n",
      "[0.9847612] [2.01479102]\n"
     ]
    }
   ],
   "source": [
    "# step 0: initializes the parameters randomly\n",
    "np.random.seed(42)\n",
    "b = np.random.randn(1)\n",
    "w = np.random.randn(1)\n",
    "# step 1: set the learning rate, which is eta. n like\n",
    "lr = 0.03\n",
    "# step 3: define the number of epochs\n",
    "n_epochs = 1000\n",
    "# step 4: loop\n",
    "print('b, w after initial')\n",
    "print(b, w)\n",
    "for _ in range(n_epochs):\n",
    "    # step 1: Compute the predicted output\n",
    "    yhat = b + w * x_train\n",
    "    # step 2: Compute the error, we are using batch gradient, that mean are using the whole data point\n",
    "    error = (yhat - y_train)\n",
    "    # step 3: Compute the mean loss because is linear regression\n",
    "    loss = (error ** 2).mean()\n",
    "    # step 4: Compute the gradient\n",
    "    b_grad = 2 * error.mean()\n",
    "    w_grad = 2 * (x_train * error).mean()\n",
    "    # step 5: update our parameters\n",
    "    b = b - lr * b_grad\n",
    "    w = w - lr * w_grad\n",
    "print('b, w after update')\n",
    "print(b, w)\n"
   ]
  },
  {
   "cell_type": "code",
   "execution_count": 5,
   "metadata": {},
   "outputs": [
    {
     "name": "stdout",
     "output_type": "stream",
     "text": [
      "[0.97645925] [2.03103553]\n"
     ]
    }
   ],
   "source": [
    "# sanity check\n",
    "linear = LinearRegression()\n",
    "linear.fit(x_train, y_train)\n",
    "print(linear.intercept_, linear.coef_[0])"
   ]
  },
  {
   "cell_type": "code",
   "execution_count": 6,
   "metadata": {},
   "outputs": [
    {
     "name": "stdout",
     "output_type": "stream",
     "text": [
      "tensor(9.)\n",
      "tensor([2, 5, 6])\n",
      "tensor([[1., 1., 1.],\n",
      "        [1., 1., 1.]])\n",
      "tensor([[[-1.1046,  1.0355,  0.5287, -0.2173],\n",
      "         [ 2.1459,  0.2141,  0.2186,  0.6901],\n",
      "         [ 1.2733,  0.3376,  1.7435,  0.6795]],\n",
      "\n",
      "        [[-1.3852,  1.3246,  2.0283,  0.1722],\n",
      "         [-1.6862,  0.2164,  0.1491, -1.4975],\n",
      "         [-0.0162,  1.3466, -1.0186, -0.5995]]])\n"
     ]
    }
   ],
   "source": [
    "scaler = torch.tensor(9.0)\n",
    "vector = torch.tensor([2, 5, 6])\n",
    "matrix = torch.ones(2, 3, dtype=torch.float32)\n",
    "tensor = torch.randn(2, 3, 4, dtype=torch.float32)\n",
    "print(scaler)\n",
    "print(vector)\n",
    "print(matrix)\n",
    "print(tensor)"
   ]
  },
  {
   "cell_type": "code",
   "execution_count": 7,
   "metadata": {},
   "outputs": [
    {
     "name": "stdout",
     "output_type": "stream",
     "text": [
      "torch.Size([2, 3, 4]) torch.Size([2, 3, 4])\n"
     ]
    }
   ],
   "source": [
    "print(tensor.size(), tensor.shape)"
   ]
  },
  {
   "cell_type": "code",
   "execution_count": 8,
   "metadata": {},
   "outputs": [
    {
     "name": "stdout",
     "output_type": "stream",
     "text": [
      "torch.Size([]) torch.Size([])\n"
     ]
    }
   ],
   "source": [
    "print(scaler.size(), scaler.shape)"
   ]
  },
  {
   "cell_type": "code",
   "execution_count": 9,
   "metadata": {},
   "outputs": [
    {
     "name": "stdout",
     "output_type": "stream",
     "text": [
      "tensor([[  1.,   1., 300.,   1.,   1.,   1.]])\n",
      "tensor([[  1.,   1., 300.],\n",
      "        [  1.,   1.,   1.]])\n"
     ]
    }
   ],
   "source": [
    "same_x = matrix.view(1, 6)\n",
    "same_x[0, 2] = 300\n",
    "print(same_x)\n",
    "print(matrix)"
   ]
  },
  {
   "cell_type": "code",
   "execution_count": 10,
   "metadata": {},
   "outputs": [
    {
     "name": "stdout",
     "output_type": "stream",
     "text": [
      "tensor([[  1.,   1., 300.],\n",
      "        [  1.,   1.,   1.]])\n",
      "tensor([[  1., 400., 300.,   1.,   1.,   1.]])\n"
     ]
    }
   ],
   "source": [
    "diff_matrix = matrix.view(1, 6).clone().detach()\n",
    "diff_matrix[0, 1] = 400\n",
    "print(matrix)\n",
    "print(diff_matrix)"
   ]
  },
  {
   "cell_type": "code",
   "execution_count": 11,
   "metadata": {},
   "outputs": [
    {
     "data": {
      "text/plain": [
       "(torch.float64, dtype('float64'))"
      ]
     },
     "execution_count": 11,
     "metadata": {},
     "output_type": "execute_result"
    }
   ],
   "source": [
    "x_train_tensor = torch.as_tensor(x_train)\n",
    "x_train_tensor.dtype, x_train.dtype"
   ]
  },
  {
   "cell_type": "code",
   "execution_count": 14,
   "metadata": {},
   "outputs": [
    {
     "data": {
      "text/plain": [
       "torch.float32"
      ]
     },
     "execution_count": 14,
     "metadata": {},
     "output_type": "execute_result"
    }
   ],
   "source": [
    "float_tensor = x_train_tensor.float()\n",
    "float_tensor.dtype"
   ]
  },
  {
   "cell_type": "code",
   "execution_count": null,
   "metadata": {},
   "outputs": [],
   "source": []
  }
 ],
 "metadata": {
  "kernelspec": {
   "display_name": "Python 3",
   "language": "python",
   "name": "python3"
  },
  "language_info": {
   "codemirror_mode": {
    "name": "ipython",
    "version": 3
   },
   "file_extension": ".py",
   "mimetype": "text/x-python",
   "name": "python",
   "nbconvert_exporter": "python",
   "pygments_lexer": "ipython3",
   "version": "3.10.9"
  }
 },
 "nbformat": 4,
 "nbformat_minor": 2
}
