{
 "cells": [
  {
   "cell_type": "code",
   "execution_count": 2,
   "metadata": {},
   "outputs": [],
   "source": [
    "import numpy as np\n",
    "from sklearn.linear_model import LinearRegression\n",
    "import torch\n",
    "import torch.optim as optim\n",
    "import torch.nn as nn\n",
    "from torchviz import make_dot\n",
    "from torch.utils.data import Dataset, TensorDataset, DataLoader\n",
    "from torch.utils.data.dataset import random_split\n",
    "from torch.utils.tensorboard import SummaryWriter\n",
    "import matplotlib.pyplot as plt\n",
    "%matplotlib inline\n",
    "plt.style.use('fivethirtyeight')"
   ]
  },
  {
   "cell_type": "code",
   "execution_count": 3,
   "metadata": {},
   "outputs": [],
   "source": [
    "%run -i data_generation/simple_linear_regression.py\n",
    "%run -i model_configuration/v0.py\n",
    "%run -i data_preparation/v0.py\n"
   ]
  },
  {
   "cell_type": "code",
   "execution_count": 4,
   "metadata": {},
   "outputs": [
    {
     "name": "stdout",
     "output_type": "stream",
     "text": [
      "(100, 1)\n"
     ]
    }
   ],
   "source": [
    "true_b = 1\n",
    "true_w = 2\n",
    "N = 100\n",
    "np.random.seed(42)\n",
    "x = np.random.rand(N, 1)\n",
    "print(x.shape)\n",
    "epsilon = (-0.1 * np.random.randn(N, 1))\n",
    "y = true_w * x + true_b + epsilon"
   ]
  },
  {
   "cell_type": "code",
   "execution_count": 5,
   "metadata": {},
   "outputs": [],
   "source": [
    "idx = np.arange(N)\n",
    "np.random.shuffle(idx)\n",
    "train_idx = idx[:int(0.8 * N)]\n",
    "val_idx = idx[int(0.8 * N):]\n",
    "x_train, y_train = x[train_idx], y[train_idx]\n",
    "x_val, y_val = x[val_idx],y[val_idx]"
   ]
  },
  {
   "cell_type": "code",
   "execution_count": 6,
   "metadata": {},
   "outputs": [],
   "source": [
    "device = 'gpu' if torch.cuda.is_available() else 'cpu'"
   ]
  },
  {
   "cell_type": "code",
   "execution_count": 7,
   "metadata": {},
   "outputs": [
    {
     "name": "stdout",
     "output_type": "stream",
     "text": [
      "<class 'numpy.ndarray'> <class 'torch.Tensor'> torch.FloatTensor\n"
     ]
    }
   ],
   "source": [
    "x_train_tensor = torch.as_tensor(x_train).float().to(device)\n",
    "y_train_tensor = torch.as_tensor(y_train).float().to(device)\n",
    "print(type(x_train),type(x_train_tensor), x_train_tensor.type())"
   ]
  },
  {
   "cell_type": "code",
   "execution_count": 1,
   "metadata": {},
   "outputs": [],
   "source": [
    "# %model_training/v0.py"
   ]
  },
  {
   "cell_type": "code",
   "execution_count": 8,
   "metadata": {},
   "outputs": [
    {
     "data": {
      "text/plain": [
       "OrderedDict([('0.weight', tensor([[0.7645]])), ('0.bias', tensor([0.8300]))])"
      ]
     },
     "execution_count": 8,
     "metadata": {},
     "output_type": "execute_result"
    }
   ],
   "source": [
    "torch.manual_seed(42)\n",
    "model = nn.Sequential(nn.Linear(1, 1)).to(device)\n",
    "model.state_dict()"
   ]
  },
  {
   "cell_type": "code",
   "execution_count": 9,
   "metadata": {},
   "outputs": [],
   "source": [
    "\n",
    "lr = 0.1\n",
    "optimizer = torch.optim.SGD(model.parameters(), lr = lr)\n",
    "loss_fn = nn.MSELoss(reduction='mean')\n",
    "epochs = 1000"
   ]
  },
  {
   "cell_type": "code",
   "execution_count": 10,
   "metadata": {},
   "outputs": [
    {
     "name": "stdout",
     "output_type": "stream",
     "text": [
      "OrderedDict([('0.weight', tensor([[2.0310]])), ('0.bias', tensor([0.9765]))])\n"
     ]
    }
   ],
   "source": [
    "epochs = 1000\n",
    "for _ in range(epochs):\n",
    "    model.train()\n",
    "    predictions = model.forward(x_train_tensor)\n",
    "    loss = loss_fn(predictions, y_train_tensor)\n",
    "    loss.backward()\n",
    "    optimizer.step()\n",
    "    optimizer.zero_grad()\n",
    "print(model.state_dict())"
   ]
  },
  {
   "cell_type": "code",
   "execution_count": 13,
   "metadata": {},
   "outputs": [
    {
     "name": "stdout",
     "output_type": "stream",
     "text": [
      "Overwriting model_configuration/v1.py\n"
     ]
    }
   ],
   "source": [
    "%%writefile model_configuration/v1.py\n",
    "def make_train_step_fn(model, loss_fn, optimizer):\n",
    "    def perform_train_step_fn(x, y):\n",
    "        model.train()\n",
    "        yhat = model(x)\n",
    "        loss = loss_fn(yhat, y)\n",
    "        loss.backward()\n",
    "        optimizer.step()\n",
    "        optimizer.zero_grad()\n",
    "        return loss.item()\n",
    "    return perform_train_step_fn\n",
    "device = 'cuda' if torch.cuda.is_available() else 'cpu'\n",
    "model = nn.Linear(1, 1).to(device)\n",
    "lr = 0.1\n",
    "optimizer = torch.optim.SGD(model.parameters(), lr = lr)\n",
    "loss_fn = nn.MSELoss(reduction='mean')\n",
    "performer_train_step = make_train_step_fn(model, loss_fn, optimizer)\n",
    "performer_train_step\n"
   ]
  },
  {
   "cell_type": "code",
   "execution_count": 12,
   "metadata": {},
   "outputs": [],
   "source": [
    "%run -i model_configuration/v1.py"
   ]
  },
  {
   "cell_type": "code",
   "execution_count": 15,
   "metadata": {},
   "outputs": [
    {
     "name": "stdout",
     "output_type": "stream",
     "text": [
      "[tensor(0.0080, grad_fn=<MseLossBackward0>), tensor(0.0080, grad_fn=<MseLossBackward0>), tensor(0.0080, grad_fn=<MseLossBackward0>), tensor(0.0080, grad_fn=<MseLossBackward0>), tensor(0.0080, grad_fn=<MseLossBackward0>), tensor(0.0080, grad_fn=<MseLossBackward0>), tensor(0.0080, grad_fn=<MseLossBackward0>), tensor(0.0080, grad_fn=<MseLossBackward0>), tensor(0.0080, grad_fn=<MseLossBackward0>), tensor(0.0080, grad_fn=<MseLossBackward0>), tensor(0.0080, grad_fn=<MseLossBackward0>), tensor(0.0080, grad_fn=<MseLossBackward0>), tensor(0.0080, grad_fn=<MseLossBackward0>), tensor(0.0080, grad_fn=<MseLossBackward0>), tensor(0.0080, grad_fn=<MseLossBackward0>), tensor(0.0080, grad_fn=<MseLossBackward0>), tensor(0.0080, grad_fn=<MseLossBackward0>), tensor(0.0080, grad_fn=<MseLossBackward0>), tensor(0.0080, grad_fn=<MseLossBackward0>), tensor(0.0080, grad_fn=<MseLossBackward0>), tensor(0.0080, grad_fn=<MseLossBackward0>), tensor(0.0080, grad_fn=<MseLossBackward0>), tensor(0.0080, grad_fn=<MseLossBackward0>), tensor(0.0080, grad_fn=<MseLossBackward0>), tensor(0.0080, grad_fn=<MseLossBackward0>), tensor(0.0080, grad_fn=<MseLossBackward0>), tensor(0.0080, grad_fn=<MseLossBackward0>), tensor(0.0080, grad_fn=<MseLossBackward0>), tensor(0.0080, grad_fn=<MseLossBackward0>), tensor(0.0080, grad_fn=<MseLossBackward0>), tensor(0.0080, grad_fn=<MseLossBackward0>), tensor(0.0080, grad_fn=<MseLossBackward0>), tensor(0.0080, grad_fn=<MseLossBackward0>), tensor(0.0080, grad_fn=<MseLossBackward0>), tensor(0.0080, grad_fn=<MseLossBackward0>), tensor(0.0080, grad_fn=<MseLossBackward0>), tensor(0.0080, grad_fn=<MseLossBackward0>), tensor(0.0080, grad_fn=<MseLossBackward0>), tensor(0.0080, grad_fn=<MseLossBackward0>), tensor(0.0080, grad_fn=<MseLossBackward0>), tensor(0.0080, grad_fn=<MseLossBackward0>), tensor(0.0080, grad_fn=<MseLossBackward0>), tensor(0.0080, grad_fn=<MseLossBackward0>), tensor(0.0080, grad_fn=<MseLossBackward0>), tensor(0.0080, grad_fn=<MseLossBackward0>), tensor(0.0080, grad_fn=<MseLossBackward0>), tensor(0.0080, grad_fn=<MseLossBackward0>), tensor(0.0080, grad_fn=<MseLossBackward0>), tensor(0.0080, grad_fn=<MseLossBackward0>), tensor(0.0080, grad_fn=<MseLossBackward0>), tensor(0.0080, grad_fn=<MseLossBackward0>), tensor(0.0080, grad_fn=<MseLossBackward0>), tensor(0.0080, grad_fn=<MseLossBackward0>), tensor(0.0080, grad_fn=<MseLossBackward0>), tensor(0.0080, grad_fn=<MseLossBackward0>), tensor(0.0080, grad_fn=<MseLossBackward0>), tensor(0.0080, grad_fn=<MseLossBackward0>), tensor(0.0080, grad_fn=<MseLossBackward0>), tensor(0.0080, grad_fn=<MseLossBackward0>), tensor(0.0080, grad_fn=<MseLossBackward0>), tensor(0.0080, grad_fn=<MseLossBackward0>), tensor(0.0080, grad_fn=<MseLossBackward0>), tensor(0.0080, grad_fn=<MseLossBackward0>), tensor(0.0080, grad_fn=<MseLossBackward0>), tensor(0.0080, grad_fn=<MseLossBackward0>), tensor(0.0080, grad_fn=<MseLossBackward0>), tensor(0.0080, grad_fn=<MseLossBackward0>), tensor(0.0080, grad_fn=<MseLossBackward0>), tensor(0.0080, grad_fn=<MseLossBackward0>), tensor(0.0080, grad_fn=<MseLossBackward0>), tensor(0.0080, grad_fn=<MseLossBackward0>), tensor(0.0080, grad_fn=<MseLossBackward0>), tensor(0.0080, grad_fn=<MseLossBackward0>), tensor(0.0080, grad_fn=<MseLossBackward0>), tensor(0.0080, grad_fn=<MseLossBackward0>), tensor(0.0080, grad_fn=<MseLossBackward0>), tensor(0.0080, grad_fn=<MseLossBackward0>), tensor(0.0080, grad_fn=<MseLossBackward0>), tensor(0.0080, grad_fn=<MseLossBackward0>), tensor(0.0080, grad_fn=<MseLossBackward0>), tensor(0.0080, grad_fn=<MseLossBackward0>), tensor(0.0080, grad_fn=<MseLossBackward0>), tensor(0.0080, grad_fn=<MseLossBackward0>), tensor(0.0080, grad_fn=<MseLossBackward0>), tensor(0.0080, grad_fn=<MseLossBackward0>), tensor(0.0080, grad_fn=<MseLossBackward0>), tensor(0.0080, grad_fn=<MseLossBackward0>), tensor(0.0080, grad_fn=<MseLossBackward0>), tensor(0.0080, grad_fn=<MseLossBackward0>), tensor(0.0080, grad_fn=<MseLossBackward0>), tensor(0.0080, grad_fn=<MseLossBackward0>), tensor(0.0080, grad_fn=<MseLossBackward0>), tensor(0.0080, grad_fn=<MseLossBackward0>), tensor(0.0080, grad_fn=<MseLossBackward0>), tensor(0.0080, grad_fn=<MseLossBackward0>), tensor(0.0080, grad_fn=<MseLossBackward0>), tensor(0.0080, grad_fn=<MseLossBackward0>), tensor(0.0080, grad_fn=<MseLossBackward0>), tensor(0.0080, grad_fn=<MseLossBackward0>), tensor(0.0080, grad_fn=<MseLossBackward0>), tensor(0.0080, grad_fn=<MseLossBackward0>), tensor(0.0080, grad_fn=<MseLossBackward0>), tensor(0.0080, grad_fn=<MseLossBackward0>), tensor(0.0080, grad_fn=<MseLossBackward0>), tensor(0.0080, grad_fn=<MseLossBackward0>), tensor(0.0080, grad_fn=<MseLossBackward0>), tensor(0.0080, grad_fn=<MseLossBackward0>), tensor(0.0080, grad_fn=<MseLossBackward0>), tensor(0.0080, grad_fn=<MseLossBackward0>), tensor(0.0080, grad_fn=<MseLossBackward0>), tensor(0.0080, grad_fn=<MseLossBackward0>), tensor(0.0080, grad_fn=<MseLossBackward0>), tensor(0.0080, grad_fn=<MseLossBackward0>), tensor(0.0080, grad_fn=<MseLossBackward0>), tensor(0.0080, grad_fn=<MseLossBackward0>), tensor(0.0080, grad_fn=<MseLossBackward0>), tensor(0.0080, grad_fn=<MseLossBackward0>), tensor(0.0080, grad_fn=<MseLossBackward0>), tensor(0.0080, grad_fn=<MseLossBackward0>), tensor(0.0080, grad_fn=<MseLossBackward0>), tensor(0.0080, grad_fn=<MseLossBackward0>), tensor(0.0080, grad_fn=<MseLossBackward0>), tensor(0.0080, grad_fn=<MseLossBackward0>), tensor(0.0080, grad_fn=<MseLossBackward0>), tensor(0.0080, grad_fn=<MseLossBackward0>), tensor(0.0080, grad_fn=<MseLossBackward0>), tensor(0.0080, grad_fn=<MseLossBackward0>), tensor(0.0080, grad_fn=<MseLossBackward0>), tensor(0.0080, grad_fn=<MseLossBackward0>), tensor(0.0080, grad_fn=<MseLossBackward0>), tensor(0.0080, grad_fn=<MseLossBackward0>), tensor(0.0080, grad_fn=<MseLossBackward0>), tensor(0.0080, grad_fn=<MseLossBackward0>), tensor(0.0080, grad_fn=<MseLossBackward0>), tensor(0.0080, grad_fn=<MseLossBackward0>), tensor(0.0080, grad_fn=<MseLossBackward0>), tensor(0.0080, grad_fn=<MseLossBackward0>), tensor(0.0080, grad_fn=<MseLossBackward0>), tensor(0.0080, grad_fn=<MseLossBackward0>), tensor(0.0080, grad_fn=<MseLossBackward0>), tensor(0.0080, grad_fn=<MseLossBackward0>), tensor(0.0080, grad_fn=<MseLossBackward0>), tensor(0.0080, grad_fn=<MseLossBackward0>), tensor(0.0080, grad_fn=<MseLossBackward0>), tensor(0.0080, grad_fn=<MseLossBackward0>), tensor(0.0080, grad_fn=<MseLossBackward0>), tensor(0.0080, grad_fn=<MseLossBackward0>), tensor(0.0080, grad_fn=<MseLossBackward0>), tensor(0.0080, grad_fn=<MseLossBackward0>), tensor(0.0080, grad_fn=<MseLossBackward0>), tensor(0.0080, grad_fn=<MseLossBackward0>), tensor(0.0080, grad_fn=<MseLossBackward0>), tensor(0.0080, grad_fn=<MseLossBackward0>), tensor(0.0080, grad_fn=<MseLossBackward0>), tensor(0.0080, grad_fn=<MseLossBackward0>), tensor(0.0080, grad_fn=<MseLossBackward0>), tensor(0.0080, grad_fn=<MseLossBackward0>), tensor(0.0080, grad_fn=<MseLossBackward0>), tensor(0.0080, grad_fn=<MseLossBackward0>), tensor(0.0080, grad_fn=<MseLossBackward0>), tensor(0.0080, grad_fn=<MseLossBackward0>), tensor(0.0080, grad_fn=<MseLossBackward0>), tensor(0.0080, grad_fn=<MseLossBackward0>), tensor(0.0080, grad_fn=<MseLossBackward0>), tensor(0.0080, grad_fn=<MseLossBackward0>), tensor(0.0080, grad_fn=<MseLossBackward0>), tensor(0.0080, grad_fn=<MseLossBackward0>), tensor(0.0080, grad_fn=<MseLossBackward0>), tensor(0.0080, grad_fn=<MseLossBackward0>), tensor(0.0080, grad_fn=<MseLossBackward0>), tensor(0.0080, grad_fn=<MseLossBackward0>), tensor(0.0080, grad_fn=<MseLossBackward0>), tensor(0.0080, grad_fn=<MseLossBackward0>), tensor(0.0080, grad_fn=<MseLossBackward0>), tensor(0.0080, grad_fn=<MseLossBackward0>), tensor(0.0080, grad_fn=<MseLossBackward0>), tensor(0.0080, grad_fn=<MseLossBackward0>), tensor(0.0080, grad_fn=<MseLossBackward0>), tensor(0.0080, grad_fn=<MseLossBackward0>), tensor(0.0080, grad_fn=<MseLossBackward0>), tensor(0.0080, grad_fn=<MseLossBackward0>), tensor(0.0080, grad_fn=<MseLossBackward0>), tensor(0.0080, grad_fn=<MseLossBackward0>), tensor(0.0080, grad_fn=<MseLossBackward0>), tensor(0.0080, grad_fn=<MseLossBackward0>), tensor(0.0080, grad_fn=<MseLossBackward0>), tensor(0.0080, grad_fn=<MseLossBackward0>), tensor(0.0080, grad_fn=<MseLossBackward0>), tensor(0.0080, grad_fn=<MseLossBackward0>), tensor(0.0080, grad_fn=<MseLossBackward0>), tensor(0.0080, grad_fn=<MseLossBackward0>), tensor(0.0080, grad_fn=<MseLossBackward0>), tensor(0.0080, grad_fn=<MseLossBackward0>), tensor(0.0080, grad_fn=<MseLossBackward0>), tensor(0.0080, grad_fn=<MseLossBackward0>), tensor(0.0080, grad_fn=<MseLossBackward0>), tensor(0.0080, grad_fn=<MseLossBackward0>), tensor(0.0080, grad_fn=<MseLossBackward0>), tensor(0.0080, grad_fn=<MseLossBackward0>), tensor(0.0080, grad_fn=<MseLossBackward0>), tensor(0.0080, grad_fn=<MseLossBackward0>), tensor(0.0080, grad_fn=<MseLossBackward0>), tensor(0.0080, grad_fn=<MseLossBackward0>), tensor(0.0080, grad_fn=<MseLossBackward0>), tensor(0.0080, grad_fn=<MseLossBackward0>), tensor(0.0080, grad_fn=<MseLossBackward0>), tensor(0.0080, grad_fn=<MseLossBackward0>), tensor(0.0080, grad_fn=<MseLossBackward0>), tensor(0.0080, grad_fn=<MseLossBackward0>), tensor(0.0080, grad_fn=<MseLossBackward0>), tensor(0.0080, grad_fn=<MseLossBackward0>), tensor(0.0080, grad_fn=<MseLossBackward0>), tensor(0.0080, grad_fn=<MseLossBackward0>), tensor(0.0080, grad_fn=<MseLossBackward0>), tensor(0.0080, grad_fn=<MseLossBackward0>), tensor(0.0080, grad_fn=<MseLossBackward0>), tensor(0.0080, grad_fn=<MseLossBackward0>), tensor(0.0080, grad_fn=<MseLossBackward0>), tensor(0.0080, grad_fn=<MseLossBackward0>), tensor(0.0080, grad_fn=<MseLossBackward0>), tensor(0.0080, grad_fn=<MseLossBackward0>), tensor(0.0080, grad_fn=<MseLossBackward0>), tensor(0.0080, grad_fn=<MseLossBackward0>), tensor(0.0080, grad_fn=<MseLossBackward0>), tensor(0.0080, grad_fn=<MseLossBackward0>), tensor(0.0080, grad_fn=<MseLossBackward0>), tensor(0.0080, grad_fn=<MseLossBackward0>), tensor(0.0080, grad_fn=<MseLossBackward0>), tensor(0.0080, grad_fn=<MseLossBackward0>), tensor(0.0080, grad_fn=<MseLossBackward0>), tensor(0.0080, grad_fn=<MseLossBackward0>), tensor(0.0080, grad_fn=<MseLossBackward0>), tensor(0.0080, grad_fn=<MseLossBackward0>), tensor(0.0080, grad_fn=<MseLossBackward0>), tensor(0.0080, grad_fn=<MseLossBackward0>), tensor(0.0080, grad_fn=<MseLossBackward0>), tensor(0.0080, grad_fn=<MseLossBackward0>), tensor(0.0080, grad_fn=<MseLossBackward0>), tensor(0.0080, grad_fn=<MseLossBackward0>), tensor(0.0080, grad_fn=<MseLossBackward0>), tensor(0.0080, grad_fn=<MseLossBackward0>), tensor(0.0080, grad_fn=<MseLossBackward0>), tensor(0.0080, grad_fn=<MseLossBackward0>), tensor(0.0080, grad_fn=<MseLossBackward0>), tensor(0.0080, grad_fn=<MseLossBackward0>), tensor(0.0080, grad_fn=<MseLossBackward0>), tensor(0.0080, grad_fn=<MseLossBackward0>), tensor(0.0080, grad_fn=<MseLossBackward0>), tensor(0.0080, grad_fn=<MseLossBackward0>), tensor(0.0080, grad_fn=<MseLossBackward0>), tensor(0.0080, grad_fn=<MseLossBackward0>), tensor(0.0080, grad_fn=<MseLossBackward0>), tensor(0.0080, grad_fn=<MseLossBackward0>), tensor(0.0080, grad_fn=<MseLossBackward0>), tensor(0.0080, grad_fn=<MseLossBackward0>), tensor(0.0080, grad_fn=<MseLossBackward0>), tensor(0.0080, grad_fn=<MseLossBackward0>), tensor(0.0080, grad_fn=<MseLossBackward0>), tensor(0.0080, grad_fn=<MseLossBackward0>), tensor(0.0080, grad_fn=<MseLossBackward0>), tensor(0.0080, grad_fn=<MseLossBackward0>), tensor(0.0080, grad_fn=<MseLossBackward0>), tensor(0.0080, grad_fn=<MseLossBackward0>), tensor(0.0080, grad_fn=<MseLossBackward0>), tensor(0.0080, grad_fn=<MseLossBackward0>), tensor(0.0080, grad_fn=<MseLossBackward0>), tensor(0.0080, grad_fn=<MseLossBackward0>), tensor(0.0080, grad_fn=<MseLossBackward0>), tensor(0.0080, grad_fn=<MseLossBackward0>), tensor(0.0080, grad_fn=<MseLossBackward0>), tensor(0.0080, grad_fn=<MseLossBackward0>), tensor(0.0080, grad_fn=<MseLossBackward0>), tensor(0.0080, grad_fn=<MseLossBackward0>), tensor(0.0080, grad_fn=<MseLossBackward0>), tensor(0.0080, grad_fn=<MseLossBackward0>), tensor(0.0080, grad_fn=<MseLossBackward0>), tensor(0.0080, grad_fn=<MseLossBackward0>), tensor(0.0080, grad_fn=<MseLossBackward0>), tensor(0.0080, grad_fn=<MseLossBackward0>), tensor(0.0080, grad_fn=<MseLossBackward0>), tensor(0.0080, grad_fn=<MseLossBackward0>), tensor(0.0080, grad_fn=<MseLossBackward0>), tensor(0.0080, grad_fn=<MseLossBackward0>), tensor(0.0080, grad_fn=<MseLossBackward0>), tensor(0.0080, grad_fn=<MseLossBackward0>), tensor(0.0080, grad_fn=<MseLossBackward0>), tensor(0.0080, grad_fn=<MseLossBackward0>), tensor(0.0080, grad_fn=<MseLossBackward0>), tensor(0.0080, grad_fn=<MseLossBackward0>), tensor(0.0080, grad_fn=<MseLossBackward0>), tensor(0.0080, grad_fn=<MseLossBackward0>), tensor(0.0080, grad_fn=<MseLossBackward0>), tensor(0.0080, grad_fn=<MseLossBackward0>), tensor(0.0080, grad_fn=<MseLossBackward0>), tensor(0.0080, grad_fn=<MseLossBackward0>), tensor(0.0080, grad_fn=<MseLossBackward0>), tensor(0.0080, grad_fn=<MseLossBackward0>), tensor(0.0080, grad_fn=<MseLossBackward0>), tensor(0.0080, grad_fn=<MseLossBackward0>), tensor(0.0080, grad_fn=<MseLossBackward0>), tensor(0.0080, grad_fn=<MseLossBackward0>), tensor(0.0080, grad_fn=<MseLossBackward0>), tensor(0.0080, grad_fn=<MseLossBackward0>), tensor(0.0080, grad_fn=<MseLossBackward0>), tensor(0.0080, grad_fn=<MseLossBackward0>), tensor(0.0080, grad_fn=<MseLossBackward0>), tensor(0.0080, grad_fn=<MseLossBackward0>), tensor(0.0080, grad_fn=<MseLossBackward0>), tensor(0.0080, grad_fn=<MseLossBackward0>), tensor(0.0080, grad_fn=<MseLossBackward0>), tensor(0.0080, grad_fn=<MseLossBackward0>), tensor(0.0080, grad_fn=<MseLossBackward0>), tensor(0.0080, grad_fn=<MseLossBackward0>), tensor(0.0080, grad_fn=<MseLossBackward0>), tensor(0.0080, grad_fn=<MseLossBackward0>), tensor(0.0080, grad_fn=<MseLossBackward0>), tensor(0.0080, grad_fn=<MseLossBackward0>), tensor(0.0080, grad_fn=<MseLossBackward0>), tensor(0.0080, grad_fn=<MseLossBackward0>), tensor(0.0080, grad_fn=<MseLossBackward0>), tensor(0.0080, grad_fn=<MseLossBackward0>), tensor(0.0080, grad_fn=<MseLossBackward0>), tensor(0.0080, grad_fn=<MseLossBackward0>), tensor(0.0080, grad_fn=<MseLossBackward0>), tensor(0.0080, grad_fn=<MseLossBackward0>), tensor(0.0080, grad_fn=<MseLossBackward0>), tensor(0.0080, grad_fn=<MseLossBackward0>), tensor(0.0080, grad_fn=<MseLossBackward0>), tensor(0.0080, grad_fn=<MseLossBackward0>), tensor(0.0080, grad_fn=<MseLossBackward0>), tensor(0.0080, grad_fn=<MseLossBackward0>), tensor(0.0080, grad_fn=<MseLossBackward0>), tensor(0.0080, grad_fn=<MseLossBackward0>), tensor(0.0080, grad_fn=<MseLossBackward0>), tensor(0.0080, grad_fn=<MseLossBackward0>), tensor(0.0080, grad_fn=<MseLossBackward0>), tensor(0.0080, grad_fn=<MseLossBackward0>), tensor(0.0080, grad_fn=<MseLossBackward0>), tensor(0.0080, grad_fn=<MseLossBackward0>), tensor(0.0080, grad_fn=<MseLossBackward0>), tensor(0.0080, grad_fn=<MseLossBackward0>), tensor(0.0080, grad_fn=<MseLossBackward0>), tensor(0.0080, grad_fn=<MseLossBackward0>), tensor(0.0080, grad_fn=<MseLossBackward0>), tensor(0.0080, grad_fn=<MseLossBackward0>), tensor(0.0080, grad_fn=<MseLossBackward0>), tensor(0.0080, grad_fn=<MseLossBackward0>), tensor(0.0080, grad_fn=<MseLossBackward0>), tensor(0.0080, grad_fn=<MseLossBackward0>), tensor(0.0080, grad_fn=<MseLossBackward0>), tensor(0.0080, grad_fn=<MseLossBackward0>), tensor(0.0080, grad_fn=<MseLossBackward0>), tensor(0.0080, grad_fn=<MseLossBackward0>), tensor(0.0080, grad_fn=<MseLossBackward0>), tensor(0.0080, grad_fn=<MseLossBackward0>), tensor(0.0080, grad_fn=<MseLossBackward0>), tensor(0.0080, grad_fn=<MseLossBackward0>), tensor(0.0080, grad_fn=<MseLossBackward0>), tensor(0.0080, grad_fn=<MseLossBackward0>), tensor(0.0080, grad_fn=<MseLossBackward0>), tensor(0.0080, grad_fn=<MseLossBackward0>), tensor(0.0080, grad_fn=<MseLossBackward0>), tensor(0.0080, grad_fn=<MseLossBackward0>), tensor(0.0080, grad_fn=<MseLossBackward0>), tensor(0.0080, grad_fn=<MseLossBackward0>), tensor(0.0080, grad_fn=<MseLossBackward0>), tensor(0.0080, grad_fn=<MseLossBackward0>), tensor(0.0080, grad_fn=<MseLossBackward0>), tensor(0.0080, grad_fn=<MseLossBackward0>), tensor(0.0080, grad_fn=<MseLossBackward0>), tensor(0.0080, grad_fn=<MseLossBackward0>), tensor(0.0080, grad_fn=<MseLossBackward0>), tensor(0.0080, grad_fn=<MseLossBackward0>), tensor(0.0080, grad_fn=<MseLossBackward0>), tensor(0.0080, grad_fn=<MseLossBackward0>), tensor(0.0080, grad_fn=<MseLossBackward0>), tensor(0.0080, grad_fn=<MseLossBackward0>), tensor(0.0080, grad_fn=<MseLossBackward0>), tensor(0.0080, grad_fn=<MseLossBackward0>), tensor(0.0080, grad_fn=<MseLossBackward0>), tensor(0.0080, grad_fn=<MseLossBackward0>), tensor(0.0080, grad_fn=<MseLossBackward0>), tensor(0.0080, grad_fn=<MseLossBackward0>), tensor(0.0080, grad_fn=<MseLossBackward0>), tensor(0.0080, grad_fn=<MseLossBackward0>), tensor(0.0080, grad_fn=<MseLossBackward0>), tensor(0.0080, grad_fn=<MseLossBackward0>), tensor(0.0080, grad_fn=<MseLossBackward0>), tensor(0.0080, grad_fn=<MseLossBackward0>), tensor(0.0080, grad_fn=<MseLossBackward0>), tensor(0.0080, grad_fn=<MseLossBackward0>), tensor(0.0080, grad_fn=<MseLossBackward0>), tensor(0.0080, grad_fn=<MseLossBackward0>), tensor(0.0080, grad_fn=<MseLossBackward0>), tensor(0.0080, grad_fn=<MseLossBackward0>), tensor(0.0080, grad_fn=<MseLossBackward0>), tensor(0.0080, grad_fn=<MseLossBackward0>), tensor(0.0080, grad_fn=<MseLossBackward0>), tensor(0.0080, grad_fn=<MseLossBackward0>), tensor(0.0080, grad_fn=<MseLossBackward0>), tensor(0.0080, grad_fn=<MseLossBackward0>), tensor(0.0080, grad_fn=<MseLossBackward0>), tensor(0.0080, grad_fn=<MseLossBackward0>), tensor(0.0080, grad_fn=<MseLossBackward0>), tensor(0.0080, grad_fn=<MseLossBackward0>), tensor(0.0080, grad_fn=<MseLossBackward0>), tensor(0.0080, grad_fn=<MseLossBackward0>), tensor(0.0080, grad_fn=<MseLossBackward0>), tensor(0.0080, grad_fn=<MseLossBackward0>), tensor(0.0080, grad_fn=<MseLossBackward0>), tensor(0.0080, grad_fn=<MseLossBackward0>), tensor(0.0080, grad_fn=<MseLossBackward0>), tensor(0.0080, grad_fn=<MseLossBackward0>), tensor(0.0080, grad_fn=<MseLossBackward0>), tensor(0.0080, grad_fn=<MseLossBackward0>), tensor(0.0080, grad_fn=<MseLossBackward0>), tensor(0.0080, grad_fn=<MseLossBackward0>), tensor(0.0080, grad_fn=<MseLossBackward0>), tensor(0.0080, grad_fn=<MseLossBackward0>), tensor(0.0080, grad_fn=<MseLossBackward0>), tensor(0.0080, grad_fn=<MseLossBackward0>), tensor(0.0080, grad_fn=<MseLossBackward0>), tensor(0.0080, grad_fn=<MseLossBackward0>), tensor(0.0080, grad_fn=<MseLossBackward0>), tensor(0.0080, grad_fn=<MseLossBackward0>), tensor(0.0080, grad_fn=<MseLossBackward0>), tensor(0.0080, grad_fn=<MseLossBackward0>), tensor(0.0080, grad_fn=<MseLossBackward0>), tensor(0.0080, grad_fn=<MseLossBackward0>), tensor(0.0080, grad_fn=<MseLossBackward0>), tensor(0.0080, grad_fn=<MseLossBackward0>), tensor(0.0080, grad_fn=<MseLossBackward0>), tensor(0.0080, grad_fn=<MseLossBackward0>), tensor(0.0080, grad_fn=<MseLossBackward0>), tensor(0.0080, grad_fn=<MseLossBackward0>), tensor(0.0080, grad_fn=<MseLossBackward0>), tensor(0.0080, grad_fn=<MseLossBackward0>), tensor(0.0080, grad_fn=<MseLossBackward0>), tensor(0.0080, grad_fn=<MseLossBackward0>), tensor(0.0080, grad_fn=<MseLossBackward0>), tensor(0.0080, grad_fn=<MseLossBackward0>), tensor(0.0080, grad_fn=<MseLossBackward0>), tensor(0.0080, grad_fn=<MseLossBackward0>), tensor(0.0080, grad_fn=<MseLossBackward0>), tensor(0.0080, grad_fn=<MseLossBackward0>), tensor(0.0080, grad_fn=<MseLossBackward0>), tensor(0.0080, grad_fn=<MseLossBackward0>), tensor(0.0080, grad_fn=<MseLossBackward0>), tensor(0.0080, grad_fn=<MseLossBackward0>), tensor(0.0080, grad_fn=<MseLossBackward0>), tensor(0.0080, grad_fn=<MseLossBackward0>), tensor(0.0080, grad_fn=<MseLossBackward0>), tensor(0.0080, grad_fn=<MseLossBackward0>), tensor(0.0080, grad_fn=<MseLossBackward0>), tensor(0.0080, grad_fn=<MseLossBackward0>), tensor(0.0080, grad_fn=<MseLossBackward0>), tensor(0.0080, grad_fn=<MseLossBackward0>), tensor(0.0080, grad_fn=<MseLossBackward0>), tensor(0.0080, grad_fn=<MseLossBackward0>), tensor(0.0080, grad_fn=<MseLossBackward0>), tensor(0.0080, grad_fn=<MseLossBackward0>), tensor(0.0080, grad_fn=<MseLossBackward0>), tensor(0.0080, grad_fn=<MseLossBackward0>), tensor(0.0080, grad_fn=<MseLossBackward0>), tensor(0.0080, grad_fn=<MseLossBackward0>), tensor(0.0080, grad_fn=<MseLossBackward0>), tensor(0.0080, grad_fn=<MseLossBackward0>), tensor(0.0080, grad_fn=<MseLossBackward0>), tensor(0.0080, grad_fn=<MseLossBackward0>), tensor(0.0080, grad_fn=<MseLossBackward0>), tensor(0.0080, grad_fn=<MseLossBackward0>), tensor(0.0080, grad_fn=<MseLossBackward0>), tensor(0.0080, grad_fn=<MseLossBackward0>), tensor(0.0080, grad_fn=<MseLossBackward0>), tensor(0.0080, grad_fn=<MseLossBackward0>), tensor(0.0080, grad_fn=<MseLossBackward0>), tensor(0.0080, grad_fn=<MseLossBackward0>), tensor(0.0080, grad_fn=<MseLossBackward0>), tensor(0.0080, grad_fn=<MseLossBackward0>), tensor(0.0080, grad_fn=<MseLossBackward0>), tensor(0.0080, grad_fn=<MseLossBackward0>), tensor(0.0080, grad_fn=<MseLossBackward0>), tensor(0.0080, grad_fn=<MseLossBackward0>), tensor(0.0080, grad_fn=<MseLossBackward0>), tensor(0.0080, grad_fn=<MseLossBackward0>), tensor(0.0080, grad_fn=<MseLossBackward0>), tensor(0.0080, grad_fn=<MseLossBackward0>), tensor(0.0080, grad_fn=<MseLossBackward0>), tensor(0.0080, grad_fn=<MseLossBackward0>), tensor(0.0080, grad_fn=<MseLossBackward0>), tensor(0.0080, grad_fn=<MseLossBackward0>), tensor(0.0080, grad_fn=<MseLossBackward0>), tensor(0.0080, grad_fn=<MseLossBackward0>), tensor(0.0080, grad_fn=<MseLossBackward0>), tensor(0.0080, grad_fn=<MseLossBackward0>), tensor(0.0080, grad_fn=<MseLossBackward0>), tensor(0.0080, grad_fn=<MseLossBackward0>), tensor(0.0080, grad_fn=<MseLossBackward0>), tensor(0.0080, grad_fn=<MseLossBackward0>), tensor(0.0080, grad_fn=<MseLossBackward0>), tensor(0.0080, grad_fn=<MseLossBackward0>), tensor(0.0080, grad_fn=<MseLossBackward0>), tensor(0.0080, grad_fn=<MseLossBackward0>), tensor(0.0080, grad_fn=<MseLossBackward0>), tensor(0.0080, grad_fn=<MseLossBackward0>), tensor(0.0080, grad_fn=<MseLossBackward0>), tensor(0.0080, grad_fn=<MseLossBackward0>), tensor(0.0080, grad_fn=<MseLossBackward0>), tensor(0.0080, grad_fn=<MseLossBackward0>), tensor(0.0080, grad_fn=<MseLossBackward0>), tensor(0.0080, grad_fn=<MseLossBackward0>), tensor(0.0080, grad_fn=<MseLossBackward0>), tensor(0.0080, grad_fn=<MseLossBackward0>), tensor(0.0080, grad_fn=<MseLossBackward0>), tensor(0.0080, grad_fn=<MseLossBackward0>), tensor(0.0080, grad_fn=<MseLossBackward0>), tensor(0.0080, grad_fn=<MseLossBackward0>), tensor(0.0080, grad_fn=<MseLossBackward0>), tensor(0.0080, grad_fn=<MseLossBackward0>), tensor(0.0080, grad_fn=<MseLossBackward0>), tensor(0.0080, grad_fn=<MseLossBackward0>), tensor(0.0080, grad_fn=<MseLossBackward0>), tensor(0.0080, grad_fn=<MseLossBackward0>), tensor(0.0080, grad_fn=<MseLossBackward0>), tensor(0.0080, grad_fn=<MseLossBackward0>), tensor(0.0080, grad_fn=<MseLossBackward0>), tensor(0.0080, grad_fn=<MseLossBackward0>), tensor(0.0080, grad_fn=<MseLossBackward0>), tensor(0.0080, grad_fn=<MseLossBackward0>), tensor(0.0080, grad_fn=<MseLossBackward0>), tensor(0.0080, grad_fn=<MseLossBackward0>), tensor(0.0080, grad_fn=<MseLossBackward0>), tensor(0.0080, grad_fn=<MseLossBackward0>), tensor(0.0080, grad_fn=<MseLossBackward0>), tensor(0.0080, grad_fn=<MseLossBackward0>), tensor(0.0080, grad_fn=<MseLossBackward0>), tensor(0.0080, grad_fn=<MseLossBackward0>), tensor(0.0080, grad_fn=<MseLossBackward0>), tensor(0.0080, grad_fn=<MseLossBackward0>), tensor(0.0080, grad_fn=<MseLossBackward0>), tensor(0.0080, grad_fn=<MseLossBackward0>), tensor(0.0080, grad_fn=<MseLossBackward0>), tensor(0.0080, grad_fn=<MseLossBackward0>), tensor(0.0080, grad_fn=<MseLossBackward0>), tensor(0.0080, grad_fn=<MseLossBackward0>), tensor(0.0080, grad_fn=<MseLossBackward0>), tensor(0.0080, grad_fn=<MseLossBackward0>), tensor(0.0080, grad_fn=<MseLossBackward0>), tensor(0.0080, grad_fn=<MseLossBackward0>), tensor(0.0080, grad_fn=<MseLossBackward0>), tensor(0.0080, grad_fn=<MseLossBackward0>), tensor(0.0080, grad_fn=<MseLossBackward0>), tensor(0.0080, grad_fn=<MseLossBackward0>), tensor(0.0080, grad_fn=<MseLossBackward0>), tensor(0.0080, grad_fn=<MseLossBackward0>), tensor(0.0080, grad_fn=<MseLossBackward0>), tensor(0.0080, grad_fn=<MseLossBackward0>), tensor(0.0080, grad_fn=<MseLossBackward0>), tensor(0.0080, grad_fn=<MseLossBackward0>), tensor(0.0080, grad_fn=<MseLossBackward0>), tensor(0.0080, grad_fn=<MseLossBackward0>), tensor(0.0080, grad_fn=<MseLossBackward0>), tensor(0.0080, grad_fn=<MseLossBackward0>), tensor(0.0080, grad_fn=<MseLossBackward0>), tensor(0.0080, grad_fn=<MseLossBackward0>), tensor(0.0080, grad_fn=<MseLossBackward0>), tensor(0.0080, grad_fn=<MseLossBackward0>), tensor(0.0080, grad_fn=<MseLossBackward0>), tensor(0.0080, grad_fn=<MseLossBackward0>), tensor(0.0080, grad_fn=<MseLossBackward0>), tensor(0.0080, grad_fn=<MseLossBackward0>), tensor(0.0080, grad_fn=<MseLossBackward0>), tensor(0.0080, grad_fn=<MseLossBackward0>), tensor(0.0080, grad_fn=<MseLossBackward0>), tensor(0.0080, grad_fn=<MseLossBackward0>), tensor(0.0080, grad_fn=<MseLossBackward0>), tensor(0.0080, grad_fn=<MseLossBackward0>), tensor(0.0080, grad_fn=<MseLossBackward0>), tensor(0.0080, grad_fn=<MseLossBackward0>), tensor(0.0080, grad_fn=<MseLossBackward0>), tensor(0.0080, grad_fn=<MseLossBackward0>), tensor(0.0080, grad_fn=<MseLossBackward0>), tensor(0.0080, grad_fn=<MseLossBackward0>), tensor(0.0080, grad_fn=<MseLossBackward0>), tensor(0.0080, grad_fn=<MseLossBackward0>), tensor(0.0080, grad_fn=<MseLossBackward0>), tensor(0.0080, grad_fn=<MseLossBackward0>), tensor(0.0080, grad_fn=<MseLossBackward0>), tensor(0.0080, grad_fn=<MseLossBackward0>), tensor(0.0080, grad_fn=<MseLossBackward0>), tensor(0.0080, grad_fn=<MseLossBackward0>), tensor(0.0080, grad_fn=<MseLossBackward0>), tensor(0.0080, grad_fn=<MseLossBackward0>), tensor(0.0080, grad_fn=<MseLossBackward0>), tensor(0.0080, grad_fn=<MseLossBackward0>), tensor(0.0080, grad_fn=<MseLossBackward0>), tensor(0.0080, grad_fn=<MseLossBackward0>), tensor(0.0080, grad_fn=<MseLossBackward0>), tensor(0.0080, grad_fn=<MseLossBackward0>), tensor(0.0080, grad_fn=<MseLossBackward0>), tensor(0.0080, grad_fn=<MseLossBackward0>), tensor(0.0080, grad_fn=<MseLossBackward0>), tensor(0.0080, grad_fn=<MseLossBackward0>), tensor(0.0080, grad_fn=<MseLossBackward0>), tensor(0.0080, grad_fn=<MseLossBackward0>), tensor(0.0080, grad_fn=<MseLossBackward0>), tensor(0.0080, grad_fn=<MseLossBackward0>), tensor(0.0080, grad_fn=<MseLossBackward0>), tensor(0.0080, grad_fn=<MseLossBackward0>), tensor(0.0080, grad_fn=<MseLossBackward0>), tensor(0.0080, grad_fn=<MseLossBackward0>), tensor(0.0080, grad_fn=<MseLossBackward0>), tensor(0.0080, grad_fn=<MseLossBackward0>), tensor(0.0080, grad_fn=<MseLossBackward0>), tensor(0.0080, grad_fn=<MseLossBackward0>), tensor(0.0080, grad_fn=<MseLossBackward0>), tensor(0.0080, grad_fn=<MseLossBackward0>), tensor(0.0080, grad_fn=<MseLossBackward0>), tensor(0.0080, grad_fn=<MseLossBackward0>), tensor(0.0080, grad_fn=<MseLossBackward0>), tensor(0.0080, grad_fn=<MseLossBackward0>), tensor(0.0080, grad_fn=<MseLossBackward0>), tensor(0.0080, grad_fn=<MseLossBackward0>), tensor(0.0080, grad_fn=<MseLossBackward0>), tensor(0.0080, grad_fn=<MseLossBackward0>), tensor(0.0080, grad_fn=<MseLossBackward0>), tensor(0.0080, grad_fn=<MseLossBackward0>), tensor(0.0080, grad_fn=<MseLossBackward0>), tensor(0.0080, grad_fn=<MseLossBackward0>), tensor(0.0080, grad_fn=<MseLossBackward0>), tensor(0.0080, grad_fn=<MseLossBackward0>), tensor(0.0080, grad_fn=<MseLossBackward0>), tensor(0.0080, grad_fn=<MseLossBackward0>), tensor(0.0080, grad_fn=<MseLossBackward0>), tensor(0.0080, grad_fn=<MseLossBackward0>), tensor(0.0080, grad_fn=<MseLossBackward0>), tensor(0.0080, grad_fn=<MseLossBackward0>), tensor(0.0080, grad_fn=<MseLossBackward0>), tensor(0.0080, grad_fn=<MseLossBackward0>), tensor(0.0080, grad_fn=<MseLossBackward0>), tensor(0.0080, grad_fn=<MseLossBackward0>), tensor(0.0080, grad_fn=<MseLossBackward0>), tensor(0.0080, grad_fn=<MseLossBackward0>), tensor(0.0080, grad_fn=<MseLossBackward0>), tensor(0.0080, grad_fn=<MseLossBackward0>), tensor(0.0080, grad_fn=<MseLossBackward0>), tensor(0.0080, grad_fn=<MseLossBackward0>), tensor(0.0080, grad_fn=<MseLossBackward0>), tensor(0.0080, grad_fn=<MseLossBackward0>), tensor(0.0080, grad_fn=<MseLossBackward0>), tensor(0.0080, grad_fn=<MseLossBackward0>), tensor(0.0080, grad_fn=<MseLossBackward0>), tensor(0.0080, grad_fn=<MseLossBackward0>), tensor(0.0080, grad_fn=<MseLossBackward0>), tensor(0.0080, grad_fn=<MseLossBackward0>), tensor(0.0080, grad_fn=<MseLossBackward0>), tensor(0.0080, grad_fn=<MseLossBackward0>), tensor(0.0080, grad_fn=<MseLossBackward0>), tensor(0.0080, grad_fn=<MseLossBackward0>), tensor(0.0080, grad_fn=<MseLossBackward0>), tensor(0.0080, grad_fn=<MseLossBackward0>), tensor(0.0080, grad_fn=<MseLossBackward0>), tensor(0.0080, grad_fn=<MseLossBackward0>), tensor(0.0080, grad_fn=<MseLossBackward0>), tensor(0.0080, grad_fn=<MseLossBackward0>), tensor(0.0080, grad_fn=<MseLossBackward0>), tensor(0.0080, grad_fn=<MseLossBackward0>), tensor(0.0080, grad_fn=<MseLossBackward0>), tensor(0.0080, grad_fn=<MseLossBackward0>), tensor(0.0080, grad_fn=<MseLossBackward0>), tensor(0.0080, grad_fn=<MseLossBackward0>), tensor(0.0080, grad_fn=<MseLossBackward0>), tensor(0.0080, grad_fn=<MseLossBackward0>), tensor(0.0080, grad_fn=<MseLossBackward0>), tensor(0.0080, grad_fn=<MseLossBackward0>), tensor(0.0080, grad_fn=<MseLossBackward0>), tensor(0.0080, grad_fn=<MseLossBackward0>), tensor(0.0080, grad_fn=<MseLossBackward0>), tensor(0.0080, grad_fn=<MseLossBackward0>), tensor(0.0080, grad_fn=<MseLossBackward0>), tensor(0.0080, grad_fn=<MseLossBackward0>), tensor(0.0080, grad_fn=<MseLossBackward0>), tensor(0.0080, grad_fn=<MseLossBackward0>), tensor(0.0080, grad_fn=<MseLossBackward0>), tensor(0.0080, grad_fn=<MseLossBackward0>), tensor(0.0080, grad_fn=<MseLossBackward0>), tensor(0.0080, grad_fn=<MseLossBackward0>), tensor(0.0080, grad_fn=<MseLossBackward0>), tensor(0.0080, grad_fn=<MseLossBackward0>), tensor(0.0080, grad_fn=<MseLossBackward0>), tensor(0.0080, grad_fn=<MseLossBackward0>), tensor(0.0080, grad_fn=<MseLossBackward0>), tensor(0.0080, grad_fn=<MseLossBackward0>), tensor(0.0080, grad_fn=<MseLossBackward0>), tensor(0.0080, grad_fn=<MseLossBackward0>), tensor(0.0080, grad_fn=<MseLossBackward0>), tensor(0.0080, grad_fn=<MseLossBackward0>), tensor(0.0080, grad_fn=<MseLossBackward0>), tensor(0.0080, grad_fn=<MseLossBackward0>), tensor(0.0080, grad_fn=<MseLossBackward0>), tensor(0.0080, grad_fn=<MseLossBackward0>), tensor(0.0080, grad_fn=<MseLossBackward0>), tensor(0.0080, grad_fn=<MseLossBackward0>), tensor(0.0080, grad_fn=<MseLossBackward0>), tensor(0.0080, grad_fn=<MseLossBackward0>), tensor(0.0080, grad_fn=<MseLossBackward0>), tensor(0.0080, grad_fn=<MseLossBackward0>), tensor(0.0080, grad_fn=<MseLossBackward0>), tensor(0.0080, grad_fn=<MseLossBackward0>), tensor(0.0080, grad_fn=<MseLossBackward0>), tensor(0.0080, grad_fn=<MseLossBackward0>), tensor(0.0080, grad_fn=<MseLossBackward0>), tensor(0.0080, grad_fn=<MseLossBackward0>), tensor(0.0080, grad_fn=<MseLossBackward0>), tensor(0.0080, grad_fn=<MseLossBackward0>), tensor(0.0080, grad_fn=<MseLossBackward0>), tensor(0.0080, grad_fn=<MseLossBackward0>), tensor(0.0080, grad_fn=<MseLossBackward0>), tensor(0.0080, grad_fn=<MseLossBackward0>), tensor(0.0080, grad_fn=<MseLossBackward0>), tensor(0.0080, grad_fn=<MseLossBackward0>), tensor(0.0080, grad_fn=<MseLossBackward0>), tensor(0.0080, grad_fn=<MseLossBackward0>), tensor(0.0080, grad_fn=<MseLossBackward0>), tensor(0.0080, grad_fn=<MseLossBackward0>), tensor(0.0080, grad_fn=<MseLossBackward0>), tensor(0.0080, grad_fn=<MseLossBackward0>), tensor(0.0080, grad_fn=<MseLossBackward0>), tensor(0.0080, grad_fn=<MseLossBackward0>), tensor(0.0080, grad_fn=<MseLossBackward0>), tensor(0.0080, grad_fn=<MseLossBackward0>), tensor(0.0080, grad_fn=<MseLossBackward0>), tensor(0.0080, grad_fn=<MseLossBackward0>), tensor(0.0080, grad_fn=<MseLossBackward0>), tensor(0.0080, grad_fn=<MseLossBackward0>), tensor(0.0080, grad_fn=<MseLossBackward0>), tensor(0.0080, grad_fn=<MseLossBackward0>), tensor(0.0080, grad_fn=<MseLossBackward0>), tensor(0.0080, grad_fn=<MseLossBackward0>), tensor(0.0080, grad_fn=<MseLossBackward0>), tensor(0.0080, grad_fn=<MseLossBackward0>), tensor(0.0080, grad_fn=<MseLossBackward0>), tensor(0.0080, grad_fn=<MseLossBackward0>), tensor(0.0080, grad_fn=<MseLossBackward0>), tensor(0.0080, grad_fn=<MseLossBackward0>), tensor(0.0080, grad_fn=<MseLossBackward0>), tensor(0.0080, grad_fn=<MseLossBackward0>), tensor(0.0080, grad_fn=<MseLossBackward0>), tensor(0.0080, grad_fn=<MseLossBackward0>), tensor(0.0080, grad_fn=<MseLossBackward0>), tensor(0.0080, grad_fn=<MseLossBackward0>), tensor(0.0080, grad_fn=<MseLossBackward0>), tensor(0.0080, grad_fn=<MseLossBackward0>), tensor(0.0080, grad_fn=<MseLossBackward0>), tensor(0.0080, grad_fn=<MseLossBackward0>), tensor(0.0080, grad_fn=<MseLossBackward0>), tensor(0.0080, grad_fn=<MseLossBackward0>), tensor(0.0080, grad_fn=<MseLossBackward0>), tensor(0.0080, grad_fn=<MseLossBackward0>), tensor(0.0080, grad_fn=<MseLossBackward0>), tensor(0.0080, grad_fn=<MseLossBackward0>), tensor(0.0080, grad_fn=<MseLossBackward0>), tensor(0.0080, grad_fn=<MseLossBackward0>), tensor(0.0080, grad_fn=<MseLossBackward0>), tensor(0.0080, grad_fn=<MseLossBackward0>), tensor(0.0080, grad_fn=<MseLossBackward0>), tensor(0.0080, grad_fn=<MseLossBackward0>), tensor(0.0080, grad_fn=<MseLossBackward0>), tensor(0.0080, grad_fn=<MseLossBackward0>), tensor(0.0080, grad_fn=<MseLossBackward0>), tensor(0.0080, grad_fn=<MseLossBackward0>), tensor(0.0080, grad_fn=<MseLossBackward0>), tensor(0.0080, grad_fn=<MseLossBackward0>), tensor(0.0080, grad_fn=<MseLossBackward0>), tensor(0.0080, grad_fn=<MseLossBackward0>), tensor(0.0080, grad_fn=<MseLossBackward0>), tensor(0.0080, grad_fn=<MseLossBackward0>), tensor(0.0080, grad_fn=<MseLossBackward0>), tensor(0.0080, grad_fn=<MseLossBackward0>), tensor(0.0080, grad_fn=<MseLossBackward0>), tensor(0.0080, grad_fn=<MseLossBackward0>), tensor(0.0080, grad_fn=<MseLossBackward0>), tensor(0.0080, grad_fn=<MseLossBackward0>), tensor(0.0080, grad_fn=<MseLossBackward0>), tensor(0.0080, grad_fn=<MseLossBackward0>), tensor(0.0080, grad_fn=<MseLossBackward0>), tensor(0.0080, grad_fn=<MseLossBackward0>), tensor(0.0080, grad_fn=<MseLossBackward0>), tensor(0.0080, grad_fn=<MseLossBackward0>), tensor(0.0080, grad_fn=<MseLossBackward0>), tensor(0.0080, grad_fn=<MseLossBackward0>), tensor(0.0080, grad_fn=<MseLossBackward0>), tensor(0.0080, grad_fn=<MseLossBackward0>), tensor(0.0080, grad_fn=<MseLossBackward0>), tensor(0.0080, grad_fn=<MseLossBackward0>), tensor(0.0080, grad_fn=<MseLossBackward0>), tensor(0.0080, grad_fn=<MseLossBackward0>), tensor(0.0080, grad_fn=<MseLossBackward0>), tensor(0.0080, grad_fn=<MseLossBackward0>), tensor(0.0080, grad_fn=<MseLossBackward0>), tensor(0.0080, grad_fn=<MseLossBackward0>), tensor(0.0080, grad_fn=<MseLossBackward0>), tensor(0.0080, grad_fn=<MseLossBackward0>), tensor(0.0080, grad_fn=<MseLossBackward0>), tensor(0.0080, grad_fn=<MseLossBackward0>), tensor(0.0080, grad_fn=<MseLossBackward0>), tensor(0.0080, grad_fn=<MseLossBackward0>), tensor(0.0080, grad_fn=<MseLossBackward0>), tensor(0.0080, grad_fn=<MseLossBackward0>), tensor(0.0080, grad_fn=<MseLossBackward0>), tensor(0.0080, grad_fn=<MseLossBackward0>), tensor(0.0080, grad_fn=<MseLossBackward0>), tensor(0.0080, grad_fn=<MseLossBackward0>), tensor(0.0080, grad_fn=<MseLossBackward0>), tensor(0.0080, grad_fn=<MseLossBackward0>), tensor(0.0080, grad_fn=<MseLossBackward0>), tensor(0.0080, grad_fn=<MseLossBackward0>), tensor(0.0080, grad_fn=<MseLossBackward0>), tensor(0.0080, grad_fn=<MseLossBackward0>), tensor(0.0080, grad_fn=<MseLossBackward0>), tensor(0.0080, grad_fn=<MseLossBackward0>), tensor(0.0080, grad_fn=<MseLossBackward0>), tensor(0.0080, grad_fn=<MseLossBackward0>), tensor(0.0080, grad_fn=<MseLossBackward0>), tensor(0.0080, grad_fn=<MseLossBackward0>), tensor(0.0080, grad_fn=<MseLossBackward0>), tensor(0.0080, grad_fn=<MseLossBackward0>), tensor(0.0080, grad_fn=<MseLossBackward0>), tensor(0.0080, grad_fn=<MseLossBackward0>), tensor(0.0080, grad_fn=<MseLossBackward0>), tensor(0.0080, grad_fn=<MseLossBackward0>), tensor(0.0080, grad_fn=<MseLossBackward0>), tensor(0.0080, grad_fn=<MseLossBackward0>), tensor(0.0080, grad_fn=<MseLossBackward0>), tensor(0.0080, grad_fn=<MseLossBackward0>), tensor(0.0080, grad_fn=<MseLossBackward0>), tensor(0.0080, grad_fn=<MseLossBackward0>), tensor(0.0080, grad_fn=<MseLossBackward0>), tensor(0.0080, grad_fn=<MseLossBackward0>), tensor(0.0080, grad_fn=<MseLossBackward0>), tensor(0.0080, grad_fn=<MseLossBackward0>), tensor(0.0080, grad_fn=<MseLossBackward0>), tensor(0.0080, grad_fn=<MseLossBackward0>), tensor(0.0080, grad_fn=<MseLossBackward0>), tensor(0.0080, grad_fn=<MseLossBackward0>), tensor(0.0080, grad_fn=<MseLossBackward0>), tensor(0.0080, grad_fn=<MseLossBackward0>), tensor(0.0080, grad_fn=<MseLossBackward0>), tensor(0.0080, grad_fn=<MseLossBackward0>), tensor(0.0080, grad_fn=<MseLossBackward0>), tensor(0.0080, grad_fn=<MseLossBackward0>), tensor(0.0080, grad_fn=<MseLossBackward0>), tensor(0.0080, grad_fn=<MseLossBackward0>), tensor(0.0080, grad_fn=<MseLossBackward0>), tensor(0.0080, grad_fn=<MseLossBackward0>), tensor(0.0080, grad_fn=<MseLossBackward0>), tensor(0.0080, grad_fn=<MseLossBackward0>), tensor(0.0080, grad_fn=<MseLossBackward0>), tensor(0.0080, grad_fn=<MseLossBackward0>), tensor(0.0080, grad_fn=<MseLossBackward0>), tensor(0.0080, grad_fn=<MseLossBackward0>), tensor(0.0080, grad_fn=<MseLossBackward0>), tensor(0.0080, grad_fn=<MseLossBackward0>), tensor(0.0080, grad_fn=<MseLossBackward0>), tensor(0.0080, grad_fn=<MseLossBackward0>), tensor(0.0080, grad_fn=<MseLossBackward0>), tensor(0.0080, grad_fn=<MseLossBackward0>), tensor(0.0080, grad_fn=<MseLossBackward0>), tensor(0.0080, grad_fn=<MseLossBackward0>), tensor(0.0080, grad_fn=<MseLossBackward0>), tensor(0.0080, grad_fn=<MseLossBackward0>), tensor(0.0080, grad_fn=<MseLossBackward0>), tensor(0.0080, grad_fn=<MseLossBackward0>), tensor(0.0080, grad_fn=<MseLossBackward0>), tensor(0.0080, grad_fn=<MseLossBackward0>), tensor(0.0080, grad_fn=<MseLossBackward0>), tensor(0.0080, grad_fn=<MseLossBackward0>), tensor(0.0080, grad_fn=<MseLossBackward0>), tensor(0.0080, grad_fn=<MseLossBackward0>), tensor(0.0080, grad_fn=<MseLossBackward0>), tensor(0.0080, grad_fn=<MseLossBackward0>), tensor(0.0080, grad_fn=<MseLossBackward0>), tensor(0.0080, grad_fn=<MseLossBackward0>), tensor(0.0080, grad_fn=<MseLossBackward0>), tensor(0.0080, grad_fn=<MseLossBackward0>), tensor(0.0080, grad_fn=<MseLossBackward0>), tensor(0.0080, grad_fn=<MseLossBackward0>), tensor(0.0080, grad_fn=<MseLossBackward0>), tensor(0.0080, grad_fn=<MseLossBackward0>), tensor(0.0080, grad_fn=<MseLossBackward0>), tensor(0.0080, grad_fn=<MseLossBackward0>), tensor(0.0080, grad_fn=<MseLossBackward0>), tensor(0.0080, grad_fn=<MseLossBackward0>), tensor(0.0080, grad_fn=<MseLossBackward0>), tensor(0.0080, grad_fn=<MseLossBackward0>), tensor(0.0080, grad_fn=<MseLossBackward0>), tensor(0.0080, grad_fn=<MseLossBackward0>), tensor(0.0080, grad_fn=<MseLossBackward0>), tensor(0.0080, grad_fn=<MseLossBackward0>), tensor(0.0080, grad_fn=<MseLossBackward0>), tensor(0.0080, grad_fn=<MseLossBackward0>), tensor(0.0080, grad_fn=<MseLossBackward0>), tensor(0.0080, grad_fn=<MseLossBackward0>), tensor(0.0080, grad_fn=<MseLossBackward0>), tensor(0.0080, grad_fn=<MseLossBackward0>), tensor(0.0080, grad_fn=<MseLossBackward0>), tensor(0.0080, grad_fn=<MseLossBackward0>), tensor(0.0080, grad_fn=<MseLossBackward0>), tensor(0.0080, grad_fn=<MseLossBackward0>), tensor(0.0080, grad_fn=<MseLossBackward0>), tensor(0.0080, grad_fn=<MseLossBackward0>), tensor(0.0080, grad_fn=<MseLossBackward0>), tensor(0.0080, grad_fn=<MseLossBackward0>), tensor(0.0080, grad_fn=<MseLossBackward0>), tensor(0.0080, grad_fn=<MseLossBackward0>), tensor(0.0080, grad_fn=<MseLossBackward0>), tensor(0.0080, grad_fn=<MseLossBackward0>), tensor(0.0080, grad_fn=<MseLossBackward0>), tensor(0.0080, grad_fn=<MseLossBackward0>), tensor(0.0080, grad_fn=<MseLossBackward0>), tensor(0.0080, grad_fn=<MseLossBackward0>), tensor(0.0080, grad_fn=<MseLossBackward0>), tensor(0.0080, grad_fn=<MseLossBackward0>), tensor(0.0080, grad_fn=<MseLossBackward0>), tensor(0.0080, grad_fn=<MseLossBackward0>), tensor(0.0080, grad_fn=<MseLossBackward0>), tensor(0.0080, grad_fn=<MseLossBackward0>), tensor(0.0080, grad_fn=<MseLossBackward0>), tensor(0.0080, grad_fn=<MseLossBackward0>), tensor(0.0080, grad_fn=<MseLossBackward0>), tensor(0.0080, grad_fn=<MseLossBackward0>), tensor(0.0080, grad_fn=<MseLossBackward0>), tensor(0.0080, grad_fn=<MseLossBackward0>), tensor(0.0080, grad_fn=<MseLossBackward0>), tensor(0.0080, grad_fn=<MseLossBackward0>), tensor(0.0080, grad_fn=<MseLossBackward0>), tensor(0.0080, grad_fn=<MseLossBackward0>), tensor(0.0080, grad_fn=<MseLossBackward0>), tensor(0.0080, grad_fn=<MseLossBackward0>), tensor(0.0080, grad_fn=<MseLossBackward0>), tensor(0.0080, grad_fn=<MseLossBackward0>), tensor(0.0080, grad_fn=<MseLossBackward0>), tensor(0.0080, grad_fn=<MseLossBackward0>), tensor(0.0080, grad_fn=<MseLossBackward0>), tensor(0.0080, grad_fn=<MseLossBackward0>), tensor(0.0080, grad_fn=<MseLossBackward0>), tensor(0.0080, grad_fn=<MseLossBackward0>), tensor(0.0080, grad_fn=<MseLossBackward0>), tensor(0.0080, grad_fn=<MseLossBackward0>), tensor(0.0080, grad_fn=<MseLossBackward0>), tensor(0.0080, grad_fn=<MseLossBackward0>), tensor(0.0080, grad_fn=<MseLossBackward0>), tensor(0.0080, grad_fn=<MseLossBackward0>), tensor(0.0080, grad_fn=<MseLossBackward0>), tensor(0.0080, grad_fn=<MseLossBackward0>), tensor(0.0080, grad_fn=<MseLossBackward0>), tensor(0.0080, grad_fn=<MseLossBackward0>), tensor(0.0080, grad_fn=<MseLossBackward0>), tensor(0.0080, grad_fn=<MseLossBackward0>), tensor(0.0080, grad_fn=<MseLossBackward0>), tensor(0.0080, grad_fn=<MseLossBackward0>), tensor(0.0080, grad_fn=<MseLossBackward0>), tensor(0.0080, grad_fn=<MseLossBackward0>), tensor(0.0080, grad_fn=<MseLossBackward0>), tensor(0.0080, grad_fn=<MseLossBackward0>), tensor(0.0080, grad_fn=<MseLossBackward0>), tensor(0.0080, grad_fn=<MseLossBackward0>), tensor(0.0080, grad_fn=<MseLossBackward0>), tensor(0.0080, grad_fn=<MseLossBackward0>), tensor(0.0080, grad_fn=<MseLossBackward0>), tensor(0.0080, grad_fn=<MseLossBackward0>), tensor(0.0080, grad_fn=<MseLossBackward0>), tensor(0.0080, grad_fn=<MseLossBackward0>), tensor(0.0080, grad_fn=<MseLossBackward0>), tensor(0.0080, grad_fn=<MseLossBackward0>), tensor(0.0080, grad_fn=<MseLossBackward0>), tensor(0.0080, grad_fn=<MseLossBackward0>), tensor(0.0080, grad_fn=<MseLossBackward0>), tensor(0.0080, grad_fn=<MseLossBackward0>), tensor(0.0080, grad_fn=<MseLossBackward0>), tensor(0.0080, grad_fn=<MseLossBackward0>), tensor(0.0080, grad_fn=<MseLossBackward0>), tensor(0.0080, grad_fn=<MseLossBackward0>), tensor(0.0080, grad_fn=<MseLossBackward0>), tensor(0.0080, grad_fn=<MseLossBackward0>), tensor(0.0080, grad_fn=<MseLossBackward0>), tensor(0.0080, grad_fn=<MseLossBackward0>), tensor(0.0080, grad_fn=<MseLossBackward0>), tensor(0.0080, grad_fn=<MseLossBackward0>), tensor(0.0080, grad_fn=<MseLossBackward0>), tensor(0.0080, grad_fn=<MseLossBackward0>), tensor(0.0080, grad_fn=<MseLossBackward0>), tensor(0.0080, grad_fn=<MseLossBackward0>), tensor(0.0080, grad_fn=<MseLossBackward0>), tensor(0.0080, grad_fn=<MseLossBackward0>), tensor(0.0080, grad_fn=<MseLossBackward0>), tensor(0.0080, grad_fn=<MseLossBackward0>), tensor(0.0080, grad_fn=<MseLossBackward0>), tensor(0.0080, grad_fn=<MseLossBackward0>), tensor(0.0080, grad_fn=<MseLossBackward0>)]\n",
      "OrderedDict([('weight', tensor([[2.0310]])), ('bias', tensor([0.9765]))])\n"
     ]
    }
   ],
   "source": [
    "losses = []\n",
    "epochs = 1000\n",
    "for _ in range(epochs):\n",
    "    losss = performer_train_step(x_train_tensor, y_train_tensor)\n",
    "    losses.append(loss)\n",
    "print(losses)\n",
    "print(model.state_dict())"
   ]
  },
  {
   "cell_type": "code",
   "execution_count": 18,
   "metadata": {},
   "outputs": [],
   "source": [
    "class CustomDataset(Dataset):\n",
    "    def __init__(self, x, y):\n",
    "        self.x = x\n",
    "        self.y = y\n",
    "    def __getitem__(self, index):\n",
    "        return(self.x[index], self.y[index])\n",
    "    def __len__(self):\n",
    "        return len(self.x)"
   ]
  },
  {
   "cell_type": "code",
   "execution_count": 21,
   "metadata": {},
   "outputs": [
    {
     "name": "stdout",
     "output_type": "stream",
     "text": [
      "(tensor([0.7713]), tensor([2.6105]))\n"
     ]
    }
   ],
   "source": [
    "x_train_tensor = torch.as_tensor(x_train).float().to(device)\n",
    "y_train_tensor = torch.as_tensor(y_train).float().to(device)\n",
    "train_data = CustomDataset(x_train_tensor, y_train_tensor)\n",
    "print(train_data[0])"
   ]
  },
  {
   "cell_type": "code",
   "execution_count": null,
   "metadata": {},
   "outputs": [],
   "source": []
  }
 ],
 "metadata": {
  "kernelspec": {
   "display_name": "Python 3",
   "language": "python",
   "name": "python3"
  },
  "language_info": {
   "codemirror_mode": {
    "name": "ipython",
    "version": 3
   },
   "file_extension": ".py",
   "mimetype": "text/x-python",
   "name": "python",
   "nbconvert_exporter": "python",
   "pygments_lexer": "ipython3",
   "version": "3.10.9"
  }
 },
 "nbformat": 4,
 "nbformat_minor": 2
}
