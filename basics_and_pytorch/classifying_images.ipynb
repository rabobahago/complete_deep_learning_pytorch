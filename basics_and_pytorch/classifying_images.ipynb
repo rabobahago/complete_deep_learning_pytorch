{
 "cells": [
  {
   "cell_type": "code",
   "execution_count": 24,
   "metadata": {},
   "outputs": [],
   "source": [
    "import random\n",
    "import numpy as np\n",
    "from PIL import Image\n",
    "import torch\n",
    "import torch.optim as optim\n",
    "import torch.nn as nn\n",
    "import torch.nn.functional as F\n",
    "from torch.utils.data import DataLoader, Dataset, random_split, WeightedRandomSampler, SubsetRandomSampler\n",
    "from torchvision.transforms import Compose, ToPILImage, ToTensor, Normalize, RandomHorizontalFlip, Resize\n",
    "import matplotlib.pyplot as plt\n",
    "plt.style.use('fivethirtyeight')\n",
    "%matplotlib inline\n",
    "\n",
    "import numpy as np\n",
    "\n",
    "def generate_dataset(img_size, n_images, binary=True, seed=None):\n",
    "    if seed is not None:\n",
    "        np.random.seed(seed)\n",
    "    images = np.random.rand(n_images, img_size, img_size)\n",
    "    if binary:\n",
    "        images = (images > 0.5).astype(int)\n",
    "    labels = np.random.randint(0, 2, n_images)\n",
    "    return images, labels\n",
    "\n",
    "# Now you can call the function\n",
    "images, labels = generate_dataset(img_size=5, n_images=300, binary=True, seed=13)\n"
   ]
  },
  {
   "cell_type": "code",
   "execution_count": 23,
   "metadata": {},
   "outputs": [
    {
     "data": {
      "image/png": "[encoded data removed]",
      "text/plain": [
       "<Figure size 1000x1000 with 30 Axes>"
      ]
     },
     "metadata": {},
     "output_type": "display_data"
    }
   ],
   "source": [
    "import matplotlib.pyplot as plt\n",
    "\n",
    "def plot_images(images, labels, n_plot=30):\n",
    "    plt.figure(figsize=(10, 10))\n",
    "    for i in range(n_plot):\n",
    "        plt.subplot(6, 6, i + 1)\n",
    "        plt.imshow(images[i], cmap='gray')\n",
    "        plt.title(f'Label: {labels[i]}')\n",
    "        plt.axis('off')\n",
    "    plt.tight_layout()\n",
    "    plt.show()\n",
    "\n",
    "# Now you can call the function\n",
    "fig = plot_images(images, labels, n_plot=30)\n"
   ]
  },
  {
   "cell_type": "code",
   "execution_count": 22,
   "metadata": {},
   "outputs": [
    {
     "name": "stdout",
     "output_type": "stream",
     "text": [
      "[[0 0 0 0 0]\n",
      " [0 0 0 0 0]\n",
      " [0 0 0 0 0]\n",
      " [0 0 0 0 0]\n",
      " [0 0 0 0 0]]\n",
      "[[255   0   0   0   0]\n",
      " [255   0   0   0   0]\n",
      " [255   0   0   0   0]\n",
      " [255   0   0   0   0]\n",
      " [255   0   0   0   0]]\n",
      "[[255 128   0   0   0]\n",
      " [255 128   0   0   0]\n",
      " [255 128   0   0   0]\n",
      " [255 128   0   0   0]\n",
      " [255 128   0   0   0]]\n"
     ]
    }
   ],
   "source": [
    "images_r = np.zeros((5, 5), dtype=np.uint8)\n",
    "print(images_r)\n",
    "images_r[:, 0] = 255\n",
    "print(images_r)\n",
    "images_r[:, 1] = 128\n",
    "print(images_r)"
   ]
  },
  {
   "cell_type": "code",
   "execution_count": 20,
   "metadata": {},
   "outputs": [
    {
     "name": "stdout",
     "output_type": "stream",
     "text": [
      "[[0 0 0 0 0]\n",
      " [0 0 0 0 0]\n",
      " [0 0 0 0 0]\n",
      " [0 0 0 0 0]\n",
      " [0 0 0 0 0]]\n",
      "[[  0 128   0   0   0]\n",
      " [  0 128   0   0   0]\n",
      " [  0 128   0   0   0]\n",
      " [  0 128   0   0   0]\n",
      " [  0 128   0   0   0]]\n",
      "[[  0 128 255   0   0]\n",
      " [  0 128 255   0   0]\n",
      " [  0 128 255   0   0]\n",
      " [  0 128 255   0   0]\n",
      " [  0 128 255   0   0]]\n",
      "[[  0 128 255 128   0]\n",
      " [  0 128 255 128   0]\n",
      " [  0 128 255 128   0]\n",
      " [  0 128 255 128   0]\n",
      " [  0 128 255 128   0]]\n"
     ]
    }
   ],
   "source": [
    "images_g = np.zeros((5, 5), dtype=np.uint8)\n",
    "print(images_g)\n",
    "images_g[:, 1] = 128\n",
    "print(images_g)\n",
    "images_g[:, 2] = 255\n",
    "print(images_g)\n",
    "images_g[:, 3] = 128\n",
    "print(images_g)"
   ]
  },
  {
   "cell_type": "code",
   "execution_count": 19,
   "metadata": {},
   "outputs": [
    {
     "name": "stdout",
     "output_type": "stream",
     "text": [
      "[[  0   0   0 128   0]\n",
      " [  0   0   0 128   0]\n",
      " [  0   0   0 128   0]\n",
      " [  0   0   0 128   0]\n",
      " [  0   0   0 128   0]]\n",
      "[[  0   0   0 128 255]\n",
      " [  0   0   0 128 255]\n",
      " [  0   0   0 128 255]\n",
      " [  0   0   0 128 255]\n",
      " [  0   0   0 128 255]]\n"
     ]
    }
   ],
   "source": [
    "images_b = np.zeros((5, 5), dtype=np.uint8)\n",
    "images_b[:, 3] = 128\n",
    "print(images_b)\n",
    "images_b[:, 4] = 255\n",
    "print(images_b)"
   ]
  },
  {
   "cell_type": "code",
   "execution_count": 25,
   "metadata": {},
   "outputs": [
    {
     "name": "stdout",
     "output_type": "stream",
     "text": [
      "[[ 54.213  118.7584 182.376  100.7872  18.411 ]\n",
      " [ 54.213  118.7584 182.376  100.7872  18.411 ]\n",
      " [ 54.213  118.7584 182.376  100.7872  18.411 ]\n",
      " [ 54.213  118.7584 182.376  100.7872  18.411 ]\n",
      " [ 54.213  118.7584 182.376  100.7872  18.411 ]]\n"
     ]
    }
   ],
   "source": [
    "images_gray = 0.2126 * images_r + 0.7152 * images_g + 0.0722 * images_b\n",
    "print(images_gray)"
   ]
  },
  {
   "cell_type": "code",
   "execution_count": 32,
   "metadata": {},
   "outputs": [
    {
     "data": {
      "text/plain": [
       "array([[[255,   0,   0],\n",
       "        [128, 128,   0],\n",
       "        [  0, 255,   0],\n",
       "        [  0, 128, 128],\n",
       "        [  0,   0, 255]],\n",
       "\n",
       "       [[255,   0,   0],\n",
       "        [128, 128,   0],\n",
       "        [  0, 255,   0],\n",
       "        [  0, 128, 128],\n",
       "        [  0,   0, 255]],\n",
       "\n",
       "       [[255,   0,   0],\n",
       "        [128, 128,   0],\n",
       "        [  0, 255,   0],\n",
       "        [  0, 128, 128],\n",
       "        [  0,   0, 255]],\n",
       "\n",
       "       [[255,   0,   0],\n",
       "        [128, 128,   0],\n",
       "        [  0, 255,   0],\n",
       "        [  0, 128, 128],\n",
       "        [  0,   0, 255]],\n",
       "\n",
       "       [[255,   0,   0],\n",
       "        [128, 128,   0],\n",
       "        [  0, 255,   0],\n",
       "        [  0, 128, 128],\n",
       "        [  0,   0, 255]]], dtype=uint8)"
      ]
     },
     "execution_count": 32,
     "metadata": {},
     "output_type": "execute_result"
    }
   ],
   "source": [
    "image_rgb = np.stack([images_r, images_g, images_b], axis=2)\n",
    "image_rgb"
   ]
  },
  {
   "cell_type": "code",
   "execution_count": 8,
   "metadata": {},
   "outputs": [
    {
     "data": {
      "text/plain": [
       "(300, 5, 5)"
      ]
     },
     "execution_count": 8,
     "metadata": {},
     "output_type": "execute_result"
    }
   ],
   "source": [
    "images.shape"
   ]
  },
  {
   "cell_type": "code",
   "execution_count": 10,
   "metadata": {},
   "outputs": [
    {
     "data": {
      "text/plain": [
       "array([[1, 0, 0, 0, 1],\n",
       "       [0, 1, 1, 0, 0],\n",
       "       [0, 1, 1, 0, 0],\n",
       "       [0, 0, 0, 1, 0],\n",
       "       [1, 1, 1, 0, 0]])"
      ]
     },
     "execution_count": 10,
     "metadata": {},
     "output_type": "execute_result"
    }
   ],
   "source": [
    "examples = images[7]\n",
    "examples"
   ]
  },
  {
   "cell_type": "code",
   "execution_count": 15,
   "metadata": {},
   "outputs": [
    {
     "name": "stdout",
     "output_type": "stream",
     "text": [
      "<class 'PIL.Image.Image'>\n"
     ]
    }
   ],
   "source": [
    "examples_img = ToPILImage()(examples)\n",
    "print(type(examples_img))"
   ]
  },
  {
   "cell_type": "code",
   "execution_count": 17,
   "metadata": {},
   "outputs": [
    {
     "data": {
      "image/png": "[encoded data removed]",
      "text/plain": [
       "<Figure size 640x480 with 1 Axes>"
      ]
     },
     "metadata": {},
     "output_type": "display_data"
    }
   ],
   "source": [
    "plt.imshow(examples_img, cmap='gray')\n",
    "plt.grid(False)"
   ]
  },
  {
   "cell_type": "code",
   "execution_count": null,
   "metadata": {},
   "outputs": [],
   "source": []
  }
 ],
 "metadata": {
  "kernelspec": {
   "display_name": "Python 3",
   "language": "python",
   "name": "python3"
  },
  "language_info": {
   "codemirror_mode": {
    "name": "ipython",
    "version": 3
   },
   "file_extension": ".py",
   "mimetype": "text/x-python",
   "name": "python",
   "nbconvert_exporter": "python",
   "pygments_lexer": "ipython3",
   "version": "3.10.9"
  }
 },
 "nbformat": 4,
 "nbformat_minor": 2
}
